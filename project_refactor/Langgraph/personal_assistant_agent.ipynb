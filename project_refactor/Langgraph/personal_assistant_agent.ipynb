{
 "cells": [
  {
   "cell_type": "code",
   "execution_count": 1,
   "id": "b87731e6",
   "metadata": {},
   "outputs": [],
   "source": [
    "import os \n",
    "import getpass\n",
    "from typing import Annotated, Dict, List, Any\n",
    "from typing_extensions import TypedDict\n",
    "\n",
    "def setup_environment():\n",
    "    \"\"\"Setup your API KEYs\"\"\"\n",
    "    if not os.environ.get(\"OPENAI_API_KEY\"):\n",
    "        openai_key = getpass.getpass(\"Enter your OPENAI API KEY\")\n",
    "        os.environ[\"OPENAI_API_KEY\"] = openai_key\n",
    "\n",
    "    if not os.environ.get(\"LANGSMITH_API_KEY\"):\n",
    "        langsmith_key = getpass.getpass(\"ENTER your LAngsmith API KEY\")\n",
    "        if langsmith_key:\n",
    "            os.environ[\"LANGSMITH_API_KEY\"] = langsmith_key\n",
    "            os.environ[\"LANGCHAIN_TRACING_V2\"] =\"true\"\n",
    "            os.environ[\"LANGCHAIN_PROJECT\"] = \"Langgraph tutorial\"\n",
    "        else:\n",
    "            print(\"skipping langsmith set up\")\n",
    "\n",
    "\n",
    "    print(\"Envioenment setup completed\")"
   ]
  },
  {
   "cell_type": "markdown",
   "id": "c9eb7136",
   "metadata": {},
   "source": [
    "    Task:\n",
    "    Create a Personal Assistant Agent that can:\n",
    "    Have basic conversations\n",
    "    Remember user's name and preferences across sessions\n",
    "    Perform simple calculations\n",
    "    Tell current time/date"
   ]
  },
  {
   "cell_type": "code",
   "execution_count": 2,
   "id": "21981956",
   "metadata": {},
   "outputs": [
    {
     "name": "stdout",
     "output_type": "stream",
     "text": [
      "Envioenment setup completed\n"
     ]
    }
   ],
   "source": [
    "setup_environment()"
   ]
  },
  {
   "cell_type": "code",
   "execution_count": 3,
   "id": "565b6b55",
   "metadata": {},
   "outputs": [],
   "source": [
    "from langgraph.graph import StateGraph , START, END\n",
    "from langgraph.graph.message import add_messages\n",
    "from langchain_core.messages import HumanMessage, AIMessage\n",
    "from langchain_core.tools import tool\n",
    "from langgraph.prebuilt import ToolNode, tools_condition\n",
    "from typing import TypedDict, Annotated \n",
    "from langchain_openai import ChatOpenAI\n",
    "from langgraph.checkpoint.memory import InMemorySaver\n",
    "import datetime\n",
    "import math\n",
    "\n",
    "\n",
    "class State(TypedDict):\n",
    "    # messages will store our conversation history\n",
    "    ### add_messages is a special function  that append new message instead of replacing them\n",
    "\n",
    "    messages: Annotated[list, add_messages]\n"
   ]
  },
  {
   "cell_type": "code",
   "execution_count": 4,
   "id": "4ec1cff9",
   "metadata": {},
   "outputs": [
    {
     "name": "stdout",
     "output_type": "stream",
     "text": [
      "CPU times: user 84.4 ms, sys: 11.7 ms, total: 96.1 ms\n",
      "Wall time: 3.2 s\n"
     ]
    },
    {
     "data": {
      "text/plain": [
       "\"The NASDAQ Index, often referred to as the NASDAQ Composite Index, is a stock market index that includes almost all stocks listed on the NASDAQ stock exchange. It is one of the most widely followed indices in the United States and globally, particularly for technology and internet-based companies. The index is market capitalization-weighted, meaning that companies with larger market capitalizations have a greater impact on the index's performance.\\n\\nThe NASDAQ Composite includes a diverse range of sectors, but it is heavily weighted towards technology companies, which distinguishes it from other indices like the Dow Jones Industrial Average or the S&P 500. Some of the largest and most influential companies in the world, such as Apple, Microsoft, Amazon, and Alphabet (Google), are listed on the NASDAQ, contributing significantly to its movements.\\n\\nIn addition to the NASDAQ Composite, there are other indices associated with the NASDAQ, such as the NASDAQ-100, which includes 100 of the largest non-financial companies listed on the NASDAQ stock exchange.\""
      ]
     },
     "execution_count": 4,
     "metadata": {},
     "output_type": "execute_result"
    }
   ],
   "source": [
    "\n",
    "%%time\n",
    "llm = ChatOpenAI(\n",
    "    model = \"gpt-4o\",\n",
    "    temperature= 1.0,\n",
    "    top_p = 0.50\n",
    "\n",
    ")\n",
    "\n",
    "llm.invoke(\"what is nasdq index\").content"
   ]
  },
  {
   "cell_type": "code",
   "execution_count": 5,
   "id": "2ca1e246",
   "metadata": {},
   "outputs": [],
   "source": [
    "@tool\n",
    "def get_current_time() -> str:\n",
    "    \"\"\"Get the current time and date.\"\"\"\n",
    "    return f\"Current time is {datetime.datetime.now().strftime('%Y-%m-%d %H:%M:%S')}\"\n",
    "\n",
    "@tool\n",
    "def calculator(expression: str) -> str:\n",
    "    \"\"\"\n",
    "    Evaluate a mathematical expression safely.\n",
    "    \n",
    "    Args:\n",
    "        expression: A mathematical expression to evaluate (e.g., \"2 + 3 * 4\")\n",
    "        \n",
    "    Returns:\n",
    "        The result of the calculation\n",
    "    \"\"\"\n",
    "    try:\n",
    "        # Safe evaluation of mathematical expressions\n",
    "        # Only allow basic math operations\n",
    "        allowed_names = {\n",
    "            k: v for k, v in math.__dict__.items() if not k.startswith(\"__\")\n",
    "        }\n",
    "        allowed_names.update({\"abs\": abs, \"round\": round})\n",
    "        \n",
    "        result = eval(expression, {\"__builtins__\": {}}, allowed_names)\n",
    "        return f\"The result of {expression} is {result}\"\n",
    "    except Exception as e:\n",
    "        return f\"Error calculating {expression}: {str(e)}\"\n"
   ]
  },
  {
   "cell_type": "code",
   "execution_count": 6,
   "id": "4b0bba23",
   "metadata": {},
   "outputs": [],
   "source": [
    "tools = [get_current_time, calculator]\n",
    "\n",
    "llm_with_tools = llm.bind_tools(tools)\n",
    "\n",
    "def chatbot(state):\n",
    "    return {\"messages\": [llm_with_tools.invoke(state[\"messages\"])]}\n",
    "\n",
    "\n",
    "  "
   ]
  },
  {
   "cell_type": "code",
   "execution_count": 7,
   "id": "37a60a0a",
   "metadata": {},
   "outputs": [
    {
     "data": {
      "text/plain": [
       "AIMessage(content='', additional_kwargs={'tool_calls': [{'id': 'call_enJC2WnppAapyMCYSl2T56QC', 'function': {'arguments': '{}', 'name': 'get_current_time'}, 'type': 'function'}], 'refusal': None}, response_metadata={'token_usage': {'completion_tokens': 11, 'prompt_tokens': 95, 'total_tokens': 106, 'completion_tokens_details': {'accepted_prediction_tokens': 0, 'audio_tokens': 0, 'reasoning_tokens': 0, 'rejected_prediction_tokens': 0}, 'prompt_tokens_details': {'audio_tokens': 0, 'cached_tokens': 0}}, 'model_name': 'gpt-4o-2024-08-06', 'system_fingerprint': None, 'id': 'chatcmpl-BuxWvOKCDPrgGlrK5bQj4kAM5dLSA', 'service_tier': 'default', 'finish_reason': 'tool_calls', 'logprobs': None}, id='run--dd9e169b-9030-4c5c-9957-447365709f91-0', tool_calls=[{'name': 'get_current_time', 'args': {}, 'id': 'call_enJC2WnppAapyMCYSl2T56QC', 'type': 'tool_call'}], usage_metadata={'input_tokens': 95, 'output_tokens': 11, 'total_tokens': 106, 'input_token_details': {'audio': 0, 'cache_read': 0}, 'output_token_details': {'audio': 0, 'reasoning': 0}})"
      ]
     },
     "execution_count": 7,
     "metadata": {},
     "output_type": "execute_result"
    }
   ],
   "source": [
    "llm_with_tools.invoke(\"what is the current time?\")"
   ]
  },
  {
   "cell_type": "markdown",
   "id": "8079977d",
   "metadata": {},
   "source": [
    "### Using an In-Memory Checkpointer (Ephemeral Memory)\n",
    "\n",
    "This setup uses LangGraph's built-in in-memory checkpointer. It stores conversation state in memory only (not persisted to disk)\n",
    "This allows multi-turn conversations within a running program, but the memory resets when the program stops."
   ]
  },
  {
   "cell_type": "code",
   "execution_count": 8,
   "id": "92b6c75b",
   "metadata": {},
   "outputs": [
    {
     "data": {
      "image/png": "[encoded data removed]",
      "text/plain": [
       "<IPython.core.display.Image object>"
      ]
     },
     "metadata": {},
     "output_type": "display_data"
    }
   ],
   "source": [
    "\n",
    "# Initialize memory checkpoint\n",
    "checkpointer = InMemorySaver()\n",
    "# memory = MemorySaver(State)\n",
    "graph_builder = StateGraph(State)\n",
    "graph_builder.add_node(\"personal_assistant\", chatbot)\n",
    "tools = ToolNode(tools)\n",
    "graph_builder.add_node(\"tools\", tools)\n",
    "graph_builder.add_edge(START, \"personal_assistant\")\n",
    "graph_builder.add_conditional_edges(\"personal_assistant\", tools_condition)\n",
    "graph_builder.add_edge(\"tools\",\"personal_assistant\")\n",
    "graph = graph_builder.compile(checkpointer=checkpointer)\n",
    "# graph = graph_builder.compile()\n",
    "\n",
    "\n",
    "\n",
    "from IPython.display import Image, display\n",
    "\n",
    "try:\n",
    "    display(Image(graph.get_graph().draw_mermaid_png()))\n",
    "except Exception:\n",
    "    # This requires some extra dependencies and is optional\n",
    "    pass\n",
    "\n",
    "\n"
   ]
  },
  {
   "cell_type": "code",
   "execution_count": 10,
   "id": "afad7ea6",
   "metadata": {},
   "outputs": [],
   "source": [
    "config = {\"configurable\": {\"thread_id\": \"1\"}}\n",
    "# graph.invoke({\"messages\":[{\"role\":'user',\"content\":\"Hello! my name is amit I take lectures on BIA, also I like to Play Badminton\"}]}, config)"
   ]
  },
  {
   "cell_type": "code",
   "execution_count": 10,
   "id": "37ee8529",
   "metadata": {},
   "outputs": [
    {
     "data": {
      "text/plain": [
       "{'messages': [HumanMessage(content='I have many students who are quite bright theres names are Vijay, Pooja, Gautam, Omjee', additional_kwargs={}, response_metadata={}, id='70b8c76e-14ea-4c4c-aed7-26d90b6ba615'),\n",
       "  AIMessage(content=\"It's great to hear that you have a group of bright students! If there's anything specific you'd like to know or discuss about them, feel free to let me know.\", additional_kwargs={'refusal': None}, response_metadata={'token_usage': {'completion_tokens': 34, 'prompt_tokens': 111, 'total_tokens': 145, 'completion_tokens_details': {'accepted_prediction_tokens': 0, 'audio_tokens': 0, 'reasoning_tokens': 0, 'rejected_prediction_tokens': 0}, 'prompt_tokens_details': {'audio_tokens': 0, 'cached_tokens': 0}}, 'model_name': 'gpt-4o-2024-08-06', 'system_fingerprint': None, 'id': 'chatcmpl-BuxW82YxUeVQeP4KvWPQFst5mqfes', 'service_tier': 'default', 'finish_reason': 'stop', 'logprobs': None}, id='run--efaf93df-d187-48c6-8e45-291c5bd4152c-0', usage_metadata={'input_tokens': 111, 'output_tokens': 34, 'total_tokens': 145, 'input_token_details': {'audio': 0, 'cache_read': 0}, 'output_token_details': {'audio': 0, 'reasoning': 0}})]}"
      ]
     },
     "execution_count": 10,
     "metadata": {},
     "output_type": "execute_result"
    }
   ],
   "source": [
    "graph.invoke({\"messages\":[{\"role\":\"user\",\"content\": \"I have many students who are quite bright theres names are Vijay, Pooja, Gautam, Omjee\"}]}, config)"
   ]
  },
  {
   "cell_type": "code",
   "execution_count": 11,
   "id": "44dde6a9",
   "metadata": {},
   "outputs": [
    {
     "data": {
      "text/plain": [
       "{'messages': [HumanMessage(content='do you remember my bright students?', additional_kwargs={}, response_metadata={}, id='aeebefea-2c0f-4f42-bc9b-68b65f5822f0'),\n",
       "  AIMessage(content=\"I'm sorry, but I don't have access to personal data about individuals unless it has been shared with me in the course of our conversation. I am designed to respect user privacy and confidentiality. If you have any specific questions or need assistance, feel free to let me know!\", additional_kwargs={'refusal': None}, response_metadata={'token_usage': {'completion_tokens': 55, 'prompt_tokens': 96, 'total_tokens': 151, 'completion_tokens_details': {'accepted_prediction_tokens': 0, 'audio_tokens': 0, 'reasoning_tokens': 0, 'rejected_prediction_tokens': 0}, 'prompt_tokens_details': {'audio_tokens': 0, 'cached_tokens': 0}}, 'model_name': 'gpt-4o-2024-08-06', 'system_fingerprint': None, 'id': 'chatcmpl-BuxXECCNasP4KbtNaHOKuzdeXLIKf', 'service_tier': 'default', 'finish_reason': 'stop', 'logprobs': None}, id='run--41b07fa3-07b2-4bf5-a525-f05be466ba01-0', usage_metadata={'input_tokens': 96, 'output_tokens': 55, 'total_tokens': 151, 'input_token_details': {'audio': 0, 'cache_read': 0}, 'output_token_details': {'audio': 0, 'reasoning': 0}})]}"
      ]
     },
     "execution_count": 11,
     "metadata": {},
     "output_type": "execute_result"
    }
   ],
   "source": [
    "graph.invoke({\"messages\":[{\"role\":\"user\",\"content\": \"do you remember my bright students?\"}]}, config)"
   ]
  },
  {
   "cell_type": "code",
   "execution_count": 12,
   "id": "fa012f23",
   "metadata": {},
   "outputs": [
    {
     "data": {
      "text/plain": [
       "{'messages': [HumanMessage(content='Hello! my name is amit I take lectures on BIA, also I like to Play Badminton', additional_kwargs={}, response_metadata={}, id='1bc6008f-3d5b-43cc-9465-2dbad6325805'),\n",
       "  AIMessage(content=\"Hello Amit! It's great to meet you. It sounds like you have a diverse set of interests, from teaching Business Intelligence and Analytics (BIA) to playing badminton. If there's anything specific you'd like to discuss or need help with, feel free to let me know!\", additional_kwargs={'refusal': None}, response_metadata={'token_usage': {'completion_tokens': 55, 'prompt_tokens': 109, 'total_tokens': 164, 'completion_tokens_details': {'accepted_prediction_tokens': 0, 'audio_tokens': 0, 'reasoning_tokens': 0, 'rejected_prediction_tokens': 0}, 'prompt_tokens_details': {'audio_tokens': 0, 'cached_tokens': 0}}, 'model_name': 'gpt-4o-2024-08-06', 'system_fingerprint': None, 'id': 'chatcmpl-BuxQ5eHZPakA5j0Jh6LRcoLbElSXl', 'service_tier': 'default', 'finish_reason': 'stop', 'logprobs': None}, id='run--eb4cef1a-903d-4e69-82a6-14c6f8ef4d35-0', usage_metadata={'input_tokens': 109, 'output_tokens': 55, 'total_tokens': 164, 'input_token_details': {'audio': 0, 'cache_read': 0}, 'output_token_details': {'audio': 0, 'reasoning': 0}}),\n",
       "  HumanMessage(content='I have many students who are quite bright theres names are Vijay, Pooja, Gautam, Omjee', additional_kwargs={}, response_metadata={}, id='639f92bb-6b1c-48ac-8bc0-f09e30a68a45'),\n",
       "  AIMessage(content=\"That's wonderful to hear, Amit! Having bright students like Vijay, Pooja, Gautam, and Omjee must make teaching even more rewarding. If there's anything specific you'd like to share about your teaching experiences or if you need any assistance related to your lectures or students, feel free to let me know!\", additional_kwargs={'refusal': None}, response_metadata={'token_usage': {'completion_tokens': 63, 'prompt_tokens': 193, 'total_tokens': 256, 'completion_tokens_details': {'accepted_prediction_tokens': 0, 'audio_tokens': 0, 'reasoning_tokens': 0, 'rejected_prediction_tokens': 0}, 'prompt_tokens_details': {'audio_tokens': 0, 'cached_tokens': 0}}, 'model_name': 'gpt-4o-2024-08-06', 'system_fingerprint': None, 'id': 'chatcmpl-BuxRpDI7q2P6haPoY4E2Y0PgMFHRq', 'service_tier': 'default', 'finish_reason': 'stop', 'logprobs': None}, id='run--6f3abb56-5270-4217-ad39-ce5d490fd3c0-0', usage_metadata={'input_tokens': 193, 'output_tokens': 63, 'total_tokens': 256, 'input_token_details': {'audio': 0, 'cache_read': 0}, 'output_token_details': {'audio': 0, 'reasoning': 0}}),\n",
       "  HumanMessage(content='do you remember my bright students?', additional_kwargs={}, response_metadata={}, id='2e120e36-9225-48f2-a61a-18cd56240ce7'),\n",
       "  AIMessage(content=\"Yes, you mentioned that your bright students are Vijay, Pooja, Gautam, and Omjee. If there's anything specific you'd like to discuss about them or your teaching experiences, feel free to share!\", additional_kwargs={'refusal': None}, response_metadata={'token_usage': {'completion_tokens': 43, 'prompt_tokens': 270, 'total_tokens': 313, 'completion_tokens_details': {'accepted_prediction_tokens': 0, 'audio_tokens': 0, 'reasoning_tokens': 0, 'rejected_prediction_tokens': 0}, 'prompt_tokens_details': {'audio_tokens': 0, 'cached_tokens': 0}}, 'model_name': 'gpt-4o-2024-08-06', 'system_fingerprint': None, 'id': 'chatcmpl-BuxT3xpC4JjueK4b40D3QhEvhhz7p', 'service_tier': 'default', 'finish_reason': 'stop', 'logprobs': None}, id='run--105a45c9-de73-4764-b8ab-0c6e99f7cce0-0', usage_metadata={'input_tokens': 270, 'output_tokens': 43, 'total_tokens': 313, 'input_token_details': {'audio': 0, 'cache_read': 0}, 'output_token_details': {'audio': 0, 'reasoning': 0}}),\n",
       "  HumanMessage(content='whats the value of 3+4', additional_kwargs={}, response_metadata={}, id='bdfab267-1f22-4b6f-85e3-fdd024ee537f'),\n",
       "  AIMessage(content='', additional_kwargs={'tool_calls': [{'id': 'call_nNzrC2seirsMF2tO9EBBoXmf', 'function': {'arguments': '{\"expression\":\"3+4\"}', 'name': 'calculator'}, 'type': 'function'}], 'refusal': None}, response_metadata={'token_usage': {'completion_tokens': 16, 'prompt_tokens': 329, 'total_tokens': 345, 'completion_tokens_details': {'accepted_prediction_tokens': 0, 'audio_tokens': 0, 'reasoning_tokens': 0, 'rejected_prediction_tokens': 0}, 'prompt_tokens_details': {'audio_tokens': 0, 'cached_tokens': 0}}, 'model_name': 'gpt-4o-2024-08-06', 'system_fingerprint': None, 'id': 'chatcmpl-BuxTmh0J35YjJm1mIed7qvpZGg9Yq', 'service_tier': 'default', 'finish_reason': 'tool_calls', 'logprobs': None}, id='run--14659841-e830-4fe4-929e-bc684038ae17-0', tool_calls=[{'name': 'calculator', 'args': {'expression': '3+4'}, 'id': 'call_nNzrC2seirsMF2tO9EBBoXmf', 'type': 'tool_call'}], usage_metadata={'input_tokens': 329, 'output_tokens': 16, 'total_tokens': 345, 'input_token_details': {'audio': 0, 'cache_read': 0}, 'output_token_details': {'audio': 0, 'reasoning': 0}}),\n",
       "  ToolMessage(content='The result of 3+4 is 7', name='calculator', id='17e74bbe-963d-49b1-91e4-aff11ee90b89', tool_call_id='call_nNzrC2seirsMF2tO9EBBoXmf'),\n",
       "  AIMessage(content='The value of \\\\(3 + 4\\\\) is 7. If you have any more calculations or questions, feel free to ask!', additional_kwargs={'refusal': None}, response_metadata={'token_usage': {'completion_tokens': 29, 'prompt_tokens': 362, 'total_tokens': 391, 'completion_tokens_details': {'accepted_prediction_tokens': 0, 'audio_tokens': 0, 'reasoning_tokens': 0, 'rejected_prediction_tokens': 0}, 'prompt_tokens_details': {'audio_tokens': 0, 'cached_tokens': 0}}, 'model_name': 'gpt-4o-2024-08-06', 'system_fingerprint': None, 'id': 'chatcmpl-BuxTnSX0LPojH0v9Wuc6qQkKSfc6O', 'service_tier': 'default', 'finish_reason': 'stop', 'logprobs': None}, id='run--21c47076-0362-48ba-8630-d3ecd127218d-0', usage_metadata={'input_tokens': 362, 'output_tokens': 29, 'total_tokens': 391, 'input_token_details': {'audio': 0, 'cache_read': 0}, 'output_token_details': {'audio': 0, 'reasoning': 0}})]}"
      ]
     },
     "execution_count": 12,
     "metadata": {},
     "output_type": "execute_result"
    }
   ],
   "source": [
    "graph.invoke({\"messages\":[{\"role\":\"user\",\"content\": \"whats the value of 3+4\"}]}, config)"
   ]
  },
  {
   "cell_type": "markdown",
   "id": "193142df",
   "metadata": {},
   "source": [
    "###  Using a Redis Checkpointer (Persistent Memory with Redis)\n",
    "For persistent, fast storage of conversation state across sessions, LangGraph provides a Redis-backed checkpointer. This requires a running Redis server and the langgraph-checkpoint-redis integration package\n",
    "langchain-ai.github.io\n",
    ". The state (conversation history) is saved in Redis so the agent can recall information even after the program restarts\n",
    "redis.io\n"
   ]
  },
  {
   "cell_type": "code",
   "execution_count": 18,
   "id": "05582a91",
   "metadata": {},
   "outputs": [],
   "source": [
    "# docker run -d -p 6379:6379 --name redis-stack redis/redis-stack-server:latest\n",
    "# from langgraph.checkpoint.redis import RedisSaver\n",
    "# from langgraph.graph import StateGraph, MessagesState, START\n",
    "# from langchain_openai import ChatOpenAI\n",
    "\n",
    "# # Connect to Redis (adjust URL as needed; here we use default local Redis)\n",
    "# DB_URI = \"redis://localhost:6379\"\n",
    "# with RedisSaver.from_conn_string(DB_URI) as checkpointer:  # open Redis connection\n",
    "#     checkpointer.setup()  # initialize Redis schema on first use (creates indexes):contentReference[oaicite:13]{index=13}\n",
    "#     model = ChatOpenAI(temperature=0)\n",
    "#     def call_model(state: MessagesState):\n",
    "#         response = model(state[\"messages\"])\n",
    "#         return {\"messages\": response}\n",
    "\n",
    "#     builder = StateGraph(MessagesState)\n",
    "#     builder.add_node(call_model)\n",
    "#     builder.add_edge(START, \"call_model\")\n",
    "#     graph = builder.compile(checkpointer=checkpointer)\n",
    "#     config = {\"configurable\": {\"thread_id\": \"user123\"}}\n",
    "\n",
    "#     # **Session 1:** User introduces themselves (state will be saved to Redis)\n",
    "#     graph.invoke(\n",
    "#         {\"messages\": [{\"role\": \"user\", \"content\": \"Hi, I'm Alice and I love chocolate.\"}]}, \n",
    "#         config\n",
    "#     )\n",
    "#     # The assistant's reply is now stored in Redis under thread \"user123\".\n",
    "\n",
    "# # (At this point, the program could exit; the conversation state remains in Redis)\n",
    "\n",
    "# # **Session 2:** Later on, we reconnect to Redis and resume the conversation\n",
    "# with RedisSaver.from_conn_string(DB_URI) as checkpointer:  # re-open Redis connection\n",
    "#     model = ChatOpenAI(temperature=0)\n",
    "#     def call_model(state: MessagesState):\n",
    "#         response = model(state[\"messages\"])\n",
    "#         return {\"messages\": response}\n",
    "\n",
    "#     builder = StateGraph(MessagesState)\n",
    "#     builder.add_node(call_model)\n",
    "#     builder.add_edge(START, \"call_model\")\n",
    "#     graph = builder.compile(checkpointer=checkpointer)\n",
    "#     config = {\"configurable\": {\"thread_id\": \"user123\"}}\n",
    "\n",
    "#     # User asks a question in a new session; the agent will load prior state from Redis\n",
    "#     result = graph.invoke(\n",
    "#         {\"messages\": [{\"role\": \"user\", \"content\": \"Do you remember my name and what I like?\"}]}, \n",
    "#         config\n",
    "#     )\n",
    "#     print(result[\"messages\"][-1][\"content\"])\n",
    "#     # Expected: \"Yes, your name is Alice and you like chocolate.\"\n"
   ]
  },
  {
   "cell_type": "code",
   "execution_count": null,
   "id": "dbb98819",
   "metadata": {},
   "outputs": [],
   "source": []
  },
  {
   "cell_type": "markdown",
   "id": "176f9fbf",
   "metadata": {},
   "source": [
    "### Using a SQLite Checkpointer (Persistent Local Memory)"
   ]
  },
  {
   "cell_type": "code",
   "execution_count": 12,
   "id": "6daaf6e7",
   "metadata": {},
   "outputs": [
    {
     "name": "stderr",
     "output_type": "stream",
     "text": [
      "/var/folders/y3/l1qzr2852s51qbvnph6b1qf80000gp/T/ipykernel_3326/2227940345.py:11: LangChainDeprecationWarning: The method `BaseChatModel.__call__` was deprecated in langchain-core 0.1.7 and will be removed in 1.0. Use :meth:`~invoke` instead.\n",
      "  response = model(state[\"messages\"])\n"
     ]
    },
    {
     "name": "stdout",
     "output_type": "stream",
     "text": [
      "content='Yes, your name is Amit and you give lectures on Business Impact Analysis (BIA). How can I assist you today, Amit?' additional_kwargs={'refusal': None} response_metadata={'token_usage': {'completion_tokens': 27, 'prompt_tokens': 80, 'total_tokens': 107, 'completion_tokens_details': {'accepted_prediction_tokens': 0, 'audio_tokens': 0, 'reasoning_tokens': 0, 'rejected_prediction_tokens': 0}, 'prompt_tokens_details': {'audio_tokens': 0, 'cached_tokens': 0}}, 'model_name': 'gpt-3.5-turbo-0125', 'system_fingerprint': None, 'id': 'chatcmpl-BuxdERrueUNJQjnErVWPYNnBfcVF3', 'service_tier': 'default', 'finish_reason': 'stop', 'logprobs': None} id='run--4469c7fc-dec5-4aac-857c-974d9b648fcd-0' usage_metadata={'input_tokens': 80, 'output_tokens': 27, 'total_tokens': 107, 'input_token_details': {'audio': 0, 'cache_read': 0}, 'output_token_details': {'audio': 0, 'reasoning': 0}}\n"
     ]
    }
   ],
   "source": [
    "from langgraph.checkpoint.sqlite import SqliteSaver\n",
    "from langgraph.graph import StateGraph, MessagesState, START\n",
    "from langchain_openai import ChatOpenAI\n",
    "\n",
    "DB_PATH = \"memory_store.db\"  # SQLite database file for storing checkpoints\n",
    "\n",
    "# **Session 1:** Create/open the SQLite DB and save the conversation state\n",
    "with SqliteSaver.from_conn_string(DB_PATH) as checkpointer:  # opens connection to memory_store.db\n",
    "    model = ChatOpenAI(temperature=0)\n",
    "    def call_model(state: MessagesState):\n",
    "        response = model(state[\"messages\"])\n",
    "        return {\"messages\": response}\n",
    "\n",
    "    builder = StateGraph(MessagesState)\n",
    "    builder.add_node(call_model)\n",
    "    builder.add_edge(START, \"call_model\")\n",
    "    graph = builder.compile(checkpointer=checkpointer)\n",
    "    config = {\"configurable\": {\"thread_id\": \"user123\"}}\n",
    "\n",
    "    # User introduces themselves; state is saved to the SQLite file\n",
    "    graph.invoke(\n",
    "        {\"messages\":[{\"role\":'user',\"content\":\"Hello! my name is amit I take lectures on BIA\"}]}, \n",
    "        config\n",
    "    )\n",
    "    # After this call, the conversation (thread \"user123\") is stored in memory_store.db\n",
    "\n",
    "# **Session 2:** Re-open the SQLite DB and resume the conversation\n",
    "with SqliteSaver.from_conn_string(DB_PATH) as checkpointer:  # connect to the same DB file\n",
    "    model = ChatOpenAI(temperature=0)\n",
    "    def call_model(state: MessagesState):\n",
    "        response = model(state[\"messages\"])\n",
    "        return {\"messages\": response}\n",
    "\n",
    "    builder = StateGraph(MessagesState)\n",
    "    builder.add_node(call_model)\n",
    "    builder.add_edge(START, \"call_model\")\n",
    "    graph = builder.compile(checkpointer=checkpointer)\n",
    "    config = {\"configurable\": {\"thread_id\": \"user123\"}}\n",
    "\n",
    "    # User asks a follow-up; the agent loads past state from the SQLite DB\n",
    "    result = graph.invoke(\n",
    "        {\"messages\": [{\"role\": \"user\", \"content\": \"Do you remember my name and what I do?\"}]}, \n",
    "        config\n",
    "    )\n",
    "    print(result[\"messages\"][-1])\n",
    "    # Expected agent output: \"Your name is Alice and you like chocolate.\"\n"
   ]
  },
  {
   "cell_type": "markdown",
   "id": "e5498c1a",
   "metadata": {},
   "source": [
    "### Multi-Tool Research Assistant\n",
    "    Task:\n",
    "    Build a Research Assistant that can:\n",
    "    Search the web for information [https://serpapi.com/]\n",
    "    Summarize articles\n",
    "    Save findings to a file\n",
    "    Generate a final research report"
   ]
  },
  {
   "cell_type": "code",
   "execution_count": null,
   "id": "95dbd11c",
   "metadata": {},
   "outputs": [],
   "source": []
  },
  {
   "cell_type": "code",
   "execution_count": null,
   "id": "4d0daaad",
   "metadata": {},
   "outputs": [],
   "source": []
  },
  {
   "cell_type": "markdown",
   "id": "58ba7a18",
   "metadata": {},
   "source": []
  }
 ],
 "metadata": {
  "kernelspec": {
   "display_name": ".venv",
   "language": "python",
   "name": "python3"
  },
  "language_info": {
   "codemirror_mode": {
    "name": "ipython",
    "version": 3
   },
   "file_extension": ".py",
   "mimetype": "text/x-python",
   "name": "python",
   "nbconvert_exporter": "python",
   "pygments_lexer": "ipython3",
   "version": "3.13.3"
  }
 },
 "nbformat": 4,
 "nbformat_minor": 5
}
