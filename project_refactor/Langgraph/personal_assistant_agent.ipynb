{
 "cells": [
  {
   "cell_type": "code",
   "execution_count": 1,
   "id": "b87731e6",
   "metadata": {},
   "outputs": [],
   "source": [
    "import os \n",
    "import getpass\n",
    "from typing import Annotated, Dict, List, Any\n",
    "from typing_extensions import TypedDict\n",
    "\n",
    "def setup_environment():\n",
    "    \"\"\"Setup your API KEYs\"\"\"\n",
    "    if not os.environ.get(\"OPENAI_API_KEY\"):\n",
    "        openai_key = getpass.getpass(\"Enter your OPENAI API KEY\")\n",
    "        os.environ[\"OPENAI_API_KEY\"] = openai_key\n",
    "\n",
    "    if not os.environ.get(\"LANGSMITH_API_KEY\"):\n",
    "        langsmith_key = getpass.getpass(\"ENTER your LAngsmith API KEY\")\n",
    "        if langsmith_key:\n",
    "            os.environ[\"LANGSMITH_API_KEY\"] = langsmith_key\n",
    "            os.environ[\"LANGCHAIN_TRACING_V2\"] =\"true\"\n",
    "            os.environ[\"LANGCHAIN_PROJECT\"] = \"Langgraph tutorial\"\n",
    "        else:\n",
    "            print(\"skipping langsmith set up\")\n",
    "\n",
    "\n",
    "    print(\"Envioenment setup completed\")"
   ]
  },
  {
   "cell_type": "markdown",
   "id": "c9eb7136",
   "metadata": {},
   "source": [
    "    Task:\n",
    "    Create a Personal Assistant Agent that can:\n",
    "    Have basic conversations\n",
    "    Remember user's name and preferences across sessions\n",
    "    Perform simple calculations\n",
    "    Tell current time/date"
   ]
  },
  {
   "cell_type": "code",
   "execution_count": 2,
   "id": "21981956",
   "metadata": {},
   "outputs": [
    {
     "name": "stdout",
     "output_type": "stream",
     "text": [
      "Envioenment setup completed\n"
     ]
    }
   ],
   "source": [
    "setup_environment()"
   ]
  },
  {
   "cell_type": "code",
   "execution_count": 3,
   "id": "565b6b55",
   "metadata": {},
   "outputs": [],
   "source": [
    "from langgraph.graph import StateGraph , START, END\n",
    "from langgraph.graph.message import add_messages\n",
    "from langchain_core.messages import HumanMessage, AIMessage\n",
    "from langchain_core.tools import tool\n",
    "from langgraph.prebuilt import ToolNode, tools_condition\n",
    "from typing import TypedDict, Annotated \n",
    "from langchain_openai import ChatOpenAI\n",
    "from langgraph.checkpoint.memory import InMemorySaver\n",
    "import datetime\n",
    "import math\n",
    "\n",
    "\n",
    "class State(TypedDict):\n",
    "    # messages will store our conversation history\n",
    "    ### add_messages is a special function  that append new message instead of replacing them\n",
    "\n",
    "    messages: Annotated[list, add_messages]\n"
   ]
  },
  {
   "cell_type": "code",
   "execution_count": 4,
   "id": "4ec1cff9",
   "metadata": {},
   "outputs": [
    {
     "data": {
      "text/plain": [
       "'Hello! How can I assist you today?'"
      ]
     },
     "execution_count": 4,
     "metadata": {},
     "output_type": "execute_result"
    }
   ],
   "source": [
    "\n",
    "\n",
    "llm = ChatOpenAI(\n",
    "    model = \"gpt-4o\",\n",
    "    temperature= 0.0\n",
    ")\n",
    "\n",
    "llm.invoke(\"Hi\").content"
   ]
  },
  {
   "cell_type": "code",
   "execution_count": 5,
   "id": "2ca1e246",
   "metadata": {},
   "outputs": [],
   "source": [
    "@tool\n",
    "def get_current_time() -> str:\n",
    "    \"\"\"Get the current time and date.\"\"\"\n",
    "    return f\"Current time is {datetime.datetime.now().strftime('%Y-%m-%d %H:%M:%S')}\"\n",
    "\n",
    "@tool\n",
    "def calculator(expression: str) -> str:\n",
    "    \"\"\"\n",
    "    Evaluate a mathematical expression safely.\n",
    "    \n",
    "    Args:\n",
    "        expression: A mathematical expression to evaluate (e.g., \"2 + 3 * 4\")\n",
    "        \n",
    "    Returns:\n",
    "        The result of the calculation\n",
    "    \"\"\"\n",
    "    try:\n",
    "        # Safe evaluation of mathematical expressions\n",
    "        # Only allow basic math operations\n",
    "        allowed_names = {\n",
    "            k: v for k, v in math.__dict__.items() if not k.startswith(\"__\")\n",
    "        }\n",
    "        allowed_names.update({\"abs\": abs, \"round\": round})\n",
    "        \n",
    "        result = eval(expression, {\"__builtins__\": {}}, allowed_names)\n",
    "        return f\"The result of {expression} is {result}\"\n",
    "    except Exception as e:\n",
    "        return f\"Error calculating {expression}: {str(e)}\"\n"
   ]
  },
  {
   "cell_type": "code",
   "execution_count": 6,
   "id": "4b0bba23",
   "metadata": {},
   "outputs": [],
   "source": [
    "tools = [get_current_time, calculator]\n",
    "\n",
    "llm_with_tools = llm.bind_tools(tools)\n",
    "\n",
    "def chatbot(state):\n",
    "    return {\"messages\": [llm_with_tools.invoke(state[\"messages\"])]}\n",
    "\n",
    "\n",
    "  "
   ]
  },
  {
   "cell_type": "markdown",
   "id": "8079977d",
   "metadata": {},
   "source": [
    "### Using an In-Memory Checkpointer (Ephemeral Memory)\n",
    "\n",
    "This setup uses LangGraph's built-in in-memory checkpointer. It stores conversation state in memory only (not persisted to disk)\n",
    "This allows multi-turn conversations within a running program, but the memory resets when the program stops."
   ]
  },
  {
   "cell_type": "code",
   "execution_count": 7,
   "id": "92b6c75b",
   "metadata": {},
   "outputs": [
    {
     "data": {
      "image/png": "[encoded data removed]",
      "text/plain": [
       "<IPython.core.display.Image object>"
      ]
     },
     "metadata": {},
     "output_type": "display_data"
    }
   ],
   "source": [
    "\n",
    "# Initialize memory checkpoint\n",
    "checkpointer = InMemorySaver()\n",
    "# memory = MemorySaver(State)\n",
    "graph_builder = StateGraph(State)\n",
    "graph_builder.add_node(\"chat\", chatbot)\n",
    "tools = ToolNode(tools)\n",
    "graph_builder.add_node(\"tools\", tools)\n",
    "graph_builder.add_edge(START, \"chat\")\n",
    "graph_builder.add_conditional_edges(\"chat\", tools_condition)\n",
    "graph_builder.add_edge(\"tools\",\"chat\")\n",
    "graph = graph_builder.compile(checkpointer=checkpointer)\n",
    "\n",
    "\n",
    "\n",
    "from IPython.display import Image, display\n",
    "\n",
    "try:\n",
    "    display(Image(graph.get_graph().draw_mermaid_png()))\n",
    "except Exception:\n",
    "    # This requires some extra dependencies and is optional\n",
    "    pass\n",
    "\n",
    "\n"
   ]
  },
  {
   "cell_type": "code",
   "execution_count": 8,
   "id": "afad7ea6",
   "metadata": {},
   "outputs": [
    {
     "data": {
      "text/plain": [
       "{'messages': [HumanMessage(content='Hello! my name is amit I take lectures on BIA', additional_kwargs={}, response_metadata={}, id='b1b5bc01-c51f-4def-8947-12dd36fd03f6'),\n",
       "  AIMessage(content=\"Hello Amit! It's great to meet you. Teaching Business Intelligence and Analytics (BIA) sounds fascinating. How can I assist you today?\", additional_kwargs={'refusal': None}, response_metadata={'token_usage': {'completion_tokens': 29, 'prompt_tokens': 101, 'total_tokens': 130, 'completion_tokens_details': {'accepted_prediction_tokens': 0, 'audio_tokens': 0, 'reasoning_tokens': 0, 'rejected_prediction_tokens': 0}, 'prompt_tokens_details': {'audio_tokens': 0, 'cached_tokens': 0}}, 'model_name': 'gpt-4o-2024-08-06', 'system_fingerprint': None, 'id': 'chatcmpl-BtXsVSrEqw43pJzAkSDsflTkhmbWI', 'service_tier': 'default', 'finish_reason': 'stop', 'logprobs': None}, id='run--dc9dbd69-d012-4fdb-96ff-3fd06531cae8-0', usage_metadata={'input_tokens': 101, 'output_tokens': 29, 'total_tokens': 130, 'input_token_details': {'audio': 0, 'cache_read': 0}, 'output_token_details': {'audio': 0, 'reasoning': 0}})]}"
      ]
     },
     "execution_count": 8,
     "metadata": {},
     "output_type": "execute_result"
    }
   ],
   "source": [
    "config = {\"configurable\": {\"thread_id\": \"1\"}}\n",
    "graph.invoke({\"messages\":[{\"role\":'user',\"content\":\"Hello! my name is amit I take lectures on BIA\"}]}, config)"
   ]
  },
  {
   "cell_type": "code",
   "execution_count": 9,
   "id": "37ee8529",
   "metadata": {},
   "outputs": [
    {
     "data": {
      "text/plain": [
       "{'messages': [HumanMessage(content='Hello! my name is amit I take lectures on BIA', additional_kwargs={}, response_metadata={}, id='b1b5bc01-c51f-4def-8947-12dd36fd03f6'),\n",
       "  AIMessage(content=\"Hello Amit! It's great to meet you. Teaching Business Intelligence and Analytics (BIA) sounds fascinating. How can I assist you today?\", additional_kwargs={'refusal': None}, response_metadata={'token_usage': {'completion_tokens': 29, 'prompt_tokens': 101, 'total_tokens': 130, 'completion_tokens_details': {'accepted_prediction_tokens': 0, 'audio_tokens': 0, 'reasoning_tokens': 0, 'rejected_prediction_tokens': 0}, 'prompt_tokens_details': {'audio_tokens': 0, 'cached_tokens': 0}}, 'model_name': 'gpt-4o-2024-08-06', 'system_fingerprint': None, 'id': 'chatcmpl-BtXsVSrEqw43pJzAkSDsflTkhmbWI', 'service_tier': 'default', 'finish_reason': 'stop', 'logprobs': None}, id='run--dc9dbd69-d012-4fdb-96ff-3fd06531cae8-0', usage_metadata={'input_tokens': 101, 'output_tokens': 29, 'total_tokens': 130, 'input_token_details': {'audio': 0, 'cache_read': 0}, 'output_token_details': {'audio': 0, 'reasoning': 0}}),\n",
       "  HumanMessage(content='Do you remember my name and what I do', additional_kwargs={}, response_metadata={}, id='011d9bd1-0509-46e3-87b6-37cf993476dc'),\n",
       "  AIMessage(content=\"Yes, your name is Amit, and you take lectures on Business Intelligence and Analytics (BIA). If there's anything specific you'd like to discuss or need help with, feel free to let me know!\", additional_kwargs={'refusal': None}, response_metadata={'token_usage': {'completion_tokens': 41, 'prompt_tokens': 146, 'total_tokens': 187, 'completion_tokens_details': {'accepted_prediction_tokens': 0, 'audio_tokens': 0, 'reasoning_tokens': 0, 'rejected_prediction_tokens': 0}, 'prompt_tokens_details': {'audio_tokens': 0, 'cached_tokens': 0}}, 'model_name': 'gpt-4o-2024-08-06', 'system_fingerprint': None, 'id': 'chatcmpl-BtXsdOUGz5QpV9rw0xpgjIVCELO3r', 'service_tier': 'default', 'finish_reason': 'stop', 'logprobs': None}, id='run--355f2506-8fcd-40c4-b032-c4895f408955-0', usage_metadata={'input_tokens': 146, 'output_tokens': 41, 'total_tokens': 187, 'input_token_details': {'audio': 0, 'cache_read': 0}, 'output_token_details': {'audio': 0, 'reasoning': 0}})]}"
      ]
     },
     "execution_count": 9,
     "metadata": {},
     "output_type": "execute_result"
    }
   ],
   "source": [
    "graph.invoke({\"messages\":[{\"role\":\"user\",\"content\": \"Do you remember my name and what I do\"}]}, config)"
   ]
  },
  {
   "cell_type": "code",
   "execution_count": 10,
   "id": "44dde6a9",
   "metadata": {},
   "outputs": [
    {
     "data": {
      "text/plain": [
       "{'messages': [HumanMessage(content='Hello! my name is amit I take lectures on BIA', additional_kwargs={}, response_metadata={}, id='b1b5bc01-c51f-4def-8947-12dd36fd03f6'),\n",
       "  AIMessage(content=\"Hello Amit! It's great to meet you. Teaching Business Intelligence and Analytics (BIA) sounds fascinating. How can I assist you today?\", additional_kwargs={'refusal': None}, response_metadata={'token_usage': {'completion_tokens': 29, 'prompt_tokens': 101, 'total_tokens': 130, 'completion_tokens_details': {'accepted_prediction_tokens': 0, 'audio_tokens': 0, 'reasoning_tokens': 0, 'rejected_prediction_tokens': 0}, 'prompt_tokens_details': {'audio_tokens': 0, 'cached_tokens': 0}}, 'model_name': 'gpt-4o-2024-08-06', 'system_fingerprint': None, 'id': 'chatcmpl-BtXsVSrEqw43pJzAkSDsflTkhmbWI', 'service_tier': 'default', 'finish_reason': 'stop', 'logprobs': None}, id='run--dc9dbd69-d012-4fdb-96ff-3fd06531cae8-0', usage_metadata={'input_tokens': 101, 'output_tokens': 29, 'total_tokens': 130, 'input_token_details': {'audio': 0, 'cache_read': 0}, 'output_token_details': {'audio': 0, 'reasoning': 0}}),\n",
       "  HumanMessage(content='Do you remember my name and what I do', additional_kwargs={}, response_metadata={}, id='011d9bd1-0509-46e3-87b6-37cf993476dc'),\n",
       "  AIMessage(content=\"Yes, your name is Amit, and you take lectures on Business Intelligence and Analytics (BIA). If there's anything specific you'd like to discuss or need help with, feel free to let me know!\", additional_kwargs={'refusal': None}, response_metadata={'token_usage': {'completion_tokens': 41, 'prompt_tokens': 146, 'total_tokens': 187, 'completion_tokens_details': {'accepted_prediction_tokens': 0, 'audio_tokens': 0, 'reasoning_tokens': 0, 'rejected_prediction_tokens': 0}, 'prompt_tokens_details': {'audio_tokens': 0, 'cached_tokens': 0}}, 'model_name': 'gpt-4o-2024-08-06', 'system_fingerprint': None, 'id': 'chatcmpl-BtXsdOUGz5QpV9rw0xpgjIVCELO3r', 'service_tier': 'default', 'finish_reason': 'stop', 'logprobs': None}, id='run--355f2506-8fcd-40c4-b032-c4895f408955-0', usage_metadata={'input_tokens': 146, 'output_tokens': 41, 'total_tokens': 187, 'input_token_details': {'audio': 0, 'cache_read': 0}, 'output_token_details': {'audio': 0, 'reasoning': 0}}),\n",
       "  HumanMessage(content='whats the time', additional_kwargs={}, response_metadata={}, id='736bcb05-dbb7-4b7e-a594-8c5cebec6b1b'),\n",
       "  AIMessage(content='', additional_kwargs={'tool_calls': [{'id': 'call_GLtIncICjWSah5CMGO5itnAM', 'function': {'arguments': '{}', 'name': 'get_current_time'}, 'type': 'function'}], 'refusal': None}, response_metadata={'token_usage': {'completion_tokens': 11, 'prompt_tokens': 198, 'total_tokens': 209, 'completion_tokens_details': {'accepted_prediction_tokens': 0, 'audio_tokens': 0, 'reasoning_tokens': 0, 'rejected_prediction_tokens': 0}, 'prompt_tokens_details': {'audio_tokens': 0, 'cached_tokens': 0}}, 'model_name': 'gpt-4o-2024-08-06', 'system_fingerprint': None, 'id': 'chatcmpl-BtXtKEbkt9Y2XLTTJUkPS80zzMD4z', 'service_tier': 'default', 'finish_reason': 'tool_calls', 'logprobs': None}, id='run--5fe2e0f8-1a0e-4928-9df2-ae303b6bfc90-0', tool_calls=[{'name': 'get_current_time', 'args': {}, 'id': 'call_GLtIncICjWSah5CMGO5itnAM', 'type': 'tool_call'}], usage_metadata={'input_tokens': 198, 'output_tokens': 11, 'total_tokens': 209, 'input_token_details': {'audio': 0, 'cache_read': 0}, 'output_token_details': {'audio': 0, 'reasoning': 0}}),\n",
       "  ToolMessage(content='Current time is 2025-07-15 16:43:39', name='get_current_time', id='9ae8265d-25c8-49ba-9275-8c8b154ac2a5', tool_call_id='call_GLtIncICjWSah5CMGO5itnAM'),\n",
       "  AIMessage(content=\"The current time is 16:43 on July 15, 2025. If there's anything else you need, feel free to ask!\", additional_kwargs={'refusal': None}, response_metadata={'token_usage': {'completion_tokens': 30, 'prompt_tokens': 234, 'total_tokens': 264, 'completion_tokens_details': {'accepted_prediction_tokens': 0, 'audio_tokens': 0, 'reasoning_tokens': 0, 'rejected_prediction_tokens': 0}, 'prompt_tokens_details': {'audio_tokens': 0, 'cached_tokens': 0}}, 'model_name': 'gpt-4o-2024-08-06', 'system_fingerprint': None, 'id': 'chatcmpl-BtXtLNjzGMcU62cUjuUPfpL3Fkx8k', 'service_tier': 'default', 'finish_reason': 'stop', 'logprobs': None}, id='run--9e5f5976-74f2-472b-ba2b-7c71676e5f21-0', usage_metadata={'input_tokens': 234, 'output_tokens': 30, 'total_tokens': 264, 'input_token_details': {'audio': 0, 'cache_read': 0}, 'output_token_details': {'audio': 0, 'reasoning': 0}})]}"
      ]
     },
     "execution_count": 10,
     "metadata": {},
     "output_type": "execute_result"
    }
   ],
   "source": [
    "graph.invoke({\"messages\":[{\"role\":\"user\",\"content\": \"whats the time\"}]}, config)"
   ]
  },
  {
   "cell_type": "code",
   "execution_count": 11,
   "id": "fa012f23",
   "metadata": {},
   "outputs": [
    {
     "data": {
      "text/plain": [
       "{'messages': [HumanMessage(content='Hello! my name is amit I take lectures on BIA', additional_kwargs={}, response_metadata={}, id='b1b5bc01-c51f-4def-8947-12dd36fd03f6'),\n",
       "  AIMessage(content=\"Hello Amit! It's great to meet you. Teaching Business Intelligence and Analytics (BIA) sounds fascinating. How can I assist you today?\", additional_kwargs={'refusal': None}, response_metadata={'token_usage': {'completion_tokens': 29, 'prompt_tokens': 101, 'total_tokens': 130, 'completion_tokens_details': {'accepted_prediction_tokens': 0, 'audio_tokens': 0, 'reasoning_tokens': 0, 'rejected_prediction_tokens': 0}, 'prompt_tokens_details': {'audio_tokens': 0, 'cached_tokens': 0}}, 'model_name': 'gpt-4o-2024-08-06', 'system_fingerprint': None, 'id': 'chatcmpl-BtXsVSrEqw43pJzAkSDsflTkhmbWI', 'service_tier': 'default', 'finish_reason': 'stop', 'logprobs': None}, id='run--dc9dbd69-d012-4fdb-96ff-3fd06531cae8-0', usage_metadata={'input_tokens': 101, 'output_tokens': 29, 'total_tokens': 130, 'input_token_details': {'audio': 0, 'cache_read': 0}, 'output_token_details': {'audio': 0, 'reasoning': 0}}),\n",
       "  HumanMessage(content='Do you remember my name and what I do', additional_kwargs={}, response_metadata={}, id='011d9bd1-0509-46e3-87b6-37cf993476dc'),\n",
       "  AIMessage(content=\"Yes, your name is Amit, and you take lectures on Business Intelligence and Analytics (BIA). If there's anything specific you'd like to discuss or need help with, feel free to let me know!\", additional_kwargs={'refusal': None}, response_metadata={'token_usage': {'completion_tokens': 41, 'prompt_tokens': 146, 'total_tokens': 187, 'completion_tokens_details': {'accepted_prediction_tokens': 0, 'audio_tokens': 0, 'reasoning_tokens': 0, 'rejected_prediction_tokens': 0}, 'prompt_tokens_details': {'audio_tokens': 0, 'cached_tokens': 0}}, 'model_name': 'gpt-4o-2024-08-06', 'system_fingerprint': None, 'id': 'chatcmpl-BtXsdOUGz5QpV9rw0xpgjIVCELO3r', 'service_tier': 'default', 'finish_reason': 'stop', 'logprobs': None}, id='run--355f2506-8fcd-40c4-b032-c4895f408955-0', usage_metadata={'input_tokens': 146, 'output_tokens': 41, 'total_tokens': 187, 'input_token_details': {'audio': 0, 'cache_read': 0}, 'output_token_details': {'audio': 0, 'reasoning': 0}}),\n",
       "  HumanMessage(content='whats the time', additional_kwargs={}, response_metadata={}, id='736bcb05-dbb7-4b7e-a594-8c5cebec6b1b'),\n",
       "  AIMessage(content='', additional_kwargs={'tool_calls': [{'id': 'call_GLtIncICjWSah5CMGO5itnAM', 'function': {'arguments': '{}', 'name': 'get_current_time'}, 'type': 'function'}], 'refusal': None}, response_metadata={'token_usage': {'completion_tokens': 11, 'prompt_tokens': 198, 'total_tokens': 209, 'completion_tokens_details': {'accepted_prediction_tokens': 0, 'audio_tokens': 0, 'reasoning_tokens': 0, 'rejected_prediction_tokens': 0}, 'prompt_tokens_details': {'audio_tokens': 0, 'cached_tokens': 0}}, 'model_name': 'gpt-4o-2024-08-06', 'system_fingerprint': None, 'id': 'chatcmpl-BtXtKEbkt9Y2XLTTJUkPS80zzMD4z', 'service_tier': 'default', 'finish_reason': 'tool_calls', 'logprobs': None}, id='run--5fe2e0f8-1a0e-4928-9df2-ae303b6bfc90-0', tool_calls=[{'name': 'get_current_time', 'args': {}, 'id': 'call_GLtIncICjWSah5CMGO5itnAM', 'type': 'tool_call'}], usage_metadata={'input_tokens': 198, 'output_tokens': 11, 'total_tokens': 209, 'input_token_details': {'audio': 0, 'cache_read': 0}, 'output_token_details': {'audio': 0, 'reasoning': 0}}),\n",
       "  ToolMessage(content='Current time is 2025-07-15 16:43:39', name='get_current_time', id='9ae8265d-25c8-49ba-9275-8c8b154ac2a5', tool_call_id='call_GLtIncICjWSah5CMGO5itnAM'),\n",
       "  AIMessage(content=\"The current time is 16:43 on July 15, 2025. If there's anything else you need, feel free to ask!\", additional_kwargs={'refusal': None}, response_metadata={'token_usage': {'completion_tokens': 30, 'prompt_tokens': 234, 'total_tokens': 264, 'completion_tokens_details': {'accepted_prediction_tokens': 0, 'audio_tokens': 0, 'reasoning_tokens': 0, 'rejected_prediction_tokens': 0}, 'prompt_tokens_details': {'audio_tokens': 0, 'cached_tokens': 0}}, 'model_name': 'gpt-4o-2024-08-06', 'system_fingerprint': None, 'id': 'chatcmpl-BtXtLNjzGMcU62cUjuUPfpL3Fkx8k', 'service_tier': 'default', 'finish_reason': 'stop', 'logprobs': None}, id='run--9e5f5976-74f2-472b-ba2b-7c71676e5f21-0', usage_metadata={'input_tokens': 234, 'output_tokens': 30, 'total_tokens': 264, 'input_token_details': {'audio': 0, 'cache_read': 0}, 'output_token_details': {'audio': 0, 'reasoning': 0}}),\n",
       "  HumanMessage(content='whats the value of 3+4', additional_kwargs={}, response_metadata={}, id='3d751d05-13ff-4443-b646-bb2a5c5faea9'),\n",
       "  AIMessage(content='', additional_kwargs={'tool_calls': [{'id': 'call_3ZM9t9gw5OpLySgG1CC4u6xD', 'function': {'arguments': '{\"expression\":\"3 + 4\"}', 'name': 'calculator'}, 'type': 'function'}], 'refusal': None}, response_metadata={'token_usage': {'completion_tokens': 17, 'prompt_tokens': 280, 'total_tokens': 297, 'completion_tokens_details': {'accepted_prediction_tokens': 0, 'audio_tokens': 0, 'reasoning_tokens': 0, 'rejected_prediction_tokens': 0}, 'prompt_tokens_details': {'audio_tokens': 0, 'cached_tokens': 0}}, 'model_name': 'gpt-4o-2024-08-06', 'system_fingerprint': None, 'id': 'chatcmpl-BtXuDzQj6Mh99etRKZlDuIy0wKZMs', 'service_tier': 'default', 'finish_reason': 'tool_calls', 'logprobs': None}, id='run--5447141d-1c72-497a-9fde-72c4825929d6-0', tool_calls=[{'name': 'calculator', 'args': {'expression': '3 + 4'}, 'id': 'call_3ZM9t9gw5OpLySgG1CC4u6xD', 'type': 'tool_call'}], usage_metadata={'input_tokens': 280, 'output_tokens': 17, 'total_tokens': 297, 'input_token_details': {'audio': 0, 'cache_read': 0}, 'output_token_details': {'audio': 0, 'reasoning': 0}}),\n",
       "  ToolMessage(content='The result of 3 + 4 is 7', name='calculator', id='889b74c8-ca8a-44c5-ac89-76ce446db8be', tool_call_id='call_3ZM9t9gw5OpLySgG1CC4u6xD'),\n",
       "  AIMessage(content='The value of \\\\(3 + 4\\\\) is 7. If you have any more questions or need further assistance, just let me know!', additional_kwargs={'refusal': None}, response_metadata={'token_usage': {'completion_tokens': 31, 'prompt_tokens': 315, 'total_tokens': 346, 'completion_tokens_details': {'accepted_prediction_tokens': 0, 'audio_tokens': 0, 'reasoning_tokens': 0, 'rejected_prediction_tokens': 0}, 'prompt_tokens_details': {'audio_tokens': 0, 'cached_tokens': 0}}, 'model_name': 'gpt-4o-2024-08-06', 'system_fingerprint': None, 'id': 'chatcmpl-BtXuESwlVL0bF8OaI62W5GC4tAvNF', 'service_tier': 'default', 'finish_reason': 'stop', 'logprobs': None}, id='run--ff685a07-c3d6-407e-890d-ea4fb7a536e2-0', usage_metadata={'input_tokens': 315, 'output_tokens': 31, 'total_tokens': 346, 'input_token_details': {'audio': 0, 'cache_read': 0}, 'output_token_details': {'audio': 0, 'reasoning': 0}})]}"
      ]
     },
     "execution_count": 11,
     "metadata": {},
     "output_type": "execute_result"
    }
   ],
   "source": [
    "graph.invoke({\"messages\":[{\"role\":\"user\",\"content\": \"whats the value of 3+4\"}]}, config)"
   ]
  },
  {
   "cell_type": "markdown",
   "id": "193142df",
   "metadata": {},
   "source": [
    "###  Using a Redis Checkpointer (Persistent Memory with Redis)\n",
    "For persistent, fast storage of conversation state across sessions, LangGraph provides a Redis-backed checkpointer. This requires a running Redis server and the langgraph-checkpoint-redis integration package\n",
    "langchain-ai.github.io\n",
    ". The state (conversation history) is saved in Redis so the agent can recall information even after the program restarts\n",
    "redis.io\n"
   ]
  },
  {
   "cell_type": "code",
   "execution_count": 18,
   "id": "05582a91",
   "metadata": {},
   "outputs": [],
   "source": [
    "# docker run -d -p 6379:6379 --name redis-stack redis/redis-stack-server:latest\n",
    "# from langgraph.checkpoint.redis import RedisSaver\n",
    "# from langgraph.graph import StateGraph, MessagesState, START\n",
    "# from langchain_openai import ChatOpenAI\n",
    "\n",
    "# # Connect to Redis (adjust URL as needed; here we use default local Redis)\n",
    "# DB_URI = \"redis://localhost:6379\"\n",
    "# with RedisSaver.from_conn_string(DB_URI) as checkpointer:  # open Redis connection\n",
    "#     checkpointer.setup()  # initialize Redis schema on first use (creates indexes):contentReference[oaicite:13]{index=13}\n",
    "#     model = ChatOpenAI(temperature=0)\n",
    "#     def call_model(state: MessagesState):\n",
    "#         response = model(state[\"messages\"])\n",
    "#         return {\"messages\": response}\n",
    "\n",
    "#     builder = StateGraph(MessagesState)\n",
    "#     builder.add_node(call_model)\n",
    "#     builder.add_edge(START, \"call_model\")\n",
    "#     graph = builder.compile(checkpointer=checkpointer)\n",
    "#     config = {\"configurable\": {\"thread_id\": \"user123\"}}\n",
    "\n",
    "#     # **Session 1:** User introduces themselves (state will be saved to Redis)\n",
    "#     graph.invoke(\n",
    "#         {\"messages\": [{\"role\": \"user\", \"content\": \"Hi, I'm Alice and I love chocolate.\"}]}, \n",
    "#         config\n",
    "#     )\n",
    "#     # The assistant's reply is now stored in Redis under thread \"user123\".\n",
    "\n",
    "# # (At this point, the program could exit; the conversation state remains in Redis)\n",
    "\n",
    "# # **Session 2:** Later on, we reconnect to Redis and resume the conversation\n",
    "# with RedisSaver.from_conn_string(DB_URI) as checkpointer:  # re-open Redis connection\n",
    "#     model = ChatOpenAI(temperature=0)\n",
    "#     def call_model(state: MessagesState):\n",
    "#         response = model(state[\"messages\"])\n",
    "#         return {\"messages\": response}\n",
    "\n",
    "#     builder = StateGraph(MessagesState)\n",
    "#     builder.add_node(call_model)\n",
    "#     builder.add_edge(START, \"call_model\")\n",
    "#     graph = builder.compile(checkpointer=checkpointer)\n",
    "#     config = {\"configurable\": {\"thread_id\": \"user123\"}}\n",
    "\n",
    "#     # User asks a question in a new session; the agent will load prior state from Redis\n",
    "#     result = graph.invoke(\n",
    "#         {\"messages\": [{\"role\": \"user\", \"content\": \"Do you remember my name and what I like?\"}]}, \n",
    "#         config\n",
    "#     )\n",
    "#     print(result[\"messages\"][-1][\"content\"])\n",
    "#     # Expected: \"Yes, your name is Alice and you like chocolate.\"\n"
   ]
  },
  {
   "cell_type": "code",
   "execution_count": null,
   "id": "dbb98819",
   "metadata": {},
   "outputs": [],
   "source": []
  },
  {
   "cell_type": "markdown",
   "id": "176f9fbf",
   "metadata": {},
   "source": [
    "### Using a SQLite Checkpointer (Persistent Local Memory)"
   ]
  },
  {
   "cell_type": "code",
   "execution_count": 21,
   "id": "6daaf6e7",
   "metadata": {},
   "outputs": [
    {
     "name": "stdout",
     "output_type": "stream",
     "text": [
      "15:58:56 httpx INFO   HTTP Request: POST https://api.openai.com/v1/chat/completions \"HTTP/1.1 200 OK\"\n",
      "15:58:57 httpx INFO   HTTP Request: POST https://api.openai.com/v1/chat/completions \"HTTP/1.1 200 OK\"\n",
      "content=\"Yes, Amit! You mentioned that you take lectures on Business Intelligence and Analytics. It's great to chat with you. What do you find most rewarding about teaching in that field?\" additional_kwargs={'refusal': None} response_metadata={'token_usage': {'completion_tokens': 36, 'prompt_tokens': 242, 'total_tokens': 278, 'completion_tokens_details': {'accepted_prediction_tokens': 0, 'audio_tokens': 0, 'reasoning_tokens': 0, 'rejected_prediction_tokens': 0}, 'prompt_tokens_details': {'audio_tokens': 0, 'cached_tokens': 0}}, 'model_name': 'gpt-3.5-turbo-0125', 'system_fingerprint': None, 'id': 'chatcmpl-BtXC40WGWU5zKtINMYA77p0fCQ9PE', 'service_tier': 'default', 'finish_reason': 'stop', 'logprobs': None} id='run--fe351b97-fed6-40ce-be50-426804e43a90-0' usage_metadata={'input_tokens': 242, 'output_tokens': 36, 'total_tokens': 278, 'input_token_details': {'audio': 0, 'cache_read': 0}, 'output_token_details': {'audio': 0, 'reasoning': 0}}\n"
     ]
    }
   ],
   "source": [
    "from langgraph.checkpoint.sqlite import SqliteSaver\n",
    "from langgraph.graph import StateGraph, MessagesState, START\n",
    "from langchain_openai import ChatOpenAI\n",
    "\n",
    "DB_PATH = \"memory_store.db\"  # SQLite database file for storing checkpoints\n",
    "\n",
    "# **Session 1:** Create/open the SQLite DB and save the conversation state\n",
    "with SqliteSaver.from_conn_string(DB_PATH) as checkpointer:  # opens connection to memory_store.db\n",
    "    model = ChatOpenAI(temperature=0)\n",
    "    def call_model(state: MessagesState):\n",
    "        response = model(state[\"messages\"])\n",
    "        return {\"messages\": response}\n",
    "\n",
    "    builder = StateGraph(MessagesState)\n",
    "    builder.add_node(call_model)\n",
    "    builder.add_edge(START, \"call_model\")\n",
    "    graph = builder.compile(checkpointer=checkpointer)\n",
    "    config = {\"configurable\": {\"thread_id\": \"user123\"}}\n",
    "\n",
    "    # User introduces themselves; state is saved to the SQLite file\n",
    "    graph.invoke(\n",
    "        {\"messages\":[{\"role\":'user',\"content\":\"Hello! my name is amit I take lectures on BIA\"}]}, \n",
    "        config\n",
    "    )\n",
    "    # After this call, the conversation (thread \"user123\") is stored in memory_store.db\n",
    "\n",
    "# **Session 2:** Re-open the SQLite DB and resume the conversation\n",
    "with SqliteSaver.from_conn_string(DB_PATH) as checkpointer:  # connect to the same DB file\n",
    "    model = ChatOpenAI(temperature=0)\n",
    "    def call_model(state: MessagesState):\n",
    "        response = model(state[\"messages\"])\n",
    "        return {\"messages\": response}\n",
    "\n",
    "    builder = StateGraph(MessagesState)\n",
    "    builder.add_node(call_model)\n",
    "    builder.add_edge(START, \"call_model\")\n",
    "    graph = builder.compile(checkpointer=checkpointer)\n",
    "    config = {\"configurable\": {\"thread_id\": \"user123\"}}\n",
    "\n",
    "    # User asks a follow-up; the agent loads past state from the SQLite DB\n",
    "    result = graph.invoke(\n",
    "        {\"messages\": [{\"role\": \"user\", \"content\": \"Do you remember my name and what I do?\"}]}, \n",
    "        config\n",
    "    )\n",
    "    print(result[\"messages\"][-1])\n",
    "    # Expected agent output: \"Your name is Alice and you like chocolate.\"\n"
   ]
  },
  {
   "cell_type": "markdown",
   "id": "e5498c1a",
   "metadata": {},
   "source": [
    "### Multi-Tool Research Assistant\n",
    "    Task:\n",
    "    Build a Research Assistant that can:\n",
    "    Search the web for information [https://serpapi.com/]\n",
    "    Summarize articles\n",
    "    Save findings to a file\n",
    "    Generate a final research report"
   ]
  },
  {
   "cell_type": "code",
   "execution_count": null,
   "id": "95dbd11c",
   "metadata": {},
   "outputs": [],
   "source": []
  },
  {
   "cell_type": "code",
   "execution_count": null,
   "id": "4d0daaad",
   "metadata": {},
   "outputs": [],
   "source": []
  },
  {
   "cell_type": "markdown",
   "id": "58ba7a18",
   "metadata": {},
   "source": []
  }
 ],
 "metadata": {
  "kernelspec": {
   "display_name": ".venv",
   "language": "python",
   "name": "python3"
  },
  "language_info": {
   "codemirror_mode": {
    "name": "ipython",
    "version": 3
   },
   "file_extension": ".py",
   "mimetype": "text/x-python",
   "name": "python",
   "nbconvert_exporter": "python",
   "pygments_lexer": "ipython3",
   "version": "3.13.3"
  }
 },
 "nbformat": 4,
 "nbformat_minor": 5
}
