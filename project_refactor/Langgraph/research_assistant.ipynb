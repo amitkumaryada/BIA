{
 "cells": [
  {
   "cell_type": "code",
   "execution_count": 59,
   "id": "c3d3e339",
   "metadata": {},
   "outputs": [],
   "source": [
    "import os \n",
    "import getpass\n",
    "\n",
    "def setup_environment():\n",
    "    \"\"\"Setup your API KEYs\"\"\"\n",
    "    if not os.environ.get(\"OPENAI_API_KEY\"):\n",
    "        openai_key = getpass.getpass(\"Enter your OPENAI API KEY\")\n",
    "        os.environ[\"OPENAI_API_KEY\"] = openai_key\n",
    "    if not os.environ.get(\"SERPER_API_KEY\"):\n",
    "        serper_key = getpass.getpass(\"Enter your SERPER API KEY\")\n",
    "        os.environ[\"SERPER_API_KEY\"] = serper_key\n",
    "    if not os.environ.get(\"TAVILY_API_KEY\"):\n",
    "        tavily_key = getpass.getpass(\"Enter your TAVILY API KEY\")\n",
    "        os.environ[\"TAVILY_API_KEY\"] = tavily_key   \n",
    "\n",
    "    if not os.environ.get(\"LANGSMITH_API_KEY\"):\n",
    "        langsmith_key = getpass.getpass(\"ENTER your LAngsmith API KEY\")\n",
    "        if langsmith_key:\n",
    "            os.environ[\"LANGSMITH_API_KEY\"] = langsmith_key\n",
    "            os.environ[\"LANGCHAIN_TRACING_V2\"] =\"true\"\n",
    "            os.environ[\"LANGCHAIN_PROJECT\"] = \"Langgraph tutorial\"\n",
    "        else:\n",
    "            print(\"skipping langsmith set up\")\n",
    "\n",
    "\n",
    "    print(\"Envioenment setup completed\")"
   ]
  },
  {
   "cell_type": "code",
   "execution_count": 60,
   "id": "0fb14ff0",
   "metadata": {},
   "outputs": [
    {
     "name": "stdout",
     "output_type": "stream",
     "text": [
      "Envioenment setup completed\n"
     ]
    }
   ],
   "source": [
    "setup_environment()"
   ]
  },
  {
   "cell_type": "markdown",
   "id": "bc1cc420",
   "metadata": {},
   "source": [
    "\"\"\"\n",
    "Multi-Tool Research Assistant\n",
    "\n",
    "A LangGraph-based agent that can:\n",
    "1. Search the web for information using SerpAPI\n",
    "2. Summarize articles and web content\n",
    "3. Save research findings to files\n",
    "4. Generate comprehensive research reports\n",
    "\"\"\"\n",
    "\n",
    "        User Query\n",
    "        ↓\n",
    "        [SerpAPI] ←─────────────── Search web\n",
    "        ↓\n",
    "        [List of URLs]\n",
    "        ↓\n",
    "        [Article Scraper] ←────── Extract content\n",
    "        ↓\n",
    "        [LLM Summarizer] ←────── Summarize text\n",
    "        ↓\n",
    "        [Save Raw + Summary]\n",
    "        ↓\n",
    "        [Generate Final Report]"
   ]
  },
  {
   "cell_type": "markdown",
   "id": "dfbf5594",
   "metadata": {},
   "source": [
    "Reasoner Model\n",
    "generating research query--summarizing--reflecting on the research\n"
   ]
  },
  {
   "cell_type": "code",
   "execution_count": 61,
   "id": "ab91e60a",
   "metadata": {},
   "outputs": [],
   "source": [
    "from langgraph.graph import StateGraph , START, END\n",
    "from langgraph.graph.message import add_messages\n",
    "from langchain_core.messages import HumanMessage, AIMessage\n",
    "# from langchain_core.tools import tool\n",
    "from langgraph.prebuilt import ToolNode, tools_condition\n",
    "from typing import TypedDict, Annotated\n",
    "import operator\n",
    "from langchain_tavily import TavilySearch\n",
    "from langchain_openai import ChatOpenAI\n",
    "from langgraph.checkpoint.memory import InMemorySaver"
   ]
  },
  {
   "cell_type": "code",
   "execution_count": 62,
   "id": "d044f3c2",
   "metadata": {},
   "outputs": [],
   "source": [
    "def get_llm():\n",
    "    return ChatOpenAI(\n",
    "        model = \"gpt-4o\",\n",
    "        temperature= 0.0\n",
    "    )"
   ]
  },
  {
   "cell_type": "code",
   "execution_count": 63,
   "id": "55f5ef13",
   "metadata": {},
   "outputs": [],
   "source": [
    "llm = get_llm()"
   ]
  },
  {
   "cell_type": "code",
   "execution_count": 64,
   "id": "2dd8a0d5",
   "metadata": {},
   "outputs": [
    {
     "data": {
      "text/plain": [
       "\"I'm just a computer program, so I don't have feelings, but I'm here to help you! How can I assist you today?\""
      ]
     },
     "execution_count": 64,
     "metadata": {},
     "output_type": "execute_result"
    }
   ],
   "source": [
    "llm.invoke('how are you?').content"
   ]
  },
  {
   "cell_type": "code",
   "execution_count": null,
   "id": "91e3b867",
   "metadata": {},
   "outputs": [],
   "source": []
  },
  {
   "cell_type": "code",
   "execution_count": 28,
   "id": "48f01586",
   "metadata": {},
   "outputs": [],
   "source": [
    "# from pydantic import BaseModel, Field\n",
    "\n"
   ]
  },
  {
   "cell_type": "code",
   "execution_count": 65,
   "id": "0d1a715b",
   "metadata": {},
   "outputs": [],
   "source": [
    "def extract_result_from_tags(tag: str, result: str):\n",
    "    if \"</think>\" in result:\n",
    "        result = result.split(\"</think>\")[1]\n",
    "    #Extract using tags\n",
    "\n",
    "    if f\"<{tag}>\" in result:\n",
    "        return result.split(f\"<{tag}>\")[1].split(f\"</{tag}>\")[0]\n",
    "\n",
    "    return result"
   ]
  },
  {
   "cell_type": "code",
   "execution_count": 66,
   "id": "5b5d7a06",
   "metadata": {},
   "outputs": [],
   "source": [
    "def get_sources_from_search_results(search_results):\n",
    "    \"\"\"Extract source URLs from Tavily search results\"\"\"\n",
    "    sources = []\n",
    "    try:\n",
    "        # Tavily returns a list of dictionaries with 'url' keys\n",
    "        if isinstance(search_results, list):\n",
    "            for result in search_results:\n",
    "                if isinstance(result, dict) and 'url' in result:\n",
    "                    sources.append(result['url'])\n",
    "        # Sometimes it might return a dict with a list under a key like 'results'\n",
    "        elif isinstance(search_results, dict):\n",
    "            if 'results' in search_results and isinstance(search_results['results'], list):\n",
    "                for result in search_results['results']:\n",
    "                    if isinstance(result, dict) and 'url' in result:\n",
    "                        sources.append(result['url'])\n",
    "    except Exception as e:\n",
    "        print(f\"Error extracting sources: {e}\")\n",
    "    \n",
    "    return sources"
   ]
  },
  {
   "cell_type": "code",
   "execution_count": 67,
   "id": "fb297a28",
   "metadata": {},
   "outputs": [],
   "source": [
    "class InputState(TypedDict):\n",
    "    topic: str\n",
    "    max_web_searchs: int"
   ]
  },
  {
   "cell_type": "code",
   "execution_count": 68,
   "id": "f778639f",
   "metadata": {},
   "outputs": [],
   "source": [
    "class OutputState(TypedDict):\n",
    "    summary: str"
   ]
  },
  {
   "cell_type": "code",
   "execution_count": 69,
   "id": "436f90a1",
   "metadata": {},
   "outputs": [],
   "source": [
    "class ResearchState(InputState, OutputState):\n",
    "    search_query: str\n",
    "    research_loop_count: int\n",
    "    sources_gathered: Annotated[list, operator.add]\n",
    "    web_search_results: Annotated[list, operator.add]"
   ]
  },
  {
   "cell_type": "code",
   "execution_count": 70,
   "id": "1ba86a09",
   "metadata": {},
   "outputs": [],
   "source": [
    "def generate_first_query(state: InputState):\n",
    "    prompt = (\n",
    "        f\"Your goal is to generate a targeted web search query. ... The topic is: {state['topic']} ...\"\n",
    "        \"Please return the query wrapped in <query> tags. For example: <query>Suggested query</query>\"\n",
    "    )\n",
    "\n",
    "    reasoner_llm = get_llm()  \n",
    "    response = reasoner_llm.invoke(prompt)\n",
    "  \n",
    "    #Extract using tags\n",
    "    query = extract_result_from_tags(\"query\", response.content) \n",
    "    return {\"search_query\": query}"
   ]
  },
  {
   "cell_type": "markdown",
   "id": "edd8829b",
   "metadata": {},
   "source": []
  },
  {
   "cell_type": "code",
   "execution_count": 71,
   "id": "518727b9",
   "metadata": {},
   "outputs": [],
   "source": [
    "def web_search_generator(state: ResearchState):\n",
    "    # Initialize TavilySearch first, then call it with the query\n",
    "    search_tool = TavilySearch()\n",
    "    search_results = search_tool.invoke(state['search_query'])\n",
    "\n",
    "    return {\n",
    "        \"sources_gathered\": [get_sources_from_search_results(search_results)],\n",
    "        \"web_search_results\": [search_results],\n",
    "        \"research_loop_count\": state[\"research_loop_count\"] + 1 if \"research_loop_count\" in state else 1\n",
    "    }\n",
    "\n"
   ]
  },
  {
   "cell_type": "code",
   "execution_count": 72,
   "id": "806ffb69",
   "metadata": {},
   "outputs": [],
   "source": [
    "def summarize_sources(state: ResearchState):\n",
    "    existing_summary = state.get(\"summary\", \"\")\n",
    "    last_web_search = state[\"web_search_results\"][-1]\n",
    "    prompt = (\n",
    "        f\"Generate a high-quality summary of the web search results ... The topic is: {state['topic']} ...\"\n",
    "        f\"{f'Existing summary: {existing_summary}' if existing_summary else ''}\"\n",
    "        f\"Search results: {last_web_search}\"\n",
    "        \"Please return the summary wrapped in <summary> tags. For example: <summary>Suggested summary</summary>\"\n",
    "    )\n",
    "\n",
    "    reasoner_llm = get_llm()\n",
    "    # Use the invoke method with a properly formatted HumanMessage\n",
    "    response = reasoner_llm.invoke([HumanMessage(content=prompt)])\n",
    "\n",
    "    #Extract using tags\n",
    "    summary = extract_result_from_tags(\"summary\", response.content) \n",
    "    return {\"summary\": summary}"
   ]
  },
  {
   "cell_type": "code",
   "execution_count": 73,
   "id": "83917a07",
   "metadata": {},
   "outputs": [],
   "source": [
    "def reflect_on_suumary(state: ResearchState):\n",
    "    prompt = (\n",
    "        f\"Identify knowledge gaps or areas that need deeper exploration ... The topic is: {state['topic']} ...\"\n",
    "        f\"The summary is: {state['summary']}\"\n",
    "        \"Please return the query wrapped in <query> tags. For example: <query>Suggested query</query>\"\n",
    "    )\n",
    "\n",
    "    reasoner_llm = get_llm()\n",
    "    # Use the invoke method with a properly formatted HumanMessage\n",
    "    response = reasoner_llm.invoke([HumanMessage(content=prompt)])\n",
    "\n",
    "    #Extract using tags\n",
    "    query = extract_result_from_tags(\"query\", response.content)    \n",
    "    return {\"search_query\": query}"
   ]
  },
  {
   "cell_type": "code",
   "execution_count": 76,
   "id": "919bf846",
   "metadata": {},
   "outputs": [],
   "source": [
    "def finalize_summary(state: ResearchState):\n",
    "  # Flatten the list of lists and ensure they're all strings\n",
    "  all_sources_flat = []\n",
    "  for source_list in state[\"sources_gathered\"]:\n",
    "    if isinstance(source_list, list):\n",
    "      all_sources_flat.extend(source_list)\n",
    "    else:\n",
    "      all_sources_flat.append(source_list)\n",
    "      \n",
    "  # Remove duplicates while preserving order\n",
    "  unique_sources = []\n",
    "  for source in all_sources_flat:\n",
    "    if source not in unique_sources and isinstance(source, str):\n",
    "      unique_sources.append(source)\n",
    "      \n",
    "  all_sources = \"\\n\".join(source for source in unique_sources)\n",
    "  final_summary = f\"## Summary\\n\\n{state['summary']}\\n\\n ### Sources:\\n{all_sources}\"\n",
    "    \n",
    "  return {\"summary\": final_summary}"
   ]
  },
  {
   "cell_type": "code",
   "execution_count": 77,
   "id": "4b776b56",
   "metadata": {},
   "outputs": [],
   "source": [
    "def reasearch_router(state: ResearchState) -> Literal[\"finalize_summary\", \"web_research\"]:\n",
    "    if state[\"research_loop_count\"] < state[\"max_web_searchs\"]:\n",
    "        return \"web_research\"\n",
    "    else:\n",
    "        return \"finalize_summary\""
   ]
  },
  {
   "cell_type": "code",
   "execution_count": null,
   "id": "92db0927",
   "metadata": {},
   "outputs": [],
   "source": [
    "def get_workflow():\n",
    "    # Use input_schema and output_schema instead of the deprecated input and output parameters\n",
    "    builder = StateGraph(ResearchState, input_schema=InputState, output_schema=OutputState)\n",
    "\n",
    "    # Add nodes\n",
    "    builder.add_node(\"generate_first_query\", generate_first_query)\n",
    "    builder.add_node(\"web_research\", web_search_generator)\n",
    "    builder.add_node(\"summarize_sources\", summarize_sources)\n",
    "    builder.add_node(\"reflect_on_summary\", reflect_on_suumary)\n",
    "    builder.add_node(\"finalize_summary\", finalize_summary)\n",
    "\n",
    "    # Add edges\n",
    "    builder.add_edge(START, \"generate_first_query\")\n",
    "    builder.add_edge(\"generate_first_query\", \"web_research\")\n",
    "    builder.add_edge(\"web_research\", \"summarize_sources\")\n",
    "    builder.add_edge(\"summarize_sources\", \"reflect_on_summary\")\n",
    "    builder.add_conditional_edges(\"reflect_on_summary\", reasearch_router)\n",
    "    builder.add_edge(\"finalize_summary\", END)\n",
    "\n",
    "    return builder.compile()\n",
    "\n"
   ]
  },
  {
   "cell_type": "code",
   "execution_count": 88,
   "id": "28f073ce",
   "metadata": {},
   "outputs": [
    {
     "data": {
      "image/png": "[encoded data removed]",
      "text/plain": [
       "<IPython.core.display.Image object>"
      ]
     },
     "metadata": {},
     "output_type": "display_data"
    }
   ],
   "source": [
    "graph_workflow  = get_workflow()\n",
    "from IPython.display import Image, display\n",
    "\n",
    "display(Image(graph_workflow.get_graph().draw_mermaid_png()))\n",
    "\n"
   ]
  },
  {
   "cell_type": "code",
   "execution_count": 80,
   "id": "f1a439e3",
   "metadata": {},
   "outputs": [
    {
     "name": "stdout",
     "output_type": "stream",
     "text": [
      "\n",
      "\n",
      "RESEARCH SUMMARY:\n",
      "=================\n",
      "\n",
      "## Summary\n",
      "\n",
      "DeepSeek-R1 was trained using a multi-stage process that combines Supervised Fine-Tuning (SFT) and Reinforcement Learning (RL) across two stages each. The training methodology emphasizes complex reasoning tasks such as mathematics, coding, and scientific reasoning. A key component of the training is the use of Group Relative Policy Optimization (GRPO), which is applied with rule-based and outcome reward models to enhance the model's helpfulness and harmlessness. This approach allows DeepSeek-R1 to rival OpenAI's models in reasoning tasks without relying on labeled data, utilizing pure RL techniques. Specific datasets or sources of data used during the SFT and RL stages were not detailed in the search results, but the Medical Chain-of-Thought Dataset from Hugging Face was mentioned as part of the fine-tuning process.\n",
      "\n",
      " ### Sources:\n",
      "https://www.linkedin.com/pulse/deepseek-r1-training-process-qi-he-hnn9e\n",
      "https://www.philschmid.de/deepseek-r1\n",
      "https://medium.com/@namnguyenthe/deepseek-r1-architecture-and-training-explain-83319903a684\n",
      "https://www.vellum.ai/blog/the-training-of-deepseek-r1-and-ways-to-use-it\n",
      "https://www.reddit.com/r/LLMDevs/comments/1ibhpqw/how_was_deepseekr1_built_for_dummies/\n",
      "https://cdn.deepseek.com/policies/en-US/model-algorithm-disclosure.html\n",
      "https://www.datacamp.com/tutorial/fine-tuning-deepseek-r1-reasoning-model\n",
      "https://medium.com/@lixue421/deepseek-explained-8-post-training-of-deepseek-v3-6321d57f4fdf\n",
      "https://link.springer.com/chapter/10.1007/979-8-8688-1402-0_12\n",
      "https://www.youtube.com/watch?v=m9L_OcJf2Lk\n",
      "https://medium.com/data-science-in-your-pocket/understanding-deepseek-r1-paper-beginners-guide-e86f83fda796\n"
     ]
    }
   ],
   "source": [
    "workflow = get_workflow()\n",
    "\n",
    "result = workflow.invoke({\n",
    "    \"topic\": \"How was deepseek r1 trained\",\n",
    "    \"max_web_searchs\": 3\n",
    "})\n",
    "print(\"\\n\\nRESEARCH SUMMARY:\\n=================\\n\")\n",
    "print(result[\"summary\"]) #Display the summary"
   ]
  },
  {
   "cell_type": "code",
   "execution_count": 86,
   "id": "fd66b3de",
   "metadata": {},
   "outputs": [
    {
     "name": "stdout",
     "output_type": "stream",
     "text": [
      "('## Summary\\n'\n",
      " '\\n'\n",
      " 'DeepSeek-R1 was trained using a multi-stage process that combines Supervised '\n",
      " 'Fine-Tuning (SFT) and Reinforcement Learning (RL) across two stages each. '\n",
      " 'The training methodology emphasizes complex reasoning tasks such as '\n",
      " 'mathematics, coding, and scientific reasoning. A key component of the '\n",
      " 'training is the use of Group Relative Policy Optimization (GRPO), which is '\n",
      " \"applied with rule-based and outcome reward models to enhance the model's \"\n",
      " 'helpfulness and harmlessness. This approach allows DeepSeek-R1 to rival '\n",
      " \"OpenAI's models in reasoning tasks without relying on labeled data, \"\n",
      " 'utilizing pure RL techniques. Specific datasets or sources of data used '\n",
      " 'during the SFT and RL stages were not detailed in the search results, but '\n",
      " 'the Medical Chain-of-Thought Dataset from Hugging Face was mentioned as part '\n",
      " 'of the fine-tuning process.\\n'\n",
      " '\\n'\n",
      " ' ### Sources:\\n'\n",
      " 'https://www.linkedin.com/pulse/deepseek-r1-training-process-qi-he-hnn9e\\n'\n",
      " 'https://www.philschmid.de/deepseek-r1\\n'\n",
      " 'https://medium.com/@namnguyenthe/deepseek-r1-architecture-and-training-explain-83319903a684\\n'\n",
      " 'https://www.vellum.ai/blog/the-training-of-deepseek-r1-and-ways-to-use-it\\n'\n",
      " 'https://www.reddit.com/r/LLMDevs/comments/1ibhpqw/how_was_deepseekr1_built_for_dummies/\\n'\n",
      " 'https://cdn.deepseek.com/policies/en-US/model-algorithm-disclosure.html\\n'\n",
      " 'https://www.datacamp.com/tutorial/fine-tuning-deepseek-r1-reasoning-model\\n'\n",
      " 'https://medium.com/@lixue421/deepseek-explained-8-post-training-of-deepseek-v3-6321d57f4fdf\\n'\n",
      " 'https://link.springer.com/chapter/10.1007/979-8-8688-1402-0_12\\n'\n",
      " 'https://www.youtube.com/watch?v=m9L_OcJf2Lk\\n'\n",
      " 'https://medium.com/data-science-in-your-pocket/understanding-deepseek-r1-paper-beginners-guide-e86f83fda796')\n"
     ]
    }
   ],
   "source": [
    "from pprint import pprint\n",
    "pprint(result['summary'])"
   ]
  },
  {
   "cell_type": "code",
   "execution_count": null,
   "id": "397d5f6d",
   "metadata": {},
   "outputs": [],
   "source": []
  }
 ],
 "metadata": {
  "kernelspec": {
   "display_name": ".venv",
   "language": "python",
   "name": "python3"
  },
  "language_info": {
   "codemirror_mode": {
    "name": "ipython",
    "version": 3
   },
   "file_extension": ".py",
   "mimetype": "text/x-python",
   "name": "python",
   "nbconvert_exporter": "python",
   "pygments_lexer": "ipython3",
   "version": "3.13.3"
  }
 },
 "nbformat": 4,
 "nbformat_minor": 5
}
