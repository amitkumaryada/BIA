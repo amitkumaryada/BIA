{
 "cells": [
  {
   "cell_type": "code",
   "execution_count": null,
   "id": "9a916f23",
   "metadata": {},
   "outputs": [],
   "source": [
    "!pip install langchain langchain-openai serpapi"
   ]
  },
  {
   "cell_type": "markdown",
   "id": "a62649a6",
   "metadata": {},
   "source": [
    "### Chain-of-Thought (CoT)\n",
    "Concept:\n",
    "\n",
    "CoT encourages the model to “think step by step.”\n",
    "\n",
    "Example:\n",
    "\n",
    "Task: Solve 35 + 47 – 12\n",
    "\n",
    "Prompt: Let's solve step by step:\n",
    "1. Add 35 and 47.\n",
    "2. Subtract 12 from the result.\n",
    "Answer:\n",
    "\n",
    "Expected Output:\n",
    "    Step 1: 35 + 47 = 82\n",
    "Step 2: 82 – 12 = 70\n",
    "Answer: 70"
   ]
  },
  {
   "cell_type": "code",
   "execution_count": 4,
   "id": "6a8080e8",
   "metadata": {},
   "outputs": [
    {
     "ename": "AttributeError",
     "evalue": "module 'openai' has no attribute 'OpenAI'",
     "output_type": "error",
     "traceback": [
      "\u001b[0;31m---------------------------------------------------------------------------\u001b[0m",
      "\u001b[0;31mAttributeError\u001b[0m                            Traceback (most recent call last)",
      "Cell \u001b[0;32mIn[4], line 5\u001b[0m\n\u001b[1;32m      1\u001b[0m \u001b[38;5;28;01mfrom\u001b[39;00m\u001b[38;5;250m \u001b[39m\u001b[38;5;21;01mlangchain_openai\u001b[39;00m\u001b[38;5;250m \u001b[39m\u001b[38;5;28;01mimport\u001b[39;00m ChatOpenAI\n\u001b[1;32m      2\u001b[0m \u001b[38;5;28;01mfrom\u001b[39;00m\u001b[38;5;250m \u001b[39m\u001b[38;5;21;01mlangchain\u001b[39;00m\u001b[38;5;21;01m.\u001b[39;00m\u001b[38;5;21;01mprompts\u001b[39;00m\u001b[38;5;250m \u001b[39m\u001b[38;5;28;01mimport\u001b[39;00m PromptTemplate\n\u001b[0;32m----> 5\u001b[0m llm \u001b[38;5;241m=\u001b[39m \u001b[43mChatOpenAI\u001b[49m\u001b[43m(\u001b[49m\u001b[43mmodel\u001b[49m\u001b[38;5;241;43m=\u001b[39;49m\u001b[38;5;124;43m\"\u001b[39;49m\u001b[38;5;124;43mgpt-4o\u001b[39;49m\u001b[38;5;124;43m\"\u001b[39;49m\u001b[43m)\u001b[49m\n\u001b[1;32m      6\u001b[0m prompt \u001b[38;5;241m=\u001b[39m PromptTemplate(template\u001b[38;5;241m=\u001b[39m\u001b[38;5;124m\"\u001b[39m\u001b[38;5;124mLet\u001b[39m\u001b[38;5;124m'\u001b[39m\u001b[38;5;124ms solve step by step: \u001b[39m\u001b[38;5;132;01m{problem}\u001b[39;00m\u001b[38;5;130;01m\\n\u001b[39;00m\u001b[38;5;124mAnswer:\u001b[39m\u001b[38;5;124m\"\u001b[39m, input_variables\u001b[38;5;241m=\u001b[39m[\u001b[38;5;124m\"\u001b[39m\u001b[38;5;124mproblem\u001b[39m\u001b[38;5;124m\"\u001b[39m])\n\u001b[1;32m      7\u001b[0m chain \u001b[38;5;241m=\u001b[39m prompt \u001b[38;5;241m|\u001b[39m llm\n",
      "File \u001b[0;32m~/Documents/langchain-academy/lc-academy-env/lib/python3.12/site-packages/langchain_core/load/serializable.py:130\u001b[0m, in \u001b[0;36mSerializable.__init__\u001b[0;34m(self, *args, **kwargs)\u001b[0m\n\u001b[1;32m    128\u001b[0m \u001b[38;5;28;01mdef\u001b[39;00m\u001b[38;5;250m \u001b[39m\u001b[38;5;21m__init__\u001b[39m(\u001b[38;5;28mself\u001b[39m, \u001b[38;5;241m*\u001b[39margs: Any, \u001b[38;5;241m*\u001b[39m\u001b[38;5;241m*\u001b[39mkwargs: Any) \u001b[38;5;241m-\u001b[39m\u001b[38;5;241m>\u001b[39m \u001b[38;5;28;01mNone\u001b[39;00m:\n\u001b[1;32m    129\u001b[0m \u001b[38;5;250m    \u001b[39m\u001b[38;5;124;03m\"\"\"\"\"\"\u001b[39;00m  \u001b[38;5;66;03m# noqa: D419\u001b[39;00m\n\u001b[0;32m--> 130\u001b[0m     \u001b[38;5;28;43msuper\u001b[39;49m\u001b[43m(\u001b[49m\u001b[43m)\u001b[49m\u001b[38;5;241;43m.\u001b[39;49m\u001b[38;5;21;43m__init__\u001b[39;49m\u001b[43m(\u001b[49m\u001b[38;5;241;43m*\u001b[39;49m\u001b[43margs\u001b[49m\u001b[43m,\u001b[49m\u001b[43m \u001b[49m\u001b[38;5;241;43m*\u001b[39;49m\u001b[38;5;241;43m*\u001b[39;49m\u001b[43mkwargs\u001b[49m\u001b[43m)\u001b[49m\n",
      "    \u001b[0;31m[... skipping hidden 1 frame]\u001b[0m\n",
      "File \u001b[0;32m~/Documents/langchain-academy/lc-academy-env/lib/python3.12/site-packages/langchain_openai/chat_models/base.py:551\u001b[0m, in \u001b[0;36mBaseChatOpenAI.validate_environment\u001b[0;34m(self)\u001b[0m\n\u001b[1;32m    549\u001b[0m         \u001b[38;5;28mself\u001b[39m\u001b[38;5;241m.\u001b[39mhttp_client \u001b[38;5;241m=\u001b[39m httpx\u001b[38;5;241m.\u001b[39mClient(proxy\u001b[38;5;241m=\u001b[39m\u001b[38;5;28mself\u001b[39m\u001b[38;5;241m.\u001b[39mopenai_proxy)\n\u001b[1;32m    550\u001b[0m     sync_specific \u001b[38;5;241m=\u001b[39m {\u001b[38;5;124m\"\u001b[39m\u001b[38;5;124mhttp_client\u001b[39m\u001b[38;5;124m\"\u001b[39m: \u001b[38;5;28mself\u001b[39m\u001b[38;5;241m.\u001b[39mhttp_client}\n\u001b[0;32m--> 551\u001b[0m     \u001b[38;5;28mself\u001b[39m\u001b[38;5;241m.\u001b[39mroot_client \u001b[38;5;241m=\u001b[39m \u001b[43mopenai\u001b[49m\u001b[38;5;241;43m.\u001b[39;49m\u001b[43mOpenAI\u001b[49m(\u001b[38;5;241m*\u001b[39m\u001b[38;5;241m*\u001b[39mclient_params, \u001b[38;5;241m*\u001b[39m\u001b[38;5;241m*\u001b[39msync_specific)  \u001b[38;5;66;03m# type: ignore[arg-type]\u001b[39;00m\n\u001b[1;32m    552\u001b[0m     \u001b[38;5;28mself\u001b[39m\u001b[38;5;241m.\u001b[39mclient \u001b[38;5;241m=\u001b[39m \u001b[38;5;28mself\u001b[39m\u001b[38;5;241m.\u001b[39mroot_client\u001b[38;5;241m.\u001b[39mchat\u001b[38;5;241m.\u001b[39mcompletions\n\u001b[1;32m    553\u001b[0m \u001b[38;5;28;01mif\u001b[39;00m \u001b[38;5;129;01mnot\u001b[39;00m \u001b[38;5;28mself\u001b[39m\u001b[38;5;241m.\u001b[39masync_client:\n",
      "\u001b[0;31mAttributeError\u001b[0m: module 'openai' has no attribute 'OpenAI'"
     ]
    }
   ],
   "source": [
    "from langchain_openai import ChatOpenAI\n",
    "from langchain.prompts import PromptTemplate\n",
    "\n",
    "\n",
    "llm = ChatOpenAI(model=\"gpt-4o\")\n",
    "prompt = PromptTemplate(template=\"Let's solve step by step: {problem}\\nAnswer:\", input_variables=[\"problem\"])\n",
    "chain = prompt | llm\n",
    "\n",
    "\n",
    "print(chain.invoke({\"problem\": \"35 + 47 - 12\"}))"
   ]
  },
  {
   "cell_type": "markdown",
   "id": "e8b6d058",
   "metadata": {},
   "source": [
    "### ReAct (Reason + Act)\n",
    "Concept:\n",
    "\n",
    "Combine reasoning traces with actions. The model alternates between Thought, Action, Observation.\n",
    "\n",
    "Example:\n",
    "\n",
    "Task: Find the current CEO of OpenAI and summarize their background.\n",
    "\n",
    "Prompt:\n",
    "Question: Who is the current CEO of OpenAI?\n",
    "\n",
    "\n",
    "Thought: I should look up the current CEO.\n",
    "Action: Search(\"CEO of OpenAI\")\n",
    "Observation: (search result)\n",
    "\n",
    "\n",
    "Thought: Now summarize their background.\n",
    "Action: Summarize"
   ]
  },
  {
   "cell_type": "code",
   "execution_count": 5,
   "id": "bc374343",
   "metadata": {},
   "outputs": [
    {
     "ename": "AttributeError",
     "evalue": "module 'openai' has no attribute 'OpenAI'",
     "output_type": "error",
     "traceback": [
      "\u001b[0;31m---------------------------------------------------------------------------\u001b[0m",
      "\u001b[0;31mAttributeError\u001b[0m                            Traceback (most recent call last)",
      "Cell \u001b[0;32mIn[5], line 5\u001b[0m\n\u001b[1;32m      1\u001b[0m \u001b[38;5;28;01mfrom\u001b[39;00m\u001b[38;5;250m \u001b[39m\u001b[38;5;21;01mlangchain\u001b[39;00m\u001b[38;5;21;01m.\u001b[39;00m\u001b[38;5;21;01magents\u001b[39;00m\u001b[38;5;250m \u001b[39m\u001b[38;5;28;01mimport\u001b[39;00m initialize_agent, load_tools\n\u001b[1;32m      2\u001b[0m \u001b[38;5;28;01mfrom\u001b[39;00m\u001b[38;5;250m \u001b[39m\u001b[38;5;21;01mlangchain_openai\u001b[39;00m\u001b[38;5;250m \u001b[39m\u001b[38;5;28;01mimport\u001b[39;00m ChatOpenAI\n\u001b[0;32m----> 5\u001b[0m llm \u001b[38;5;241m=\u001b[39m \u001b[43mChatOpenAI\u001b[49m\u001b[43m(\u001b[49m\u001b[43mmodel\u001b[49m\u001b[38;5;241;43m=\u001b[39;49m\u001b[38;5;124;43m\"\u001b[39;49m\u001b[38;5;124;43mgpt-4o\u001b[39;49m\u001b[38;5;124;43m\"\u001b[39;49m\u001b[43m)\u001b[49m\n\u001b[1;32m      6\u001b[0m tools \u001b[38;5;241m=\u001b[39m load_tools([\u001b[38;5;124m\"\u001b[39m\u001b[38;5;124mserpapi\u001b[39m\u001b[38;5;124m\"\u001b[39m], llm\u001b[38;5;241m=\u001b[39mllm)\n\u001b[1;32m      7\u001b[0m agent \u001b[38;5;241m=\u001b[39m initialize_agent(tools, llm, agent\u001b[38;5;241m=\u001b[39m\u001b[38;5;124m\"\u001b[39m\u001b[38;5;124mzero-shot-react-description\u001b[39m\u001b[38;5;124m\"\u001b[39m)\n",
      "File \u001b[0;32m~/Documents/langchain-academy/lc-academy-env/lib/python3.12/site-packages/langchain_core/load/serializable.py:130\u001b[0m, in \u001b[0;36mSerializable.__init__\u001b[0;34m(self, *args, **kwargs)\u001b[0m\n\u001b[1;32m    128\u001b[0m \u001b[38;5;28;01mdef\u001b[39;00m\u001b[38;5;250m \u001b[39m\u001b[38;5;21m__init__\u001b[39m(\u001b[38;5;28mself\u001b[39m, \u001b[38;5;241m*\u001b[39margs: Any, \u001b[38;5;241m*\u001b[39m\u001b[38;5;241m*\u001b[39mkwargs: Any) \u001b[38;5;241m-\u001b[39m\u001b[38;5;241m>\u001b[39m \u001b[38;5;28;01mNone\u001b[39;00m:\n\u001b[1;32m    129\u001b[0m \u001b[38;5;250m    \u001b[39m\u001b[38;5;124;03m\"\"\"\"\"\"\u001b[39;00m  \u001b[38;5;66;03m# noqa: D419\u001b[39;00m\n\u001b[0;32m--> 130\u001b[0m     \u001b[38;5;28;43msuper\u001b[39;49m\u001b[43m(\u001b[49m\u001b[43m)\u001b[49m\u001b[38;5;241;43m.\u001b[39;49m\u001b[38;5;21;43m__init__\u001b[39;49m\u001b[43m(\u001b[49m\u001b[38;5;241;43m*\u001b[39;49m\u001b[43margs\u001b[49m\u001b[43m,\u001b[49m\u001b[43m \u001b[49m\u001b[38;5;241;43m*\u001b[39;49m\u001b[38;5;241;43m*\u001b[39;49m\u001b[43mkwargs\u001b[49m\u001b[43m)\u001b[49m\n",
      "    \u001b[0;31m[... skipping hidden 1 frame]\u001b[0m\n",
      "File \u001b[0;32m~/Documents/langchain-academy/lc-academy-env/lib/python3.12/site-packages/langchain_openai/chat_models/base.py:551\u001b[0m, in \u001b[0;36mBaseChatOpenAI.validate_environment\u001b[0;34m(self)\u001b[0m\n\u001b[1;32m    549\u001b[0m         \u001b[38;5;28mself\u001b[39m\u001b[38;5;241m.\u001b[39mhttp_client \u001b[38;5;241m=\u001b[39m httpx\u001b[38;5;241m.\u001b[39mClient(proxy\u001b[38;5;241m=\u001b[39m\u001b[38;5;28mself\u001b[39m\u001b[38;5;241m.\u001b[39mopenai_proxy)\n\u001b[1;32m    550\u001b[0m     sync_specific \u001b[38;5;241m=\u001b[39m {\u001b[38;5;124m\"\u001b[39m\u001b[38;5;124mhttp_client\u001b[39m\u001b[38;5;124m\"\u001b[39m: \u001b[38;5;28mself\u001b[39m\u001b[38;5;241m.\u001b[39mhttp_client}\n\u001b[0;32m--> 551\u001b[0m     \u001b[38;5;28mself\u001b[39m\u001b[38;5;241m.\u001b[39mroot_client \u001b[38;5;241m=\u001b[39m \u001b[43mopenai\u001b[49m\u001b[38;5;241;43m.\u001b[39;49m\u001b[43mOpenAI\u001b[49m(\u001b[38;5;241m*\u001b[39m\u001b[38;5;241m*\u001b[39mclient_params, \u001b[38;5;241m*\u001b[39m\u001b[38;5;241m*\u001b[39msync_specific)  \u001b[38;5;66;03m# type: ignore[arg-type]\u001b[39;00m\n\u001b[1;32m    552\u001b[0m     \u001b[38;5;28mself\u001b[39m\u001b[38;5;241m.\u001b[39mclient \u001b[38;5;241m=\u001b[39m \u001b[38;5;28mself\u001b[39m\u001b[38;5;241m.\u001b[39mroot_client\u001b[38;5;241m.\u001b[39mchat\u001b[38;5;241m.\u001b[39mcompletions\n\u001b[1;32m    553\u001b[0m \u001b[38;5;28;01mif\u001b[39;00m \u001b[38;5;129;01mnot\u001b[39;00m \u001b[38;5;28mself\u001b[39m\u001b[38;5;241m.\u001b[39masync_client:\n",
      "\u001b[0;31mAttributeError\u001b[0m: module 'openai' has no attribute 'OpenAI'"
     ]
    }
   ],
   "source": [
    "from langchain.agents import initialize_agent, load_tools\n",
    "from langchain_openai import ChatOpenAI\n",
    "\n",
    "\n",
    "llm = ChatOpenAI(model=\"gpt-4o\")\n",
    "tools = load_tools([\"serpapi\"], llm=llm)\n",
    "agent = initialize_agent(tools, llm, agent=\"zero-shot-react-description\")\n",
    "\n",
    "\n",
    "response = agent.run(\"Who is the CEO of OpenAI and summarize their background?\")\n",
    "print(response)"
   ]
  },
  {
   "cell_type": "markdown",
   "id": "f32cf43c",
   "metadata": {},
   "source": [
    "Tree-of-Thought (ToT)\n",
    "Concept:\n",
    "\n",
    "Instead of a single chain, explore multiple possible reasoning paths (branches) and evaluate the best one.\n",
    "\n",
    "Example:\n",
    "\n",
    "Task: Brainstorm 3 startup ideas for AI in healthcare and pick the best one.\n",
    "\n",
    "Prompt:\n",
    "\n",
    "Let's think in multiple paths:\n",
    "Path 1: ...\n",
    "Path 2: ...\n",
    "Path 3: ...\n",
    "Evaluate and choose the best idea with reasoning."
   ]
  },
  {
   "cell_type": "code",
   "execution_count": null,
   "id": "904480c6",
   "metadata": {},
   "outputs": [],
   "source": [
    "ideas = llm.invoke(\"Generate 3 startup ideas for AI in healthcare\")\n",
    "evaluations = llm.invoke(f\"Evaluate the following ideas and pick the most impactful one: {ideas}\")\n",
    "print(evaluations)"
   ]
  },
  {
   "cell_type": "markdown",
   "id": "78769201",
   "metadata": {},
   "source": [
    "### Graph-of-Thought (GoT)\n",
    "Concept:\n",
    "\n",
    "Generalizes ToT into a graph: multiple reasoning paths can converge, reuse sub-results, or feed into each other.\n",
    "\n",
    "Example:\n",
    "\n",
    "Task: Plan a week-long AI learning curriculum.\n",
    "\n",
    "Node 1: Day 1 topics\n",
    "\n",
    "Node 2: Day 2 topics (depends on Node 1)\n",
    "\n",
    "Node 3: Assessment (depends on Node 2)\n",
    "\n",
    "This allows iterative refinement: if Day 2 is too heavy, adjust Day 1."
   ]
  },
  {
   "cell_type": "code",
   "execution_count": null,
   "id": "45d5cb38",
   "metadata": {},
   "outputs": [],
   "source": [
    "# Basic example of building a graph of reasoning nodes\n",
    "thoughts = {\n",
    "\"Day 1\": \"Introduction to AI + history\",\n",
    "\"Day 2\": \"Machine Learning basics\",\n",
    "\"Day 3\": \"Deep Learning intro\",\n",
    "\"Assessment\": \"Quiz based on Day 1-3\"\n",
    "}\n",
    "\n",
    "\n",
    "for node, content in thoughts.items():\n",
    "print(f\"{node} -> {content}\")"
   ]
  },
  {
   "cell_type": "markdown",
   "id": "d18d79b2",
   "metadata": {},
   "source": [
    "    Summary: When to Use What\n",
    "    Technique\tWhen to Use\n",
    "    CoT\tStraightforward reasoning tasks, math problems, logical puzzles.\n",
    "    ReAct\tWhen interaction with tools, APIs, or dynamic data is needed.\n",
    "    ToT\tOpen-ended reasoning, brainstorming, planning where multiple paths need exploration.\n",
    "    GoT\tVery complex workflows, research planning, knowledge graph reasoning, collaborative multi-step problem solving."
   ]
  },
  {
   "cell_type": "markdown",
   "id": "916faa12",
   "metadata": {},
   "source": []
  }
 ],
 "metadata": {
  "kernelspec": {
   "display_name": "Python (virtual)",
   "language": "python",
   "name": "lc-academy-env"
  },
  "language_info": {
   "codemirror_mode": {
    "name": "ipython",
    "version": 3
   },
   "file_extension": ".py",
   "mimetype": "text/x-python",
   "name": "python",
   "nbconvert_exporter": "python",
   "pygments_lexer": "ipython3",
   "version": "3.12.6"
  }
 },
 "nbformat": 4,
 "nbformat_minor": 5
}
