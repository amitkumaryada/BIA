{
  "nbformat": 4,
  "nbformat_minor": 0,
  "metadata": {
    "colab": {
      "provenance": []
    },
    "kernelspec": {
      "name": "python3",
      "display_name": "Python 3"
    },
    "language_info": {
      "name": "python"
    }
  },
  "cells": [
    {
      "cell_type": "code",
      "execution_count": null,
      "metadata": {
        "colab": {
          "base_uri": "https://localhost:8080/"
        },
        "id": "Ho0EoUoeiSi-",
        "outputId": "b340af08-6c10-46a0-9f35-d27e3ef56ed8"
      },
      "outputs": [
        {
          "output_type": "stream",
          "name": "stdout",
          "text": [
            "\u001b[?25l   \u001b[90m━━━━━━━━━━━━━━━━━━━━━━━━━━━━━━━━━━━━━━━━\u001b[0m \u001b[32m0.0/42.0 kB\u001b[0m \u001b[31m?\u001b[0m eta \u001b[36m-:--:--\u001b[0m\r\u001b[2K   \u001b[90m━━━━━━━━━━━━━━━━━━━━━━━━━━━━━━━━━━━━━━━━\u001b[0m \u001b[32m42.0/42.0 kB\u001b[0m \u001b[31m1.9 MB/s\u001b[0m eta \u001b[36m0:00:00\u001b[0m\n",
            "\u001b[?25h"
          ]
        }
      ],
      "source": [
        "!pip install -q langchain-google-genai google-generativeai\n",
        "\n"
      ]
    },
    {
      "cell_type": "code",
      "source": [
        "import os\n",
        "from langchain_google_genai import ChatGoogleGenerativeAI\n",
        "\n",
        "# 🔑 Set your Gemini API Key here\n",
        "os.environ[\"GOOGLE_API_KEY\"] = \"\"\n",
        "\n",
        "llm = ChatGoogleGenerativeAI(model=\"gemini-1.5-flash\")"
      ],
      "metadata": {
        "id": "cgHQF4SOiYr5"
      },
      "execution_count": null,
      "outputs": []
    },
    {
      "cell_type": "code",
      "source": [
        "def ask_llm(prompt: str) -> str:\n",
        "    resp = llm.invoke(prompt)   # just pass string\n",
        "    return resp.content.strip()\n"
      ],
      "metadata": {
        "id": "TGdIccfoigVH"
      },
      "execution_count": null,
      "outputs": []
    },
    {
      "cell_type": "code",
      "source": [
        "question = \"Who discovered gravity and in which year?\"\n",
        "\n",
        "# Step 1: Draft\n",
        "draft = ask_llm(f\"Answer the question: {question}\")\n",
        "print(\"Draft:\", draft)\n",
        "\n",
        "# Step 2: Critique\n",
        "critique = ask_llm(f\"Here is a draft: {draft}\\n\\nCheck for mistakes and provide corrections.\")\n",
        "print(\"\\nCritique:\", critique)\n",
        "\n",
        "# Step 3: Final\n",
        "final = ask_llm(f\"Draft: {draft}\\nCritique: {critique}\\n\\nGive the corrected final answer.\")\n",
        "print(\"\\nFinal Answer:\", final)\n"
      ],
      "metadata": {
        "colab": {
          "base_uri": "https://localhost:8080/"
        },
        "id": "4HdnEassilSR",
        "outputId": "71c57173-73f1-4a16-cc41-92fbc72c2173"
      },
      "execution_count": null,
      "outputs": [
        {
          "output_type": "stream",
          "name": "stdout",
          "text": [
            "Draft: Sir Isaac Newton is credited with formulating the law of universal gravitation, in 1687.  While others before him observed the effects of gravity, Newton was the first to mathematically describe it.\n",
            "\n",
            "Critique: The draft is good but could be slightly improved for clarity and precision:\n",
            "\n",
            "**Improved draft:**\n",
            "\n",
            "> Sir Isaac Newton is credited with formulating the law of universal gravitation in 1687. While others before him observed the effects of gravity, Newton was the first to provide a comprehensive mathematical description of it.\n",
            "\n",
            "\n",
            "**Changes and why:**\n",
            "\n",
            "* **\"in 1687\" moved:**  It flows better grammatically to place the date immediately after the event it modifies.\n",
            "* **\"a comprehensive mathematical description\" instead of \"mathematically describe it\":** This is more precise. Newton's contribution wasn't just a mathematical description, but a *comprehensive* one that explained a wide range of gravitational phenomena.  \"Mathematically describe it\" is a bit vague.\n",
            "\n",
            "\n",
            "The original draft isn't incorrect, just slightly less precise and elegant.\n",
            "\n",
            "Final Answer: Sir Isaac Newton is credited with formulating the law of universal gravitation in 1687. While others before him observed the effects of gravity, Newton was the first to provide a comprehensive mathematical description of it.\n"
          ]
        }
      ]
    },
    {
      "cell_type": "code",
      "source": [
        "question = \"Who discovered gravity and in which year?\"\n",
        "\n",
        "answer = ask_llm(f\"Answer the question: {question}\")\n",
        "print(\"Initial Draft:\", answer)\n",
        "\n",
        "for i in range(3):  # run 3 reflection rounds\n",
        "    reflection = ask_llm(\n",
        "        f\"Answer so far: {answer}\\n\\nReflect: what could be wrong or missing? \"\n",
        "        f\"Correct and improve it.\"\n",
        "    )\n",
        "    answer = reflection\n",
        "    print(f\"\\nAfter Reflection Round {i+1}:\", answer)\n",
        "\n",
        "print(\"\\nFinal Answer after looped self-reflection:\", answer)\n"
      ],
      "metadata": {
        "colab": {
          "base_uri": "https://localhost:8080/"
        },
        "id": "0SUri19CinNN",
        "outputId": "4a6ed43b-fed3-4845-969f-ee172e4e2028"
      },
      "execution_count": null,
      "outputs": [
        {
          "output_type": "stream",
          "name": "stdout",
          "text": [
            "Initial Draft: Sir Isaac Newton is credited with formulating the law of universal gravitation,  though the concept of gravity existed before him. He published his work on this in 1687, in his *Principia Mathematica*.\n",
            "\n",
            "After Reflection Round 1: The answer is a good start, but it could be improved by adding nuance and precision:\n",
            "\n",
            "**Improved Answer:**\n",
            "\n",
            "Sir Isaac Newton is credited with formulating the *mathematical law* of universal gravitation, though the concept of gravity – the observation that objects fall to the earth – existed long before him.  He didn't discover gravity itself, but rather described its effects mathematically, proposing a universal law that explained both terrestrial and celestial motion.  He published this groundbreaking work in 1687 in his *Philosophiæ Naturalis Principia Mathematica* (*Mathematical Principles of Natural Philosophy*).  While his law provided an incredibly accurate model for many phenomena, it wasn't without limitations, later superseded by Einstein's theory of general relativity, which offers a more comprehensive explanation of gravity, particularly in extreme conditions like those near black holes.\n",
            "\n",
            "\n",
            "**What was wrong or missing from the original:**\n",
            "\n",
            "* **\"Concept of gravity existed before him\" is vague:**  It's more accurate to say that the *observation* of gravity existed before him.  Many cultures understood that objects fall to the ground.  Newton's contribution was the mathematical description.\n",
            "* **\"Law of universal gravitation\" needs clarification:**  It wasn't just a law, it was a *mathematical law*, a precise formula that could be used for calculations.\n",
            "* **Missing context:**  Newton's law, while revolutionary, wasn't the final word on gravity.  It has limitations, and a more complete understanding came later.\n",
            "* **Title of the book:**  While *Principia Mathematica* is commonly used, the full title is *Philosophiæ Naturalis Principia Mathematica*, which is more accurate and informative.\n",
            "\n",
            "\n",
            "The improved answer provides more context, accuracy, and a better understanding of Newton's contribution to our understanding of gravity.\n",
            "\n",
            "After Reflection Round 2: The improved answer is excellent, but we can still refine it further:\n",
            "\n",
            "**Further Improved Answer:**\n",
            "\n",
            "Sir Isaac Newton is credited with formulating the *mathematical law* of universal gravitation, a precise formula describing the attractive force between any two objects with mass. While the observation that objects fall to Earth – a manifestation of gravity – was understood long before him by numerous cultures, Newton's groundbreaking contribution was to provide a *quantitative* and *universal* description.  He didn't discover gravity itself, but rather described its effects mathematically, proposing a law that elegantly explained both terrestrial and celestial motion, unifying these previously disparate phenomena. This revolutionary work was published in 1687 in his *Philosophiæ Naturalis Principia Mathematica* (*Mathematical Principles of Natural Philosophy*).  Crucially, Newton's law is an inverse-square law, meaning the force of gravity decreases proportionally to the square of the distance between the objects.  While his law provided an incredibly accurate model for many phenomena and remained the dominant explanation for centuries, it has limitations. It doesn't accurately describe gravity in extreme conditions such as those near black holes or at very high speeds, where Einstein's theory of general relativity provides a more comprehensive explanation. General relativity describes gravity not as a force, but as a curvature of spacetime caused by mass and energy.  Newton's law remains a highly useful approximation in many everyday situations and serves as a foundational stepping stone to more advanced theories.\n",
            "\n",
            "\n",
            "**What was wrong or missing from the previous improved answer:**\n",
            "\n",
            "* **Lack of Specificity about the Law:**  The previous answer lacked the crucial detail that Newton's law is an inverse-square law. This is a fundamental aspect of his formulation.\n",
            "* **Oversimplification of General Relativity:** While the previous answer mentions general relativity, it doesn't adequately contrast it with Newton's law by highlighting the conceptual shift from a force to a curvature of spacetime.\n",
            "* **Missing the \"Approximation\" aspect:** Newton's law is a powerful approximation, but it's not perfectly accurate in all situations.  This point needs emphasis.\n",
            "* **Unifying disparate phenomena:** Newton's genius lay partly in unifying celestial and terrestrial mechanics under a single law. This deserves explicit mention.\n",
            "\n",
            "\n",
            "This further improved answer offers a more complete and nuanced understanding of Newton's contribution, its limitations, and its place within the broader history of our understanding of gravity.  It clarifies the nature of Newton's law, its significance, and its eventual refinement by Einstein's theory.\n",
            "\n",
            "After Reflection Round 3: The \"Further Improved Answer\" is excellent, but we can still refine it. Here are some potential improvements and corrections:\n",
            "\n",
            "**Improvements:**\n",
            "\n",
            "* **Clarify \"Universal\":**  While the answer mentions \"universal,\" it could be more explicit about what this means.  Newton's law suggests that the same gravitational constant applies everywhere in the universe, a radical idea at the time.\n",
            "\n",
            "* **Elaborate on Limitations:**  The mention of limitations is brief.  We can expand on this by mentioning specific examples where Newtonian gravity fails, such as the precession of Mercury's orbit (a key piece of evidence supporting general relativity).\n",
            "\n",
            "* **Strengthen the Conclusion:** The conclusion could be more impactful.  Instead of simply stating it's a \"foundational stepping stone,\" we could emphasize its enduring legacy and its continued relevance in many practical applications (e.g., calculating satellite orbits, understanding planetary motion).\n",
            "\n",
            "* **Add a sentence about the concept of mass:**  Newton's law relies on the concept of mass, but it doesn't define it. This could be a brief addition to the text.\n",
            "\n",
            "\n",
            "**Revised Answer:**\n",
            "\n",
            "Sir Isaac Newton is credited with formulating the *mathematical law* of universal gravitation, a precise formula describing the attractive force between any two objects with mass.  While the observation that objects fall to Earth – a manifestation of gravity – was understood long before him by numerous cultures, Newton's groundbreaking contribution was to provide a *quantitative* and *universally applicable* description.  He didn't discover gravity itself, but rather described its effects mathematically, proposing a law that elegantly explained both terrestrial and celestial motion, unifying these previously disparate phenomena under a single, elegant framework. This revolutionary work was published in 1687 in his *Philosophiæ Naturalis Principia Mathematica* (*Mathematical Principles of Natural Philosophy*).  Crucially, Newton's law is an inverse-square law, meaning the force of gravity decreases proportionally to the square of the distance between the objects.  The \"universal\" aspect means that the same gravitational constant applies throughout the universe, a revolutionary concept at the time.  Newton's law relies on the concept of mass, a measure of an object's inertia and its response to gravity, but the law itself doesn't define what mass fundamentally is.\n",
            "\n",
            "While his law provided an incredibly accurate model for many phenomena and remained the dominant explanation for centuries, it has limitations.  It doesn't accurately describe gravity in extreme conditions such as those near black holes or at very high speeds, failing to accurately predict the precession of Mercury's orbit, for example.  Furthermore,  Einstein's theory of general relativity provides a more comprehensive explanation, describing gravity not as a force, but as a curvature of spacetime caused by mass and energy.  Newton's law, however, remains a highly useful approximation in many everyday situations and continues to serve as a foundational tool in fields such as orbital mechanics and other areas where extreme gravitational conditions are not present. Its enduring legacy is a testament to its power and elegance,  continuing to be a vital component in numerous practical applications and a stepping stone towards our deeper understanding of the universe.\n",
            "\n",
            "Final Answer after looped self-reflection: The \"Further Improved Answer\" is excellent, but we can still refine it. Here are some potential improvements and corrections:\n",
            "\n",
            "**Improvements:**\n",
            "\n",
            "* **Clarify \"Universal\":**  While the answer mentions \"universal,\" it could be more explicit about what this means.  Newton's law suggests that the same gravitational constant applies everywhere in the universe, a radical idea at the time.\n",
            "\n",
            "* **Elaborate on Limitations:**  The mention of limitations is brief.  We can expand on this by mentioning specific examples where Newtonian gravity fails, such as the precession of Mercury's orbit (a key piece of evidence supporting general relativity).\n",
            "\n",
            "* **Strengthen the Conclusion:** The conclusion could be more impactful.  Instead of simply stating it's a \"foundational stepping stone,\" we could emphasize its enduring legacy and its continued relevance in many practical applications (e.g., calculating satellite orbits, understanding planetary motion).\n",
            "\n",
            "* **Add a sentence about the concept of mass:**  Newton's law relies on the concept of mass, but it doesn't define it. This could be a brief addition to the text.\n",
            "\n",
            "\n",
            "**Revised Answer:**\n",
            "\n",
            "Sir Isaac Newton is credited with formulating the *mathematical law* of universal gravitation, a precise formula describing the attractive force between any two objects with mass.  While the observation that objects fall to Earth – a manifestation of gravity – was understood long before him by numerous cultures, Newton's groundbreaking contribution was to provide a *quantitative* and *universally applicable* description.  He didn't discover gravity itself, but rather described its effects mathematically, proposing a law that elegantly explained both terrestrial and celestial motion, unifying these previously disparate phenomena under a single, elegant framework. This revolutionary work was published in 1687 in his *Philosophiæ Naturalis Principia Mathematica* (*Mathematical Principles of Natural Philosophy*).  Crucially, Newton's law is an inverse-square law, meaning the force of gravity decreases proportionally to the square of the distance between the objects.  The \"universal\" aspect means that the same gravitational constant applies throughout the universe, a revolutionary concept at the time.  Newton's law relies on the concept of mass, a measure of an object's inertia and its response to gravity, but the law itself doesn't define what mass fundamentally is.\n",
            "\n",
            "While his law provided an incredibly accurate model for many phenomena and remained the dominant explanation for centuries, it has limitations.  It doesn't accurately describe gravity in extreme conditions such as those near black holes or at very high speeds, failing to accurately predict the precession of Mercury's orbit, for example.  Furthermore,  Einstein's theory of general relativity provides a more comprehensive explanation, describing gravity not as a force, but as a curvature of spacetime caused by mass and energy.  Newton's law, however, remains a highly useful approximation in many everyday situations and continues to serve as a foundational tool in fields such as orbital mechanics and other areas where extreme gravitational conditions are not present. Its enduring legacy is a testament to its power and elegance,  continuing to be a vital component in numerous practical applications and a stepping stone towards our deeper understanding of the universe.\n"
          ]
        }
      ]
    },
    {
      "cell_type": "code",
      "source": [
        "# Reflexion = multi-episode with memory of past reflections\n",
        "\n",
        "memory = []\n",
        "\n",
        "def evaluator(task, answer):\n",
        "    \"\"\"Very simple evaluator for demo.\"\"\"\n",
        "    if \"newton\" in answer.lower() and (\"1687\" in answer or \"principia\" in answer.lower()):\n",
        "        return True, \"PASS ✅\"\n",
        "    return False, \"FAIL ❌ Missing Newton or year 1687\"\n",
        "\n",
        "def run_episode(task, memory):\n",
        "    # Actor includes memory\n",
        "    mem_text = \"\\n\".join(memory) if memory else \"No lessons yet.\"\n",
        "    prompt = f\"Lessons:\\n{mem_text}\\n\\nTask: {task}\\nAnswer clearly:\"\n",
        "    answer = ask_llm(prompt)\n",
        "\n",
        "    # Evaluate\n",
        "    success, feedback = evaluator(task, answer)\n",
        "\n",
        "    # Reflection if fail\n",
        "    if not success:\n",
        "        reflection = ask_llm(\n",
        "            f\"Task: {task}\\nAnswer: {answer}\\nFeedback: {feedback}\\n\\n\"\n",
        "            f\"Write one short lesson I should remember next time.\"\n",
        "        )\n",
        "        memory.append(reflection)\n",
        "\n",
        "    return answer, success, feedback, memory\n",
        "\n",
        "task = \"Who discovered gravity and in which year?\"\n",
        "\n",
        "for ep in range(1, 4):  # 3 episodes\n",
        "    print(f\"\\n--- Episode {ep} ---\")\n",
        "    ans, succ, fb, memory = run_episode(task, memory)\n",
        "    print(\"Answer:\", ans)\n",
        "    print(\"Feedback:\", fb)\n",
        "    print(\"Memory:\", memory)\n",
        "    if succ:\n",
        "        break\n"
      ],
      "metadata": {
        "colab": {
          "base_uri": "https://localhost:8080/"
        },
        "id": "A-LDQIBdjQHC",
        "outputId": "671187fb-04be-4712-e1d1-4bd74a0081fe"
      },
      "execution_count": null,
      "outputs": [
        {
          "output_type": "stream",
          "name": "stdout",
          "text": [
            "\n",
            "--- Episode 1 ---\n",
            "Answer: Sir Isaac Newton described the law of universal gravitation in 1687.  While others before him observed the effects of gravity, Newton is credited with formulating the first scientific explanation.\n",
            "Feedback: PASS ✅\n",
            "Memory: []\n"
          ]
        }
      ]
    },
    {
      "cell_type": "markdown",
      "source": [
        "# Auto-Verbalization Grading"
      ],
      "metadata": {
        "id": "aCPTZEKJyM6v"
      }
    },
    {
      "cell_type": "code",
      "source": [
        "\n",
        "!pip install -q langchain-google-genai google-generativeai\n"
      ],
      "metadata": {
        "id": "lsn0g9bmyP3H"
      },
      "execution_count": 9,
      "outputs": []
    },
    {
      "cell_type": "code",
      "source": [
        "\n",
        "import os\n",
        "from langchain_google_genai import ChatGoogleGenerativeAI\n",
        "\n",
        "# 🔑 Set your Gemini API Key here\n",
        "os.environ[\"GOOGLE_API_KEY\"] = \"\"\n",
        "\n",
        "# Initialize Gemini 1.5 Flash\n",
        "llm = ChatGoogleGenerativeAI(model=\"gemini-1.5-flash\", temperature=0)\n",
        "\n",
        "def ask_llm(prompt: str) -> str:\n",
        "    \"\"\"Simple helper to query Gemini.\"\"\"\n",
        "    resp = llm.invoke(prompt)\n",
        "    return resp.content.strip()\n"
      ],
      "metadata": {
        "id": "cfvb-YOlybwm"
      },
      "execution_count": 10,
      "outputs": []
    },
    {
      "cell_type": "code",
      "source": [
        "\n",
        "def auto_verbalization_grader(question: str, student_answer: str, gold_answer: str = None):\n",
        "    \"\"\"\n",
        "    Evaluates student answer by asking Gemini to explain correctness before grading.\n",
        "    \"\"\"\n",
        "    prompt = f\"\"\"\n",
        "You are a strict teacher grading a student's answer.\n",
        "\n",
        "Question: {question}\n",
        "Student Answer: {student_answer}\n",
        "{\"Correct Answer: \" + gold_answer if gold_answer else \"\"}\n",
        "\n",
        "Instructions:\n",
        "1. First, explain in detail if the student answer is correct or not.\n",
        "2. Then give a grade in this format:\n",
        "Grade: Correct   OR   Grade: Incorrect\n",
        "    \"\"\"\n",
        "\n",
        "    result = ask_llm(prompt)\n",
        "    return result\n"
      ],
      "metadata": {
        "id": "Ac5dy7OHysgM"
      },
      "execution_count": 11,
      "outputs": []
    },
    {
      "cell_type": "code",
      "source": [
        "# Colab cell 4 — Run a test example\n",
        "question = \"Who discovered gravity and in which year?\"\n",
        "student_answer = \"Einstein discovered gravity in 1915.\"\n",
        "gold_answer = \"Isaac Newton discovered gravity in 1687.\"\n",
        "\n",
        "graded_output = auto_verbalization_grader(question, student_answer, gold_answer)\n",
        "\n",
        "print(\"=== Auto-Verbalization Grader Output ===\\n\")\n",
        "print(graded_output)\n"
      ],
      "metadata": {
        "colab": {
          "base_uri": "https://localhost:8080/"
        },
        "id": "ZrYqGT2-y0G-",
        "outputId": "2262d422-c5d4-4664-ed52-9429b6f3c220"
      },
      "execution_count": 13,
      "outputs": [
        {
          "output_type": "stream",
          "name": "stdout",
          "text": [
            "=== Auto-Verbalization Grader Output ===\n",
            "\n",
            "The student's answer is completely incorrect.  While Einstein's theory of General Relativity (1915) significantly advanced our understanding of gravity, describing it as a curvature of spacetime rather than a simple force, it did not *discover* gravity.  The discovery of gravity, as a fundamental force causing objects to attract each other, is attributed to Isaac Newton, who formulated the law of universal gravitation in 1687.  The student's answer confuses a refinement and expansion of the understanding of gravity with the initial discovery of the phenomenon itself.  Newton's work provided the foundational understanding of gravity that allowed for centuries of scientific progress before Einstein's revolutionary insights.\n",
            "\n",
            "Grade: Incorrect\n"
          ]
        }
      ]
    },
    {
      "cell_type": "code",
      "source": [],
      "metadata": {
        "id": "j6Pj8WI2zApr"
      },
      "execution_count": null,
      "outputs": []
    },
    {
      "cell_type": "markdown",
      "source": [
        "# Autogen Evaluator Prompt"
      ],
      "metadata": {
        "id": "kNSKGMw90vJX"
      }
    },
    {
      "cell_type": "code",
      "source": [
        "# Initialize Gemini 1.5 Flash\n",
        "assistant_llm = ChatGoogleGenerativeAI(model=\"gemini-1.5-flash\", temperature=0)\n",
        "evaluator_llm = ChatGoogleGenerativeAI(model=\"gemini-1.5-flash\", temperature=0)\n",
        "\n",
        "def ask_llm(llm, prompt: str) -> str:\n",
        "    resp = llm.invoke(prompt)\n",
        "    return resp.content.strip()"
      ],
      "metadata": {
        "id": "SLpxA7KI1DED"
      },
      "execution_count": 18,
      "outputs": []
    },
    {
      "cell_type": "code",
      "source": [
        "\n",
        "def assistant_agent(question: str) -> str:\n",
        "    \"\"\"Assistant tries to answer the user's question.\"\"\"\n",
        "    prompt = f\"You are an assistant. Answer this question concisely:\\n\\n{question}\"\n",
        "    return ask_llm(assistant_llm, prompt)\n"
      ],
      "metadata": {
        "id": "gEqglFfR0zZ-"
      },
      "execution_count": 19,
      "outputs": []
    },
    {
      "cell_type": "code",
      "source": [
        "\n",
        "def evaluator_agent(question: str, answer: str, gold: str = None) -> str:\n",
        "    \"\"\"Evaluator explains correctness (auto-verbalization) and gives grade.\"\"\"\n",
        "    prompt = f\"\"\"\n",
        "You are an evaluator. Grade the assistant's answer.\n",
        "\n",
        "Question: {question}\n",
        "Assistant's Answer: {answer}\n",
        "{\"Correct Answer: \" + gold if gold else \"\"}\n",
        "\n",
        "Instructions:\n",
        "1. First explain in detail if the answer is correct or not.\n",
        "2. Then give a grade in this exact format:\n",
        "Grade: Correct   OR   Grade: Incorrect\n",
        "    \"\"\"\n",
        "    return ask_llm(evaluator_llm, prompt)\n"
      ],
      "metadata": {
        "id": "SwFjJHLl1D7i"
      },
      "execution_count": 20,
      "outputs": []
    },
    {
      "cell_type": "code",
      "source": [
        "\n",
        "question = \"Who discovered gravity and in which year?\"\n",
        "gold_answer = \"Isaac Newton discovered gravity in 1687.\"\n",
        "\n",
        "# Assistant generates an answer (it may be wrong or right)\n",
        "assistant_output = assistant_agent(question)\n",
        "print(\"=== Assistant Agent Output ===\")\n",
        "print(assistant_output)\n",
        "\n",
        "# Evaluator checks the answer\n",
        "evaluator_output = evaluator_agent(question, assistant_output, gold_answer)\n",
        "print(\"\\n=== Evaluator Sub-Agent Output ===\")\n",
        "print(evaluator_output)\n"
      ],
      "metadata": {
        "colab": {
          "base_uri": "https://localhost:8080/"
        },
        "id": "qeQ6UPPT1H7e",
        "outputId": "6c17cbb2-fc7d-4798-83df-0df0be3dca6d"
      },
      "execution_count": 21,
      "outputs": [
        {
          "output_type": "stream",
          "name": "stdout",
          "text": [
            "=== Assistant Agent Output ===\n",
            "Isaac Newton;  While the concept was understood earlier, Newton formulated the law of universal gravitation in the late 1660s, publishing it in 1687.\n",
            "\n",
            "=== Evaluator Sub-Agent Output ===\n",
            "The assistant's answer is partially correct but not entirely accurate.  While it correctly identifies Isaac Newton as the discoverer of the law of universal gravitation, the year is slightly off.  Newton's work on gravity culminated in the publication of *Principia Mathematica* in 1687, which is when his theory was formally presented to the world.  However, his work on the concept began much earlier, in the late 1660s.  The assistant's answer acknowledges this earlier work, but the question asks for the year of discovery, which is best represented by the year of publication of his seminal work.  Therefore, while the answer isn't completely wrong, it lacks precision in its response to the question's specific request for a single year.  The phrasing \"While the concept was understood earlier...\" is also somewhat vague and unnecessary for a concise answer.\n",
            "\n",
            "Grade: Incorrect\n"
          ]
        }
      ]
    },
    {
      "cell_type": "code",
      "source": [],
      "metadata": {
        "id": "uJOKM-2e1Ln4"
      },
      "execution_count": null,
      "outputs": []
    }
  ]
}