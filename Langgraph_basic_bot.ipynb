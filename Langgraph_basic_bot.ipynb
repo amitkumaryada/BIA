{
 "cells": [
  {
   "cell_type": "markdown",
   "metadata": {},
   "source": [
    "### 🎯 What You'll Learn\n",
    "By the end of this tutorial, you will:\n",
    "\n",
    "    ✅ Understand LangGraph's core concepts (Nodes, Edges, State)\n",
    "    ✅ Build your first simple chatbot\n",
    "    ✅ Add memory and persistence to conversations\n",
    "    ✅ Implement tool calling and external integrations\n",
    "    ✅ Create human-in-the-loop workflows\n",
    "    ✅ Build multi-agent systems\n",
    "    ✅ Handle complex state management\n",
    "    ✅ Deploy production-ready applications"
   ]
  },
  {
   "cell_type": "markdown",
   "metadata": {},
   "source": [
    "### 📚 Based on Official LangGraph Documentation\n",
    "This tutorial follows the official LangGraph documentation and incorporates best practices from the LangGraph team.\n",
    "https://langchain-ai.github.io/langgraph/?"
   ]
  },
  {
   "cell_type": "markdown",
   "metadata": {},
   "source": [
    "### 🚀 Complete LangGraph Tutorial: From Basics to Advanced Applications\n",
    "📖 Comprehensive Guide for Building Stateful AI Agents\n",
    "Welcome to the most comprehensive LangGraph tutorial! This notebook will take you from complete beginner to building sophisticated AI agents step by step.\n",
    "\n",
    "🎯 What You'll Learn\n",
    "By the end of this tutorial, you will:\n",
    "\n",
    "    ✅ Understand LangGraph's core concepts (Nodes, Edges, State)\n",
    "    ✅ Build your first simple chatbot\n",
    "    ✅ Add memory and persistence to conversations\n",
    "    ✅ Implement tool calling and external integrations\n",
    "    ✅ Create human-in-the-loop workflows\n",
    "    ✅ Build multi-agent systems\n",
    "    ✅ Handle complex state management\n",
    "    ✅ Deploy production-ready applications\n",
    "    📚 Based on Official LangGraph Documentation\n",
    "This tutorial follows the official LangGraph documentation and incorporates best practices from the LangGraph team.\n",
    "\n",
    "    📋 Table of Contents\n",
    "    Setup & Installation\n",
    "    Part 1: Understanding LangGraph Fundamentals\n",
    "    Part 2: Building Your First Simple Agent\n",
    "    Part 3: Adding Memory with Checkpointing\n",
    "    Part 4: Tool Integration & External APIs\n",
    "    Part 5: Human-in-the-Loop Workflows\n",
    "    Part 6: Advanced State Management\n",
    "    Part 7: Multi-Agent Systems\n",
    "    Part 8: Real-World Use Cases\n",
    "    Part 9: Production Deployment"
   ]
  },
  {
   "cell_type": "markdown",
   "metadata": {},
   "source": [
    "### Let's begin this exciting journey! 🌟\n",
    "\n",
    "🔧 Setup & Installation {#setup}\n",
    "Before we dive into LangGraph, let's set up our environment properly.\n",
    "\n",
    "Prerequisites\n",
    "    Python 3.8+ installed on your system\n",
    "    API Keys for LLM providers (we'll use OpenAI in this tutorial)\n",
    "    Basic Python knowledge - understanding of functions, classes, and dictionaries\n",
    "    What is LangGraph?\n",
    "    LangGraph is a library for building stateful, multi-actor applications with LLMs. It extends LangChain with the ability to coordinate multiple chains (or actors) across multiple steps of computation in a cyclic manner.\n",
    "\n",
    "Key features:\n",
    "\n",
    "    🔄 Flexible workflows (neither just linear chains not cyclic workflows or a cycle of steps)\n",
    "    💾 Persistent state across interactions\n",
    "    🎯 Conditional routing between different paths\n",
    "    🔧 Human-in-the-loop capabilities\n",
    "    📊 Built-in observability with LangSmith\n",
    "    Think of it as a way to build AI agents that can:\n",
    "\n",
    "    Remember previous conversations\n",
    "    Make decisions about what to do next\n",
    "    Use tools and external APIs\n",
    "    Involve humans when needed\n",
    "    Handle complex, multi-step workflows"
   ]
  },
  {
   "cell_type": "markdown",
   "metadata": {},
   "source": [
    "### 🧠 Part 1: Understanding LangGraph Fundamentals {#part1}\n",
    "Before we build anything, let's understand the core concepts that make LangGraph powerful.\n",
    "\n",
    "🔑 Core Concepts\n",
    "1. State\n",
    "The \"memory\" of your application\n",
    "Shared data structure that persists across all steps\n",
    "Can contain messages, variables, flags, or any data you need\n",
    "2. Nodes\n",
    "Individual functions or operations in your workflow\n",
    "Each node receives the current state and returns updates\n",
    "Think of them as \"workers\" that do specific tasks\n",
    "3. Edges\n",
    "Connections between nodes that define the flow\n",
    "Can be simple (A → B) or conditional (A → B or C based on logic)\n",
    "4. Graph\n",
    "The complete workflow combining nodes and edges\n",
    "Defines how your AI agent behaves and makes decisions\n",
    "🎯 Simple Mental Model\n",
    "Think of LangGraph like a flowchart for AI agents:\n",
    "\n",
    "[User Input] → [AI Thinks] → [Uses Tool?] \n",
    "                    ↓              ↓\n",
    "               [Respond]      [Call Tool] → [AI Thinks] → [Respond]\n",
    "But unlike a simple flowchart, LangGraph can:\n",
    "\n",
    "Remember everything that happened before\n",
    "Loop back to previous steps\n",
    "Involve humans in the decision-making\n",
    "Handle complex, branching logic\n",
    "Let's see this in action! 👇\n",
    "\n",
    "### 🤖 Part 2: Building Your First Simple Agent {#part2}\n",
    "Let's start with the simplest possible LangGraph application - a basic chatbot that can have a conversation."
   ]
  },
  {
   "cell_type": "code",
   "execution_count": 7,
   "metadata": {},
   "outputs": [
    {
     "name": "stdout",
     "output_type": "stream",
     "text": [
      "Note: you may need to restart the kernel to use updated packages.\n"
     ]
    }
   ],
   "source": [
    "# Install required packages\n",
    "%pip install -q langgraph langsmith langchain-openai python-dotenv langchain_community langchain_huggingface langchain_groq"
   ]
  },
  {
   "cell_type": "code",
   "execution_count": 65,
   "metadata": {},
   "outputs": [],
   "source": [
    "from typing import Annotated, Dict, List, Any\n",
    "from typing_extensions import Annotated,List\n",
    "from langgraph.graph import StateGraph,START,END\n",
    "from langgraph.graph.message import add_messages\n",
    "from langgraph.prebuilt import ToolNode, tools_condition\n",
    "from langchain_community.tools.tavily_search import TavilySearchResults\n",
    "from langchain_huggingface import HuggingFaceEmbeddings\n",
    "\n",
    "from langchain_google_genai import ChatGoogleGenerativeAI, GoogleGenerativeAIEmbeddings\n",
    "\n",
    "from langchain_groq import ChatGroq\n",
    "import os\n",
    "from dotenv import load_dotenv\n",
    "\n",
    "load_dotenv()\n",
    "LANGCHAIN_API_KEY = os.getenv(\"LANGCHAIN_API_KEY\")\n",
    "GOOGLE_API_KEY=os.getenv(\"GOOGLE_API_KEY\")\n",
    "TAVILY_API_KEY=os.getenv(\"TAVILY_API_KEY\")\n",
    "GROQ_API_KEY=os.getenv(\"GROQ_API_KEY\")\n",
    "SERPER_API_KEY = os.getenv(\"SERPER_API_KEY\")\n",
    "\n",
    "os.environ[\"LANGCHAIN_API_KEY\"] = LANGCHAIN_API_KEY\n",
    "os.environ[\"GOOGLE_API_KEY\"] = GOOGLE_API_KEY\n",
    "os.environ[\"TAVILY_API_KEY\"] = TAVILY_API_KEY\n",
    "os.environ[\"GROQ_API_KEY\"] = GROQ_API_KEY\n",
    "os.environ[\"SERPER_API_KEY\"] = SERPER_API_KEY\n",
    "\n",
    "os.environ[\"LANGCHAIN_TRACING_V2\"] = \"true\"\n",
    "os.environ[\"LANGCHAIN_ENDPOINT\"] = \"https://api.smith.langchain.com\"\n",
    "\n",
    "\n"
   ]
  },
  {
   "cell_type": "markdown",
   "metadata": {},
   "source": [
    "Basic Chatbot"
   ]
  },
  {
   "cell_type": "code",
   "execution_count": 29,
   "metadata": {},
   "outputs": [
    {
     "data": {
      "text/plain": [
       "AIMessage(content='Hello! I’m doing great—thanks for asking. How can I help you today?', additional_kwargs={'reasoning_content': 'User says: \"Hello, how are you?\" They are greeting. We should respond politely. No special instructions. Just a friendly reply.'}, response_metadata={'token_usage': {'completion_tokens': 56, 'prompt_tokens': 77, 'total_tokens': 133, 'completion_time': 0.049756801, 'prompt_time': 0.00506355, 'queue_time': 0.0513664, 'total_time': 0.054820351}, 'model_name': 'openai/gpt-oss-20b', 'system_fingerprint': 'fp_4c4aa6a4a4', 'service_tier': 'on_demand', 'finish_reason': 'stop', 'logprobs': None}, id='run--5bc4a2d4-7aeb-4ee2-ab19-90ff5dad89cf-0', usage_metadata={'input_tokens': 77, 'output_tokens': 56, 'total_tokens': 133})"
      ]
     },
     "execution_count": 29,
     "metadata": {},
     "output_type": "execute_result"
    }
   ],
   "source": [
    "# llm = ChatGoogleGenerativeAI(model = \"gemini-1.0-pro\")\n",
    "llm = ChatGroq(model=\"openai/gpt-oss-20b\")\n",
    "llm.invoke(\"Hello, how are you?\")\n",
    "\n"
   ]
  },
  {
   "cell_type": "markdown",
   "metadata": {},
   "source": [
    "### Step 1: Define the State\n",
    "The state is like the \"memory\" of our agent. For a chatbot, we need to remember the conversation history."
   ]
  },
  {
   "cell_type": "code",
   "execution_count": 63,
   "metadata": {},
   "outputs": [
    {
     "name": "stdout",
     "output_type": "stream",
     "text": [
      "✅ State defined!\n",
      "Our state has one field: 'messages' that will store the conversation history\n",
      "The add_messages function ensures new messages are appended, not replaced\n"
     ]
    }
   ],
   "source": [
    "\n",
    "# Define our State - this is the \"memory\" of our agent\n",
    "class State(TypedDict):\n",
    "    # messages will store our conversation history\n",
    "    # add_messages is a special function that appends new messages instead of replacing them\n",
    "    messages: Annotated[list, add_messages]\n",
    "\n",
    "print(\"✅ State defined!\")\n",
    "print(\"Our state has one field: 'messages' that will store the conversation history\")\n",
    "print(\"The add_messages function ensures new messages are appended, not replaced\")"
   ]
  },
  {
   "cell_type": "code",
   "execution_count": 66,
   "metadata": {},
   "outputs": [
    {
     "name": "stdout",
     "output_type": "stream",
     "text": [
      "✅ Chatbot node created!\n",
      "This node will:\n",
      "1. Take the conversation history from state\n",
      "2. Send it to the LLM\n",
      "3. Return the LLM's response to be added to state\n"
     ]
    }
   ],
   "source": [
    "def chatbot_node(state: State) -> Dict[str, Any]:\n",
    "    \"\"\"\n",
    "    The main chatbot node that processes messages and generates responses.\n",
    "    \n",
    "    Args:\n",
    "        state: Current state containing conversation history\n",
    "        \n",
    "    Returns:\n",
    "        Dict with new messages to add to state\n",
    "    \"\"\"\n",
    "    # Get the conversation history from state\n",
    "    messages = state[\"messages\"]\n",
    "    \n",
    "    # Call the LLM with the conversation history\n",
    "    response = llm.invoke(messages)\n",
    "    \n",
    "    # Return the new message to be added to state\n",
    "    return {\"messages\": [response]}\n",
    "\n",
    "print(\"✅ Chatbot node created!\")\n",
    "print(\"This node will:\")\n",
    "print(\"1. Take the conversation history from state\")\n",
    "print(\"2. Send it to the LLM\")\n",
    "print(\"3. Return the LLM's response to be added to state\")"
   ]
  },
  {
   "cell_type": "code",
   "execution_count": 67,
   "metadata": {},
   "outputs": [
    {
     "name": "stdout",
     "output_type": "stream",
     "text": [
      "✅ Simple chatbot graph created!\n",
      "Flow: START → chatbot → END\n",
      "Ready to chat! 🎉\n"
     ]
    }
   ],
   "source": [
    "# Step 1: Create the graph builder\n",
    "graph_builder = StateGraph(State)\n",
    "\n",
    "# Step 2: Add our chatbot node\n",
    "graph_builder.add_node(\"chatbot\", chatbot_node)\n",
    "\n",
    "# Step 3: Define the flow\n",
    "# START -> chatbot -> END\n",
    "graph_builder.add_edge(START, \"chatbot\")\n",
    "graph_builder.add_edge(\"chatbot\", END)\n",
    "\n",
    "# Step 4: Compile the graph\n",
    "simple_chatbot = graph_builder.compile()\n",
    "\n",
    "print(\"✅ Simple chatbot graph created!\")\n",
    "print(\"Flow: START → chatbot → END\")\n",
    "print(\"Ready to chat! 🎉\")"
   ]
  },
  {
   "cell_type": "code",
   "execution_count": 69,
   "metadata": {},
   "outputs": [
    {
     "data": {
      "image/png": "[encoded data removed]",
      "text/plain": [
       "<IPython.core.display.Image object>"
      ]
     },
     "metadata": {},
     "output_type": "display_data"
    }
   ],
   "source": [
    "from IPython.display import Image, display\n",
    "\n",
    "try:\n",
    "    display(Image(simple_chatbot.get_graph().draw_mermaid_png()))\n",
    "except Exception:\n",
    "    # This requires some extra dependencies and is optional\n",
    "    pass\n",
    "\n",
    "\n"
   ]
  },
  {
   "cell_type": "code",
   "execution_count": 70,
   "metadata": {},
   "outputs": [
    {
     "data": {
      "text/plain": [
       "{'messages': [HumanMessage(content='what is the capital of India?', additional_kwargs={}, response_metadata={}, id='d8e4e40f-0bcc-4030-9f4d-688d6834af0e'),\n",
       "  AIMessage(content='The capital of India is **New Delhi**. \\n', additional_kwargs={}, response_metadata={'token_usage': {'completion_tokens': 13, 'prompt_tokens': 16, 'total_tokens': 29, 'completion_time': 0.023636364, 'prompt_time': 0.00125319, 'queue_time': 0.250647799, 'total_time': 0.024889554}, 'model_name': 'gemma2-9b-it', 'system_fingerprint': 'fp_10c08bf97d', 'service_tier': 'on_demand', 'finish_reason': 'stop', 'logprobs': None}, id='run--bf2e7f34-2c14-4f8a-949f-f19dbad64ae6-0', usage_metadata={'input_tokens': 16, 'output_tokens': 13, 'total_tokens': 29})]}"
      ]
     },
     "execution_count": 70,
     "metadata": {},
     "output_type": "execute_result"
    }
   ],
   "source": [
    "simple_chatbot.invoke({\"messages\":\"what is the capital of India?\"})\n"
   ]
  },
  {
   "cell_type": "code",
   "execution_count": 71,
   "metadata": {},
   "outputs": [],
   "source": [
    "def stream_graph(user_inpit:str):\n",
    "    for event in simple_chatbot.stream({\"messages\":[{\"role\":\"user\",\"content\":user_inpit}]}):\n",
    "        for value in event.values():\n",
    "            print(\"Assistant:\", value[\"messages\"][-1].content)\n",
    "    \n"
   ]
  },
  {
   "cell_type": "code",
   "execution_count": 72,
   "metadata": {},
   "outputs": [
    {
     "name": "stdout",
     "output_type": "stream",
     "text": [
      "Assistant: 3.11 is greater than 3.9 \n",
      "\n"
     ]
    }
   ],
   "source": [
    "stream_graph(\"which one is greater 3.9 or 3.11?\")"
   ]
  },
  {
   "cell_type": "code",
   "execution_count": 73,
   "metadata": {},
   "outputs": [],
   "source": [
    "# while True:\n",
    "#     try:\n",
    "#         user_input = input()\n",
    "#         if user_input.lower in ['quit','bye']:\n",
    "#             print(\"GoodBye\")\n",
    "#             break\n",
    "#         stream_graph(user_input)\n",
    "#     except:\n",
    "#         user_input = 'how do I learn Python'\n",
    "#         stream_graph(user_input)\n",
    "#         break"
   ]
  },
  {
   "cell_type": "code",
   "execution_count": 74,
   "metadata": {},
   "outputs": [
    {
     "data": {
      "text/plain": [
       "[{'title': 'Know the PM | Prime Minister of India',\n",
       "  'url': 'https://www.pmindia.gov.in/en/pms-profile/',\n",
       "  'content': 'Image 6: facebookImage 7: twitter;)Image 8: linkedin\\n\\nImage 9: PM IndiaShri Narendra Modi was sworn-in as India’s Prime Minister for the third time on 9th June 2024, following another decisive victory in the 2024 Parliamentary elections. This victory marked the third consecutive term for Shri Modi, further solidifying his leadership. [...] The first ever Prime Minister to be born after Independence, Shri Modi has previously served as the Prime Minister of India from 2014 to 2019, and from 2019 to 2024. He also has the distinction of being the longest serving Chief Minister of Gujarat with his term spanning from October 2001 to May 2014.',\n",
       "  'score': 0.8524574},\n",
       " {'title': 'Prime Minister of India - Wikipedia',\n",
       "  'url': 'https://en.wikipedia.org/wiki/Prime_Minister_of_India',\n",
       "  'content': 'Rao, Atal Bihari Vajpayee, Manmohan Singh, and Narendra Modi, who is the current prime minister of India, serving since 26 May 2014. He is the first non-Congress leader to win three consecutive general elections and secure a third successive term (2014, 2019, 2024). The first prime minister to do so was Jawaharlal Nehru, who won the general elections of 1952, 1957, and 1962. [...] The prime minister of India (ISO: _Bhārata kē Pradhānamantrī_) is the head of government( of the Republic of India. Executive authority is vested in the prime minister and his chosen Council of Ministers,( despite the president of India being the nominal head of the executive.( The prime minister has to be a member of one of the houses of bicameral Parliament of India, alongside heading the respective house.( The prime minister and the cabinet are at all times responsible to the Lok Sabha.( [...] | Party | PMs | Years in Office | Name(s) | Alliance |\\n ---  --- \\n|  | Indian National Congress | 6( | 54 years | Jawaharlal Nehru, Lal Bahadur Shastri, Indira Gandhi, Rajiv Gandhi, P. V. Narasimha Rao and Manmohan Singh( |  DMK, CPI and CPI (M) \"Communist Party of India (Marxist)\") (1969–1971)  DMK (1971–1976)  AIADMK (1991–1994)  UPA (2004–2014) |\\n|  | Bharatiya Janata Party | 2 | 17 years | Atal Bihari Vajpayee and Narendra Modi | NDA (from 1998) |',\n",
       "  'score': 0.83452857}]"
      ]
     },
     "execution_count": 74,
     "metadata": {},
     "output_type": "execute_result"
    }
   ],
   "source": [
    "search = TavilySearchResults(max_results=2)\n",
    "search.invoke('PM of india')"
   ]
  },
  {
   "cell_type": "markdown",
   "metadata": {},
   "source": [
    "Chatbot with tool"
   ]
  },
  {
   "cell_type": "code",
   "execution_count": 75,
   "metadata": {},
   "outputs": [
    {
     "data": {
      "image/png": "[encoded data removed]",
      "text/plain": [
       "<IPython.core.display.Image object>"
      ]
     },
     "metadata": {},
     "output_type": "display_data"
    }
   ],
   "source": [
    "# llm = ChatGoogleGenerativeAI(model = \"gemini-1.0-pro\")\n",
    "llm = ChatGroq(model = \"gemma2-9b-it\")\n",
    "search = TavilySearchResults(max_results=2)\n",
    "tools = [search]\n",
    "llm_with_bind_tools = llm.bind_tools(tools)\n",
    "\n",
    "\n",
    "\n",
    "class State(TypedDict):\n",
    "    messages: Annotated[List,add_messages]\n",
    "\n",
    "def chat_model(state):\n",
    "    return {\"messages\": [llm_with_bind_tools.invoke(state['messages'])]}\n",
    "\n",
    "\n",
    "workflow_graph = StateGraph(State)\n",
    "workflow_graph.add_node(\"chatbot\", chat_model)\n",
    "tools = ToolNode(tools)\n",
    "workflow_graph.add_node(\"tools\",tools)\n",
    "workflow_graph.add_edge(START,\"chatbot\")\n",
    "workflow_graph.add_conditional_edges(\"chatbot\",tools_condition)\n",
    "workflow_graph.add_edge(\"tools\",\"chatbot\")\n",
    "# workflow_graph.add_edge(\"chatbot\",END)\n",
    "\n",
    "graph = workflow_graph.compile()\n",
    "\n",
    "from IPython.display import Image, display\n",
    "\n",
    "try:\n",
    "    display(Image(graph.get_graph().draw_mermaid_png()))\n",
    "except Exception:\n",
    "    # This requires some extra dependencies and is optional\n",
    "    pass\n"
   ]
  },
  {
   "cell_type": "code",
   "execution_count": 76,
   "metadata": {},
   "outputs": [],
   "source": [
    "def stream_graph(user_inpit:str):\n",
    "    for event in graph.stream({\"messages\":[{\"role\":\"user\",\"content\":user_inpit}]}):\n",
    "        for value in event.values():\n",
    "            print(\"Assistant:\", value[\"messages\"][-1].content)"
   ]
  },
  {
   "cell_type": "code",
   "execution_count": 41,
   "metadata": {},
   "outputs": [
    {
     "name": "stdout",
     "output_type": "stream",
     "text": [
      "================================\u001b[1m Human Message \u001b[0m=================================\n",
      "\n",
      "who is Modi?\n",
      "==================================\u001b[1m Ai Message \u001b[0m==================================\n",
      "Tool Calls:\n",
      "  tavily_search_results_json (veqs5j6za)\n",
      " Call ID: veqs5j6za\n",
      "  Args:\n",
      "    query: Who is Modi?\n",
      "=================================\u001b[1m Tool Message \u001b[0m=================================\n",
      "Name: tavily_search_results_json\n",
      "\n",
      "[{\"title\": \"Narendra Modi - Wikipedia\", \"url\": \"https://en.wikipedia.org/wiki/Narendra_Modi\", \"content\": \"Narendra Damodardas Modi( (born 17 September 1950) is an Indian politician who has served as the prime minister of India since 2014. Modi was the chief minister of Gujarat from 2001 to 2014 and is the member of parliament (MP) for Varanasi \\\"Varanasi (Lok Sabha constituency)\\\"). He is a member of the Bharatiya Janata Party (BJP) and of the Rashtriya Swayamsevak Sangh (RSS), a right-wingHindutvaparamilitary volunteer organisation. He is the longest-serving prime minister outside the Indian [...] Appearance\\n\\nmove to sidebar hide\\n\\nImage 4: This is a good article. Click here for more information.\\n\\nImage 5: Page extended-confirmed-protected\\n\\nFrom Wikipedia, the free encyclopedia\\n\\nPrime Minister of India since 2014\\n\\n\\\"Modi\\\" redirects here. For other uses, see Modi (disambiguation) \\\"Modi (disambiguation)\\\").\\n\\n\\\"NaMo\\\" and \\\"Na Mo\\\" redirect here. For other uses, see Namo (disambiguation) \\\"Namo (disambiguation)\\\").\\n\\n| Narendra Modi | [...] | Member of Parliament, Lok Sabha |\\n| Incumbent |\\n| Assumed office 5 June 2014 |\\n| Preceded by | Murli Manohar Joshi |\\n| Constituency | Varanasi, Uttar Pradesh |\\n| Chief Minister of Gujarat |\\n| In office 7 October 2001– 22 May 2014 |\\n| Governor | List   Sunder Singh Bhandari  Kailashpati Mishra  Balram Jakhar  Nawal Kishore Sharma  S. C. Jamir  Kamla Beniwal |\\n| Preceded by | Keshubhai Patel |\\n| Succeeded by | Anandiben Patel |\", \"score\": 0.9092728}, {\"title\": \"Narendra Modi | Biography, Career, & Facts - Britannica\", \"url\": \"https://www.britannica.com/biography/Narendra-Modi\", \"content\": \"Narendra Modi (born September 17, 1950, Vadnagar, India) is an Indian politician and government official who rose to become a senior leader of the Bharatiya Janata Party (BJP). In 2014 he led his party to victory in elections to the Lok Sabha (lower chamber of the Indian parliament), after which he was sworn in as prime minister of India. Prior to that he had served (2001–14) as chief minister (head of government) of Gujarat state in western India. The Modi-led BJP (and the BJP-led NDA [...] The Editors of Encyclopaedia Britannica\\n\\n Last Updated: Sep 16, 2025 •Article History\\n\\n Table of Contents \\n\\n Table of Contents  Ask the Chatbot \\n\\n Quick Facts\\n\\nIn full: Narendra Damodardas Modi _(Show more)_\\n\\nBorn: September 17, 1950, Vadnagar, India (age 74)_(Show more)_\\n\\nTitle / Office: prime minister (2014-), India_(Show more)_\\n\\nPolitical Affiliation: Bharatiya Janata PartyRashtriya Swayamsevak Sangh_(Show more)_\", \"score\": 0.8649622}]\n",
      "==================================\u001b[1m Ai Message \u001b[0m==================================\n",
      "Tool Calls:\n",
      "  tavily_search_results_json (aprhwh39t)\n",
      " Call ID: aprhwh39t\n",
      "  Args:\n",
      "    query: Narendra Modi - Wikipedia\n",
      "=================================\u001b[1m Tool Message \u001b[0m=================================\n",
      "Name: tavily_search_results_json\n",
      "\n",
      "[{\"title\": \"Narendra Modi | Biography, Career, & Facts - Britannica\", \"url\": \"https://www.britannica.com/biography/Narendra-Modi\", \"content\": \"Narendra Modi (born September 17, 1950, Vadnagar, India) is an Indian politician and government official who rose to become a senior leader of the Bharatiya Janata Party (BJP). In 2014 he led his party to victory in elections to the Lok Sabha (lower chamber of the Indian parliament), after which he was sworn in as prime minister of India. Prior to that he had served (2001–14) as chief minister (head of government) of Gujarat state in western India. The Modi-led BJP (and the BJP-led NDA\", \"score\": 0.9255605}, {\"title\": \"Narendra Modi - Wikipedia\", \"url\": \"https://en.wikipedia.org/wiki/Narendra_Modi\", \"content\": \"Narendra Damodardas Modi( (born 17 September 1950) is an Indian politician who has served as the prime minister of India since 2014. Modi was the chief minister of Gujarat from 2001 to 2014 and is the member of parliament (MP) for Varanasi \\\"Varanasi (Lok Sabha constituency)\\\"). He is a member of the Bharatiya Janata Party (BJP) and of the Rashtriya Swayamsevak Sangh (RSS), a right-wingHindutvaparamilitary volunteer organisation. He is the longest-serving prime minister outside the Indian [...] | General Secretary (Organisation) of the Bharatiya Janata Party |\\n| In office 5 January 1998( 7 October 2001 |\\n| Preceded by | Kushabhau Thakre |\\n| Succeeded by | Sanjay Joshi |\\n|  |\\n| Personal details |\\n| Born | Narendra Damodardas Modi (1950-09-17) 17 September 1950 (age 75) Vadnagar, Bombay State, India |\\n| Political party | Bharatiya Janata Party (since 1985) |\\n| Spouse | Jashodaben Modi ​ ​ (m.1968; sep.1971)​ ( |\\n| Residence(s) | 7, Lok Kalyan Marg, New Delhi | [...] Modi was born and raised in Vadnagar, Bombay State (present-day Gujarat), where he completed his secondary education. He was introduced to the RSS at the age of eight, becoming a full-time worker for the organisation in Gujarat in 1971. The RSS assigned him to the BJP in 1985, and he rose through the party hierarchy, becoming general secretary in 1998.( In 2001, Modi was appointed chief minister of Gujarat and elected to the legislative assembly soon after. His administration is considered\", \"score\": 0.921591}]\n",
      "==================================\u001b[1m Ai Message \u001b[0m==================================\n",
      "\n",
      "Narendra Modi( (born 17 September 1950) is an Indian politician who has served as the prime minister of India since 2014. Modi was the chief minister of Gujarat from 2001 to 2014 and is the member of parliament (MP) for Varanasi \\\"Varanasi (Lok Sabha constituency)\\\"). He is a member of the Bharatiya Janata Party (BJP) and of the Rashtriya Swayamsevak Sangh (RSS), a right-wingHindutvaparamilitary volunteer organisation. He is the longest-serving prime minister outside the Indian [...]\n"
     ]
    }
   ],
   "source": [
    "user_input = \"who is Modi?\"\n",
    "events = graph.stream({\"messages\":[{\"role\":\"user\",\"content\":user_input}]},\n",
    "                      stream_mode=\"values\")\n",
    "for event in events:\n",
    "    event[\"messages\"][-1].pretty_print()"
   ]
  },
  {
   "cell_type": "code",
   "execution_count": 77,
   "metadata": {},
   "outputs": [
    {
     "name": "stdout",
     "output_type": "stream",
     "text": [
      "================================\u001b[1m Human Message \u001b[0m=================================\n",
      "\n",
      "what is his age?\n",
      "==================================\u001b[1m Ai Message \u001b[0m==================================\n",
      "Tool Calls:\n",
      "  tavily_search_results_json (zmyw0dw92)\n",
      " Call ID: zmyw0dw92\n",
      "  Args:\n",
      "    query: What is the age of Jason Mraz?\n",
      "=================================\u001b[1m Tool Message \u001b[0m=================================\n",
      "Name: tavily_search_results_json\n",
      "\n",
      "[{\"title\": \"Jason Mraz - Wikipedia\", \"url\": \"https://en.wikipedia.org/wiki/Jason_Mraz\", \"content\": \"| Jason Mraz | |\\n --- |\\n| Mraz in 2020 | |\\n| Born | Jason Thomas Mraz   (1977-06-23) June 23, 1977 (age 48)  Mechanicsville, Virginia, U.S. |\\n| Education | Lee-Davis High School |\\n| Occupations |  Singer  guitarist  songwriter |\\n| Years active | 1999–present |\\n| Spouses | Sheridan Edley  ​  ​ (m. 2001; div. 2002)​     Christina Carano  ​  ​ (m. 2015; div. 2023)​ |\\n| Musical career | |\\n| Genres |  Folk-pop  surf rock  pop rock  blue-eyed soul |\\n| Instruments |  Vocals  guitar | [...] Jason Thomas Mraz (/məˈræz/ mə-RAZ; born June 23, 1977) is an American singer-songwriter and guitarist. He rose to prominence with the release of his debut studio album, Waiting for My Rocket to Come (2002), which spawned the single \\\"The Remedy (I Won't Worry) \\\"The Remedy (I Won't Worry)\\\")\\\" that peaked at number 15 on the Billboard Hot 100 chart. His second studio album Mr. A-Z (2005) peaked at number five on the Billboard 200. [...] 31. ^ Bass, Debra D. (September 15, 2002). \\\"Jewel Tour Shows What's Under the Label\\\". The Press Democrat. Santa Rosa, California: Q17.\\n32. ^ \\\"'NOW 19' Still No. 1 On Album Chart\\\". Billboard. Retrieved May 25, 2014.\\n33. ^ McDonough, Kevin (October 16, 2002). \\\"Practice, practice, practice for Carnegie opening\\\". Chattanooga Times Free Press. Chattanooga, Tennessee: 46.\", \"score\": 0.9307171}, {\"title\": \"Jason Mraz age, hometown, biography - Last.fm\", \"url\": \"https://www.last.fm/music/Jason+Mraz/+wiki\", \"content\": \"## Biography\\n\\n #### Born\\n\\n  23 June 1977 (age 48)\\n #### Born In\\n\\n  Mechanicsville, Hanover County, Virginia, United States\\n\\nJason Thomas Mraz (born June 23, 1977 in Mechanicsville, Virginia) is a Grammy-winning American singer-songwriter. Mraz’s stylistic influences include reggae, pop, rock, folk, jazz, and hip hop.\", \"score\": 0.91306627}]\n",
      "==================================\u001b[1m Ai Message \u001b[0m==================================\n",
      "Tool Calls:\n",
      "  tavily_search_results_json (nnpdshfy7)\n",
      " Call ID: nnpdshfy7\n",
      "  Args:\n",
      "    query: Jason Mraz age\n",
      "=================================\u001b[1m Tool Message \u001b[0m=================================\n",
      "Name: tavily_search_results_json\n",
      "\n",
      "[{\"title\": \"Jason Mraz - Wikipedia\", \"url\": \"https://en.wikipedia.org/wiki/Jason_Mraz\", \"content\": \"| Jason Mraz | |\\n --- |\\n| Mraz in 2020 | |\\n| Born | Jason Thomas Mraz   (1977-06-23) June 23, 1977 (age 48)  Mechanicsville, Virginia, U.S. |\\n| Education | Lee-Davis High School |\\n| Occupations |  Singer  guitarist  songwriter |\\n| Years active | 1999–present |\\n| Spouses | Sheridan Edley  ​  ​ (m. 2001; div. 2002)​     Christina Carano  ​  ​ (m. 2015; div. 2023)​ |\\n| Musical career | |\\n| Genres |  Folk-pop  surf rock  pop rock  blue-eyed soul |\\n| Instruments |  Vocals  guitar | [...] Jason Thomas Mraz (/məˈræz/ mə-RAZ; born June 23, 1977) is an American singer-songwriter and guitarist. He rose to prominence with the release of his debut studio album, Waiting for My Rocket to Come (2002), which spawned the single \\\"The Remedy (I Won't Worry) \\\"The Remedy (I Won't Worry)\\\")\\\" that peaked at number 15 on the Billboard Hot 100 chart. His second studio album Mr. A-Z (2005) peaked at number five on the Billboard 200. [...] 31. ^ Bass, Debra D. (September 15, 2002). \\\"Jewel Tour Shows What's Under the Label\\\". The Press Democrat. Santa Rosa, California: Q17.\\n32. ^ \\\"'NOW 19' Still No. 1 On Album Chart\\\". Billboard. Retrieved May 25, 2014.\\n33. ^ McDonough, Kevin (October 16, 2002). \\\"Practice, practice, practice for Carnegie opening\\\". Chattanooga Times Free Press. Chattanooga, Tennessee: 46.\", \"score\": 0.93525803}, {\"title\": \"Jason Mraz age, hometown, biography - Last.fm\", \"url\": \"https://www.last.fm/music/Jason+Mraz/+wiki\", \"content\": \"## Biography\\n\\n #### Born\\n\\n  23 June 1977 (age 48)\\n #### Born In\\n\\n  Mechanicsville, Hanover County, Virginia, United States\\n\\nJason Thomas Mraz (born June 23, 1977 in Mechanicsville, Virginia) is a Grammy-winning American singer-songwriter. Mraz’s stylistic influences include reggae, pop, rock, folk, jazz, and hip hop.\", \"score\": 0.9126935}]\n",
      "==================================\u001b[1m Ai Message \u001b[0m==================================\n",
      "\n",
      "48\n"
     ]
    }
   ],
   "source": [
    "user_input = \"what is his age?\"\n",
    "events = graph.stream({\"messages\":[{\"role\":\"user\",\"content\":user_input}]},\n",
    "                      stream_mode=\"values\")\n",
    "for event in events:\n",
    "    event[\"messages\"][-1].pretty_print()"
   ]
  },
  {
   "cell_type": "markdown",
   "metadata": {},
   "source": [
    "Chatbot with tool and memory"
   ]
  },
  {
   "cell_type": "markdown",
   "metadata": {},
   "source": []
  },
  {
   "cell_type": "code",
   "execution_count": 78,
   "metadata": {},
   "outputs": [],
   "source": [
    "from langgraph.checkpoint.memory import MemorySaver\n",
    "memory = MemorySaver()"
   ]
  },
  {
   "cell_type": "code",
   "execution_count": 79,
   "metadata": {},
   "outputs": [
    {
     "data": {
      "image/png": "[encoded data removed]",
      "text/plain": [
       "<IPython.core.display.Image object>"
      ]
     },
     "metadata": {},
     "output_type": "display_data"
    }
   ],
   "source": [
    "# llm = ChatGoogleGenerativeAI(model = \"gemini-1.0-pro\")\n",
    "llm = ChatGroq(model = \"gemma2-9b-it\")\n",
    "search = TavilySearchResults(max_results=2)\n",
    "tools = [search]\n",
    "llm_with_bind_tools = llm.bind_tools(tools)\n",
    "\n",
    "\n",
    "\n",
    "class State(TypedDict):\n",
    "    messages: Annotated[List,add_messages]\n",
    "\n",
    "def chat_model(state):\n",
    "    return {\"messages\": [llm_with_bind_tools.invoke(state['messages'])]}\n",
    "\n",
    "\n",
    "workflow_graph = StateGraph(State)\n",
    "workflow_graph.add_node(\"chatbot\", chat_model)\n",
    "tools = ToolNode(tools)\n",
    "workflow_graph.add_node(\"tools\",tools)\n",
    "workflow_graph.add_edge(START,\"chatbot\")\n",
    "workflow_graph.add_conditional_edges(\"chatbot\",tools_condition)\n",
    "workflow_graph.add_edge(\"tools\",\"chatbot\")\n",
    "# workflow_graph.add_edge(\"chatbot\",END)\n",
    "\n",
    "graph = workflow_graph.compile(checkpointer = memory)\n",
    "\n",
    "from IPython.display import Image, display\n",
    "\n",
    "try:\n",
    "    display(Image(graph.get_graph().draw_mermaid_png()))\n",
    "except Exception:\n",
    "    # This requires some extra dependencies and is optional\n",
    "    pass\n"
   ]
  },
  {
   "cell_type": "code",
   "execution_count": 80,
   "metadata": {},
   "outputs": [],
   "source": [
    "config = {\"configurable\": {\"thread_id\": \"xysafsbfsbs\"}}"
   ]
  },
  {
   "cell_type": "code",
   "execution_count": 81,
   "metadata": {},
   "outputs": [
    {
     "name": "stdout",
     "output_type": "stream",
     "text": [
      "================================\u001b[1m Human Message \u001b[0m=================================\n",
      "\n",
      "who is modi?\n",
      "==================================\u001b[1m Ai Message \u001b[0m==================================\n",
      "Tool Calls:\n",
      "  tavily_search_results_json (p2rb24z01)\n",
      " Call ID: p2rb24z01\n",
      "  Args:\n",
      "    query: who is modi\n",
      "=================================\u001b[1m Tool Message \u001b[0m=================================\n",
      "Name: tavily_search_results_json\n",
      "\n",
      "[{\"title\": \"Narendra Modi - Wikipedia\", \"url\": \"https://en.wikipedia.org/wiki/Narendra_Modi\", \"content\": \"Narendra Damodardas Modi( (born 17 September 1950) is an Indian politician who has served as the prime minister of India since 2014. Modi was the chief minister of Gujarat from 2001 to 2014 and is the member of parliament (MP) for Varanasi \\\"Varanasi (Lok Sabha constituency)\\\"). He is a member of the Bharatiya Janata Party (BJP) and of the Rashtriya Swayamsevak Sangh (RSS), a right-wingHindutvaparamilitary volunteer organisation. He is the longest-serving prime minister outside the Indian\", \"score\": 0.8900749}, {\"title\": \"Narendra Modi | Biography, Career, & Facts - Britannica\", \"url\": \"https://www.britannica.com/biography/Narendra-Modi\", \"content\": \"Narendra Modi (born September 17, 1950, Vadnagar, India) is an Indian politician and government official who rose to become a senior leader of the Bharatiya Janata Party (BJP). In 2014 he led his party to victory in elections to the Lok Sabha (lower chamber of the Indian parliament), after which he was sworn in as prime minister of India. Prior to that he had served (2001–14) as chief minister (head of government) of Gujarat state in western India. The Modi-led BJP (and the BJP-led NDA [...] The Editors of Encyclopaedia Britannica\\n\\n Last Updated: Sep 16, 2025 •Article History\\n\\n Table of Contents \\n\\n Table of Contents  Ask the Chatbot \\n\\n Quick Facts\\n\\nIn full: Narendra Damodardas Modi _(Show more)_\\n\\nBorn: September 17, 1950, Vadnagar, India (age 74)_(Show more)_\\n\\nTitle / Office: prime minister (2014-), India_(Show more)_\\n\\nPolitical Affiliation: Bharatiya Janata PartyRashtriya Swayamsevak Sangh_(Show more)_ [...] Image 6: Narendra Modi\\n\\nNarendra ModiChief minister of Gujarat state Narendra Modi speaking at the World Economic Forum's India Economic Summit, November 2008. Modi became the prime minister of India in 2014.(more)\\n\\nNarendra Modi\\n\\nprime minister of India\\n\\n Ask the Chatbot a Question \\n\\n More Actions \\n\\n Print \\n\\n Cite \\n\\n Share \\n\\n Feedback \\n\\n External Websites \\n\\nAlso known as: Narendra Damodardas Modi\\n\\n Written by\", \"score\": 0.8616433}]\n",
      "==================================\u001b[1m Ai Message \u001b[0m==================================\n",
      "Tool Calls:\n",
      "  tavily_search_results_json (y2ppmq6pp)\n",
      " Call ID: y2ppmq6pp\n",
      "  Args:\n",
      "    query:  Narendra Damodardas Modi birthplace\n",
      "=================================\u001b[1m Tool Message \u001b[0m=================================\n",
      "Name: tavily_search_results_json\n",
      "\n",
      "[{\"title\": \"Narendra Modi Biography - Political Career, Awards and Recognition\", \"url\": \"https://www.vedantu.com/biography/narendra-modi\", \"content\": \"Narendra Modi in full Narendra Damodardas Modi was born on 17 September 1950 to a family of grocers. \\nNarendra Modi birthplace \\nis at Vadnagar, Mehsana (Gujarat). He is the third eldest of six children born to the late Damodardas Mulchand Modi and Hiraben Modi. When Modi was younger, he used to help his father sell tea at the Vadnagar Railway Station, and subsequently, he and his brother ran a tea stall near a bus stop.\", \"score\": 0.95508945}, {\"title\": \"Narendra Modi\", \"url\": \"https://en.wikipedia.org/wiki/Narendra_Modi\", \"content\": \"Early life and education\\n\\nNarendra Damodardas Modi was born on 17 September 1950 to a Gujarati family of Other Backward Class (OBC) background and Hindu faith( in Vadnagar, Mehsana district, Bombay State (present-day Gujarat). He was the third of six children born to Damodardas Mulchand Modi (c. 1915–1989) and Hiraben Modi (1923–2022).( According to Modi and his neighbours, he worked infrequently in his father's tea stall in the Vadnagar railway station.( [...] | General Secretary (Organisation) of the Bharatiya Janata Party |\\n| In office 5 January 1998( 7 October 2001 |\\n| Preceded by | Kushabhau Thakre |\\n| Succeeded by | Sanjay Joshi |\\n|  |\\n| Personal details |\\n| Born | Narendra Damodardas Modi (1950-09-17) 17 September 1950 (age 75) Vadnagar, Bombay State, India |\\n| Political party | Bharatiya Janata Party (since 1985) |\\n| Spouse | Jashodaben Modi ​ ​ (m.1968; sep.1971)​ ( |\\n| Residence(s) | 7, Lok Kalyan Marg, New Delhi | [...] Narendra Damodardas Modi( (born 17 September 1950) is an Indian politician who has served as the prime minister of India since 2014. Modi was the chief minister of Gujarat from 2001 to 2014 and is the member of parliament (MP) for Varanasi \\\"Varanasi (Lok Sabha constituency)\\\"). He is a member of the Bharatiya Janata Party (BJP) and of the Rashtriya Swayamsevak Sangh (RSS), a right-wingHindutvaparamilitary volunteer organisation. He is the longest-serving prime minister outside the Indian\", \"score\": 0.9134376}]\n",
      "==================================\u001b[1m Ai Message \u001b[0m==================================\n",
      "Tool Calls:\n",
      "  tavily_search_results_json (qj16azdc9)\n",
      " Call ID: qj16azdc9\n",
      "  Args:\n",
      "    query: what is the meaning of hindu\n",
      "=================================\u001b[1m Tool Message \u001b[0m=================================\n",
      "Name: tavily_search_results_json\n",
      "\n",
      "[{\"title\": \"HINDU Definition & Meaning - Merriam-Webster\", \"url\": \"https://www.merriam-webster.com/dictionary/Hindu\", \"content\": \"Wordies read on for enlightenment.\\n\\n## Cite this Entry\\n\\n“Hindu.” Merriam-Webster.com Dictionary, Merriam-Webster,  Accessed 27 Aug. 2025.\\n\\nCopy Citation\\n\\n## Share\\n\\n## Kids Definition\\n\\nHindu\\n\\nnoun\\n\\nHin·​du\\n\\nˈhin-(ˌ)dü\\n\\n1\\n\\n: a follower of Hinduism\\n\\n2\\n\\n: a person born or living in India\\n\\nHindu\\nadjective\\n\\nLast Updated:\\n - Updated example sentences\\n\\nLove words? Need even more definitions?\\n\\nSubscribe to America's largest dictionary and get thousands more definitions and advanced search—ad free! [...] : an adherent of Hinduism\\n\\n: a native or inhabitant of India\\n\\nHindu\\n\\n2 of 2\\n\\n## adjective\\n\\nvariants\\n or less commonly Hindoo\\n\\n: of, relating to, or characteristic of the Hindus or Hinduism\\n\\n## Examples of Hindu in a Sentence\\n\\nRecent Examples on the Web\\n\\nExamples are automatically compiled from online sources to\\nshow current usage.\\n\\nRead More\\n\\nOpinions expressed in the examples do not represent those of Merriam-Webster or its editors.\\nSend us feedback.\\n\\nNoun\", \"score\": 0.8455478}, {\"title\": \"Hindu - Definition, Meaning & Synonyms - Vocabulary.com\", \"url\": \"https://www.vocabulary.com/dictionary/Hindu\", \"content\": \"SKIP TO CONTENT\\n\\nRandom Word\\n\\n# Hindu\\n\\nAdd to list\\n\\n/ˈhɪndu/\\n\\n/ˈhɪndu/\\n\\nIPA guide\\n\\nOther forms: Hindus\\n\\nA Hindu is a person who believes in the religion called Hinduism. Many Hindus live in India. [...] Use the term Hindu to talk about someone who follows the teachings and practices of Hinduism, or who has a cultural connection to Hinduism. If you're a Hindu, you belong to the third largest religion in the world, and one with many different gods and goddesses. The word Hindu used to refer to anyone from India, from the Persian word for \\\"India,\\\" Hind. The ultimate root is the Sanskrit word sindhu, or \\\"river.\\\"\\n\\nDefinitions of Hindu\\n\\n1. adjective\\n\\n   of or relating to or supporting Hinduism [...] Vaishnava\\n\\n   worshipper of Vishnu\\n\\n   saddhu,\\n   sadhu\\n\\n   (Hinduism) an ascetic holy man\\n\\n   sannyasi,\\n   sannyasin,\\n   sanyasi\\n\\n   a Hindu religious mendicant\\n\\n   type of:\\n\\n   religious person\\n\\n   a person who manifests devotion to a deity\\n3. noun\\n\\n   a native or inhabitant of Hindustan or India\\n\\n   synonyms:\\n\\n   Hindoo,\\n   Hindustani\\n\\n   see moresee less\\n\\n   types:\\n\\n   show 6 types...;)\\n\\n   hide 6 types...;)\\n\\n   brahman,\\n   brahmin\\n\\n   a member of the highest of the four Hindu varnas\", \"score\": 0.8440111}]\n"
     ]
    },
    {
     "ename": "BadRequestError",
     "evalue": "Error code: 400 - {'error': {'message': \"Failed to call a function. Please adjust your prompt. See 'failed_generation' for more details.\", 'type': 'invalid_request_error', 'code': 'tool_use_failed', 'failed_generation': '<tool-use>{\"tool_call\":{\"id\":\"q9j12l76c\",\"type\":\"function\",\"function\":{\"name\":\"tavily_search_results_json\"},\"parameters\":{\"query\":\"what is the meaning of Hinduism?\"}}</tool-use>'}}",
     "output_type": "error",
     "traceback": [
      "\u001b[31m---------------------------------------------------------------------------\u001b[39m",
      "\u001b[31mBadRequestError\u001b[39m                           Traceback (most recent call last)",
      "\u001b[36mCell\u001b[39m\u001b[36m \u001b[39m\u001b[32mIn[81]\u001b[39m\u001b[32m, line 10\u001b[39m\n\u001b[32m      3\u001b[39m \u001b[38;5;66;03m# The config is the **second positional argument** to stream() or invoke()!\u001b[39;00m\n\u001b[32m      4\u001b[39m events = graph.stream(\n\u001b[32m      5\u001b[39m     {\u001b[33m\"\u001b[39m\u001b[33mmessages\u001b[39m\u001b[33m\"\u001b[39m: [{\u001b[33m\"\u001b[39m\u001b[33mrole\u001b[39m\u001b[33m\"\u001b[39m: \u001b[33m\"\u001b[39m\u001b[33muser\u001b[39m\u001b[33m\"\u001b[39m, \u001b[33m\"\u001b[39m\u001b[33mcontent\u001b[39m\u001b[33m\"\u001b[39m: user_input}]},\n\u001b[32m      6\u001b[39m     config,\n\u001b[32m      7\u001b[39m     stream_mode=\u001b[33m\"\u001b[39m\u001b[33mvalues\u001b[39m\u001b[33m\"\u001b[39m,\n\u001b[32m      8\u001b[39m )\n\u001b[32m---> \u001b[39m\u001b[32m10\u001b[39m \u001b[38;5;28;43;01mfor\u001b[39;49;00m\u001b[43m \u001b[49m\u001b[43mevent\u001b[49m\u001b[43m \u001b[49m\u001b[38;5;129;43;01min\u001b[39;49;00m\u001b[43m \u001b[49m\u001b[43mevents\u001b[49m\u001b[43m:\u001b[49m\n\u001b[32m     11\u001b[39m \u001b[43m    \u001b[49m\u001b[43mevent\u001b[49m\u001b[43m[\u001b[49m\u001b[33;43m\"\u001b[39;49m\u001b[33;43mmessages\u001b[39;49m\u001b[33;43m\"\u001b[39;49m\u001b[43m]\u001b[49m\u001b[43m[\u001b[49m\u001b[43m-\u001b[49m\u001b[32;43m1\u001b[39;49m\u001b[43m]\u001b[49m\u001b[43m.\u001b[49m\u001b[43mpretty_print\u001b[49m\u001b[43m(\u001b[49m\u001b[43m)\u001b[49m\n",
      "\u001b[36mFile \u001b[39m\u001b[32m~/Documents/docs/BIA/AgenticAIAug2025/bia_coding/.venv/lib/python3.13/site-packages/langgraph/pregel/main.py:2647\u001b[39m, in \u001b[36mPregel.stream\u001b[39m\u001b[34m(self, input, config, context, stream_mode, print_mode, output_keys, interrupt_before, interrupt_after, durability, subgraphs, debug, **kwargs)\u001b[39m\n\u001b[32m   2645\u001b[39m \u001b[38;5;28;01mfor\u001b[39;00m task \u001b[38;5;129;01min\u001b[39;00m loop.match_cached_writes():\n\u001b[32m   2646\u001b[39m     loop.output_writes(task.id, task.writes, cached=\u001b[38;5;28;01mTrue\u001b[39;00m)\n\u001b[32m-> \u001b[39m\u001b[32m2647\u001b[39m \u001b[43m\u001b[49m\u001b[38;5;28;43;01mfor\u001b[39;49;00m\u001b[43m \u001b[49m\u001b[43m_\u001b[49m\u001b[43m \u001b[49m\u001b[38;5;129;43;01min\u001b[39;49;00m\u001b[43m \u001b[49m\u001b[43mrunner\u001b[49m\u001b[43m.\u001b[49m\u001b[43mtick\u001b[49m\u001b[43m(\u001b[49m\n\u001b[32m   2648\u001b[39m \u001b[43m    \u001b[49m\u001b[43m[\u001b[49m\u001b[43mt\u001b[49m\u001b[43m \u001b[49m\u001b[38;5;28;43;01mfor\u001b[39;49;00m\u001b[43m \u001b[49m\u001b[43mt\u001b[49m\u001b[43m \u001b[49m\u001b[38;5;129;43;01min\u001b[39;49;00m\u001b[43m \u001b[49m\u001b[43mloop\u001b[49m\u001b[43m.\u001b[49m\u001b[43mtasks\u001b[49m\u001b[43m.\u001b[49m\u001b[43mvalues\u001b[49m\u001b[43m(\u001b[49m\u001b[43m)\u001b[49m\u001b[43m \u001b[49m\u001b[38;5;28;43;01mif\u001b[39;49;00m\u001b[43m \u001b[49m\u001b[38;5;129;43;01mnot\u001b[39;49;00m\u001b[43m \u001b[49m\u001b[43mt\u001b[49m\u001b[43m.\u001b[49m\u001b[43mwrites\u001b[49m\u001b[43m]\u001b[49m\u001b[43m,\u001b[49m\n\u001b[32m   2649\u001b[39m \u001b[43m    \u001b[49m\u001b[43mtimeout\u001b[49m\u001b[43m=\u001b[49m\u001b[38;5;28;43mself\u001b[39;49m\u001b[43m.\u001b[49m\u001b[43mstep_timeout\u001b[49m\u001b[43m,\u001b[49m\n\u001b[32m   2650\u001b[39m \u001b[43m    \u001b[49m\u001b[43mget_waiter\u001b[49m\u001b[43m=\u001b[49m\u001b[43mget_waiter\u001b[49m\u001b[43m,\u001b[49m\n\u001b[32m   2651\u001b[39m \u001b[43m    \u001b[49m\u001b[43mschedule_task\u001b[49m\u001b[43m=\u001b[49m\u001b[43mloop\u001b[49m\u001b[43m.\u001b[49m\u001b[43maccept_push\u001b[49m\u001b[43m,\u001b[49m\n\u001b[32m   2652\u001b[39m \u001b[43m\u001b[49m\u001b[43m)\u001b[49m\u001b[43m:\u001b[49m\n\u001b[32m   2653\u001b[39m \u001b[43m    \u001b[49m\u001b[38;5;66;43;03m# emit output\u001b[39;49;00m\n\u001b[32m   2654\u001b[39m \u001b[43m    \u001b[49m\u001b[38;5;28;43;01myield from\u001b[39;49;00m\u001b[43m \u001b[49m\u001b[43m_output\u001b[49m\u001b[43m(\u001b[49m\n\u001b[32m   2655\u001b[39m \u001b[43m        \u001b[49m\u001b[43mstream_mode\u001b[49m\u001b[43m,\u001b[49m\u001b[43m \u001b[49m\u001b[43mprint_mode\u001b[49m\u001b[43m,\u001b[49m\u001b[43m \u001b[49m\u001b[43msubgraphs\u001b[49m\u001b[43m,\u001b[49m\u001b[43m \u001b[49m\u001b[43mstream\u001b[49m\u001b[43m.\u001b[49m\u001b[43mget\u001b[49m\u001b[43m,\u001b[49m\u001b[43m \u001b[49m\u001b[43mqueue\u001b[49m\u001b[43m.\u001b[49m\u001b[43mEmpty\u001b[49m\n\u001b[32m   2656\u001b[39m \u001b[43m    \u001b[49m\u001b[43m)\u001b[49m\n\u001b[32m   2657\u001b[39m loop.after_tick()\n",
      "\u001b[36mFile \u001b[39m\u001b[32m~/Documents/docs/BIA/AgenticAIAug2025/bia_coding/.venv/lib/python3.13/site-packages/langgraph/pregel/_runner.py:162\u001b[39m, in \u001b[36mPregelRunner.tick\u001b[39m\u001b[34m(self, tasks, reraise, timeout, retry_policy, get_waiter, schedule_task)\u001b[39m\n\u001b[32m    160\u001b[39m t = tasks[\u001b[32m0\u001b[39m]\n\u001b[32m    161\u001b[39m \u001b[38;5;28;01mtry\u001b[39;00m:\n\u001b[32m--> \u001b[39m\u001b[32m162\u001b[39m     \u001b[43mrun_with_retry\u001b[49m\u001b[43m(\u001b[49m\n\u001b[32m    163\u001b[39m \u001b[43m        \u001b[49m\u001b[43mt\u001b[49m\u001b[43m,\u001b[49m\n\u001b[32m    164\u001b[39m \u001b[43m        \u001b[49m\u001b[43mretry_policy\u001b[49m\u001b[43m,\u001b[49m\n\u001b[32m    165\u001b[39m \u001b[43m        \u001b[49m\u001b[43mconfigurable\u001b[49m\u001b[43m=\u001b[49m\u001b[43m{\u001b[49m\n\u001b[32m    166\u001b[39m \u001b[43m            \u001b[49m\u001b[43mCONFIG_KEY_CALL\u001b[49m\u001b[43m:\u001b[49m\u001b[43m \u001b[49m\u001b[43mpartial\u001b[49m\u001b[43m(\u001b[49m\n\u001b[32m    167\u001b[39m \u001b[43m                \u001b[49m\u001b[43m_call\u001b[49m\u001b[43m,\u001b[49m\n\u001b[32m    168\u001b[39m \u001b[43m                \u001b[49m\u001b[43mweakref\u001b[49m\u001b[43m.\u001b[49m\u001b[43mref\u001b[49m\u001b[43m(\u001b[49m\u001b[43mt\u001b[49m\u001b[43m)\u001b[49m\u001b[43m,\u001b[49m\n\u001b[32m    169\u001b[39m \u001b[43m                \u001b[49m\u001b[43mretry_policy\u001b[49m\u001b[43m=\u001b[49m\u001b[43mretry_policy\u001b[49m\u001b[43m,\u001b[49m\n\u001b[32m    170\u001b[39m \u001b[43m                \u001b[49m\u001b[43mfutures\u001b[49m\u001b[43m=\u001b[49m\u001b[43mweakref\u001b[49m\u001b[43m.\u001b[49m\u001b[43mref\u001b[49m\u001b[43m(\u001b[49m\u001b[43mfutures\u001b[49m\u001b[43m)\u001b[49m\u001b[43m,\u001b[49m\n\u001b[32m    171\u001b[39m \u001b[43m                \u001b[49m\u001b[43mschedule_task\u001b[49m\u001b[43m=\u001b[49m\u001b[43mschedule_task\u001b[49m\u001b[43m,\u001b[49m\n\u001b[32m    172\u001b[39m \u001b[43m                \u001b[49m\u001b[43msubmit\u001b[49m\u001b[43m=\u001b[49m\u001b[38;5;28;43mself\u001b[39;49m\u001b[43m.\u001b[49m\u001b[43msubmit\u001b[49m\u001b[43m,\u001b[49m\n\u001b[32m    173\u001b[39m \u001b[43m            \u001b[49m\u001b[43m)\u001b[49m\u001b[43m,\u001b[49m\n\u001b[32m    174\u001b[39m \u001b[43m        \u001b[49m\u001b[43m}\u001b[49m\u001b[43m,\u001b[49m\n\u001b[32m    175\u001b[39m \u001b[43m    \u001b[49m\u001b[43m)\u001b[49m\n\u001b[32m    176\u001b[39m     \u001b[38;5;28mself\u001b[39m.commit(t, \u001b[38;5;28;01mNone\u001b[39;00m)\n\u001b[32m    177\u001b[39m \u001b[38;5;28;01mexcept\u001b[39;00m \u001b[38;5;167;01mException\u001b[39;00m \u001b[38;5;28;01mas\u001b[39;00m exc:\n",
      "\u001b[36mFile \u001b[39m\u001b[32m~/Documents/docs/BIA/AgenticAIAug2025/bia_coding/.venv/lib/python3.13/site-packages/langgraph/pregel/_retry.py:42\u001b[39m, in \u001b[36mrun_with_retry\u001b[39m\u001b[34m(task, retry_policy, configurable)\u001b[39m\n\u001b[32m     40\u001b[39m     task.writes.clear()\n\u001b[32m     41\u001b[39m     \u001b[38;5;66;03m# run the task\u001b[39;00m\n\u001b[32m---> \u001b[39m\u001b[32m42\u001b[39m     \u001b[38;5;28;01mreturn\u001b[39;00m \u001b[43mtask\u001b[49m\u001b[43m.\u001b[49m\u001b[43mproc\u001b[49m\u001b[43m.\u001b[49m\u001b[43minvoke\u001b[49m\u001b[43m(\u001b[49m\u001b[43mtask\u001b[49m\u001b[43m.\u001b[49m\u001b[43minput\u001b[49m\u001b[43m,\u001b[49m\u001b[43m \u001b[49m\u001b[43mconfig\u001b[49m\u001b[43m)\u001b[49m\n\u001b[32m     43\u001b[39m \u001b[38;5;28;01mexcept\u001b[39;00m ParentCommand \u001b[38;5;28;01mas\u001b[39;00m exc:\n\u001b[32m     44\u001b[39m     ns: \u001b[38;5;28mstr\u001b[39m = config[CONF][CONFIG_KEY_CHECKPOINT_NS]\n",
      "\u001b[36mFile \u001b[39m\u001b[32m~/Documents/docs/BIA/AgenticAIAug2025/bia_coding/.venv/lib/python3.13/site-packages/langgraph/_internal/_runnable.py:657\u001b[39m, in \u001b[36mRunnableSeq.invoke\u001b[39m\u001b[34m(self, input, config, **kwargs)\u001b[39m\n\u001b[32m    655\u001b[39m     \u001b[38;5;66;03m# run in context\u001b[39;00m\n\u001b[32m    656\u001b[39m     \u001b[38;5;28;01mwith\u001b[39;00m set_config_context(config, run) \u001b[38;5;28;01mas\u001b[39;00m context:\n\u001b[32m--> \u001b[39m\u001b[32m657\u001b[39m         \u001b[38;5;28minput\u001b[39m = \u001b[43mcontext\u001b[49m\u001b[43m.\u001b[49m\u001b[43mrun\u001b[49m\u001b[43m(\u001b[49m\u001b[43mstep\u001b[49m\u001b[43m.\u001b[49m\u001b[43minvoke\u001b[49m\u001b[43m,\u001b[49m\u001b[43m \u001b[49m\u001b[38;5;28;43minput\u001b[39;49m\u001b[43m,\u001b[49m\u001b[43m \u001b[49m\u001b[43mconfig\u001b[49m\u001b[43m,\u001b[49m\u001b[43m \u001b[49m\u001b[43m*\u001b[49m\u001b[43m*\u001b[49m\u001b[43mkwargs\u001b[49m\u001b[43m)\u001b[49m\n\u001b[32m    658\u001b[39m \u001b[38;5;28;01melse\u001b[39;00m:\n\u001b[32m    659\u001b[39m     \u001b[38;5;28minput\u001b[39m = step.invoke(\u001b[38;5;28minput\u001b[39m, config)\n",
      "\u001b[36mFile \u001b[39m\u001b[32m~/Documents/docs/BIA/AgenticAIAug2025/bia_coding/.venv/lib/python3.13/site-packages/langgraph/_internal/_runnable.py:401\u001b[39m, in \u001b[36mRunnableCallable.invoke\u001b[39m\u001b[34m(self, input, config, **kwargs)\u001b[39m\n\u001b[32m    399\u001b[39m         run_manager.on_chain_end(ret)\n\u001b[32m    400\u001b[39m \u001b[38;5;28;01melse\u001b[39;00m:\n\u001b[32m--> \u001b[39m\u001b[32m401\u001b[39m     ret = \u001b[38;5;28;43mself\u001b[39;49m\u001b[43m.\u001b[49m\u001b[43mfunc\u001b[49m\u001b[43m(\u001b[49m\u001b[43m*\u001b[49m\u001b[43margs\u001b[49m\u001b[43m,\u001b[49m\u001b[43m \u001b[49m\u001b[43m*\u001b[49m\u001b[43m*\u001b[49m\u001b[43mkwargs\u001b[49m\u001b[43m)\u001b[49m\n\u001b[32m    402\u001b[39m \u001b[38;5;28;01mif\u001b[39;00m \u001b[38;5;28mself\u001b[39m.recurse \u001b[38;5;129;01mand\u001b[39;00m \u001b[38;5;28misinstance\u001b[39m(ret, Runnable):\n\u001b[32m    403\u001b[39m     \u001b[38;5;28;01mreturn\u001b[39;00m ret.invoke(\u001b[38;5;28minput\u001b[39m, config)\n",
      "\u001b[36mCell\u001b[39m\u001b[36m \u001b[39m\u001b[32mIn[79]\u001b[39m\u001b[32m, line 13\u001b[39m, in \u001b[36mchat_model\u001b[39m\u001b[34m(state)\u001b[39m\n\u001b[32m     12\u001b[39m \u001b[38;5;28;01mdef\u001b[39;00m\u001b[38;5;250m \u001b[39m\u001b[34mchat_model\u001b[39m(state):\n\u001b[32m---> \u001b[39m\u001b[32m13\u001b[39m     \u001b[38;5;28;01mreturn\u001b[39;00m {\u001b[33m\"\u001b[39m\u001b[33mmessages\u001b[39m\u001b[33m\"\u001b[39m: [\u001b[43mllm_with_bind_tools\u001b[49m\u001b[43m.\u001b[49m\u001b[43minvoke\u001b[49m\u001b[43m(\u001b[49m\u001b[43mstate\u001b[49m\u001b[43m[\u001b[49m\u001b[33;43m'\u001b[39;49m\u001b[33;43mmessages\u001b[39;49m\u001b[33;43m'\u001b[39;49m\u001b[43m]\u001b[49m\u001b[43m)\u001b[49m]}\n",
      "\u001b[36mFile \u001b[39m\u001b[32m~/Documents/docs/BIA/AgenticAIAug2025/bia_coding/.venv/lib/python3.13/site-packages/langchain_core/runnables/base.py:5710\u001b[39m, in \u001b[36mRunnableBindingBase.invoke\u001b[39m\u001b[34m(self, input, config, **kwargs)\u001b[39m\n\u001b[32m   5703\u001b[39m \u001b[38;5;129m@override\u001b[39m\n\u001b[32m   5704\u001b[39m \u001b[38;5;28;01mdef\u001b[39;00m\u001b[38;5;250m \u001b[39m\u001b[34minvoke\u001b[39m(\n\u001b[32m   5705\u001b[39m     \u001b[38;5;28mself\u001b[39m,\n\u001b[32m   (...)\u001b[39m\u001b[32m   5708\u001b[39m     **kwargs: Optional[Any],\n\u001b[32m   5709\u001b[39m ) -> Output:\n\u001b[32m-> \u001b[39m\u001b[32m5710\u001b[39m     \u001b[38;5;28;01mreturn\u001b[39;00m \u001b[38;5;28;43mself\u001b[39;49m\u001b[43m.\u001b[49m\u001b[43mbound\u001b[49m\u001b[43m.\u001b[49m\u001b[43minvoke\u001b[49m\u001b[43m(\u001b[49m\n\u001b[32m   5711\u001b[39m \u001b[43m        \u001b[49m\u001b[38;5;28;43minput\u001b[39;49m\u001b[43m,\u001b[49m\n\u001b[32m   5712\u001b[39m \u001b[43m        \u001b[49m\u001b[38;5;28;43mself\u001b[39;49m\u001b[43m.\u001b[49m\u001b[43m_merge_configs\u001b[49m\u001b[43m(\u001b[49m\u001b[43mconfig\u001b[49m\u001b[43m)\u001b[49m\u001b[43m,\u001b[49m\n\u001b[32m   5713\u001b[39m \u001b[43m        \u001b[49m\u001b[43m*\u001b[49m\u001b[43m*\u001b[49m\u001b[43m{\u001b[49m\u001b[43m*\u001b[49m\u001b[43m*\u001b[49m\u001b[38;5;28;43mself\u001b[39;49m\u001b[43m.\u001b[49m\u001b[43mkwargs\u001b[49m\u001b[43m,\u001b[49m\u001b[43m \u001b[49m\u001b[43m*\u001b[49m\u001b[43m*\u001b[49m\u001b[43mkwargs\u001b[49m\u001b[43m}\u001b[49m\u001b[43m,\u001b[49m\n\u001b[32m   5714\u001b[39m \u001b[43m    \u001b[49m\u001b[43m)\u001b[49m\n",
      "\u001b[36mFile \u001b[39m\u001b[32m~/Documents/docs/BIA/AgenticAIAug2025/bia_coding/.venv/lib/python3.13/site-packages/langchain_core/language_models/chat_models.py:395\u001b[39m, in \u001b[36mBaseChatModel.invoke\u001b[39m\u001b[34m(self, input, config, stop, **kwargs)\u001b[39m\n\u001b[32m    383\u001b[39m \u001b[38;5;129m@override\u001b[39m\n\u001b[32m    384\u001b[39m \u001b[38;5;28;01mdef\u001b[39;00m\u001b[38;5;250m \u001b[39m\u001b[34minvoke\u001b[39m(\n\u001b[32m    385\u001b[39m     \u001b[38;5;28mself\u001b[39m,\n\u001b[32m   (...)\u001b[39m\u001b[32m    390\u001b[39m     **kwargs: Any,\n\u001b[32m    391\u001b[39m ) -> BaseMessage:\n\u001b[32m    392\u001b[39m     config = ensure_config(config)\n\u001b[32m    393\u001b[39m     \u001b[38;5;28;01mreturn\u001b[39;00m cast(\n\u001b[32m    394\u001b[39m         \u001b[33m\"\u001b[39m\u001b[33mChatGeneration\u001b[39m\u001b[33m\"\u001b[39m,\n\u001b[32m--> \u001b[39m\u001b[32m395\u001b[39m         \u001b[38;5;28;43mself\u001b[39;49m\u001b[43m.\u001b[49m\u001b[43mgenerate_prompt\u001b[49m\u001b[43m(\u001b[49m\n\u001b[32m    396\u001b[39m \u001b[43m            \u001b[49m\u001b[43m[\u001b[49m\u001b[38;5;28;43mself\u001b[39;49m\u001b[43m.\u001b[49m\u001b[43m_convert_input\u001b[49m\u001b[43m(\u001b[49m\u001b[38;5;28;43minput\u001b[39;49m\u001b[43m)\u001b[49m\u001b[43m]\u001b[49m\u001b[43m,\u001b[49m\n\u001b[32m    397\u001b[39m \u001b[43m            \u001b[49m\u001b[43mstop\u001b[49m\u001b[43m=\u001b[49m\u001b[43mstop\u001b[49m\u001b[43m,\u001b[49m\n\u001b[32m    398\u001b[39m \u001b[43m            \u001b[49m\u001b[43mcallbacks\u001b[49m\u001b[43m=\u001b[49m\u001b[43mconfig\u001b[49m\u001b[43m.\u001b[49m\u001b[43mget\u001b[49m\u001b[43m(\u001b[49m\u001b[33;43m\"\u001b[39;49m\u001b[33;43mcallbacks\u001b[39;49m\u001b[33;43m\"\u001b[39;49m\u001b[43m)\u001b[49m\u001b[43m,\u001b[49m\n\u001b[32m    399\u001b[39m \u001b[43m            \u001b[49m\u001b[43mtags\u001b[49m\u001b[43m=\u001b[49m\u001b[43mconfig\u001b[49m\u001b[43m.\u001b[49m\u001b[43mget\u001b[49m\u001b[43m(\u001b[49m\u001b[33;43m\"\u001b[39;49m\u001b[33;43mtags\u001b[39;49m\u001b[33;43m\"\u001b[39;49m\u001b[43m)\u001b[49m\u001b[43m,\u001b[49m\n\u001b[32m    400\u001b[39m \u001b[43m            \u001b[49m\u001b[43mmetadata\u001b[49m\u001b[43m=\u001b[49m\u001b[43mconfig\u001b[49m\u001b[43m.\u001b[49m\u001b[43mget\u001b[49m\u001b[43m(\u001b[49m\u001b[33;43m\"\u001b[39;49m\u001b[33;43mmetadata\u001b[39;49m\u001b[33;43m\"\u001b[39;49m\u001b[43m)\u001b[49m\u001b[43m,\u001b[49m\n\u001b[32m    401\u001b[39m \u001b[43m            \u001b[49m\u001b[43mrun_name\u001b[49m\u001b[43m=\u001b[49m\u001b[43mconfig\u001b[49m\u001b[43m.\u001b[49m\u001b[43mget\u001b[49m\u001b[43m(\u001b[49m\u001b[33;43m\"\u001b[39;49m\u001b[33;43mrun_name\u001b[39;49m\u001b[33;43m\"\u001b[39;49m\u001b[43m)\u001b[49m\u001b[43m,\u001b[49m\n\u001b[32m    402\u001b[39m \u001b[43m            \u001b[49m\u001b[43mrun_id\u001b[49m\u001b[43m=\u001b[49m\u001b[43mconfig\u001b[49m\u001b[43m.\u001b[49m\u001b[43mpop\u001b[49m\u001b[43m(\u001b[49m\u001b[33;43m\"\u001b[39;49m\u001b[33;43mrun_id\u001b[39;49m\u001b[33;43m\"\u001b[39;49m\u001b[43m,\u001b[49m\u001b[43m \u001b[49m\u001b[38;5;28;43;01mNone\u001b[39;49;00m\u001b[43m)\u001b[49m\u001b[43m,\u001b[49m\n\u001b[32m    403\u001b[39m \u001b[43m            \u001b[49m\u001b[43m*\u001b[49m\u001b[43m*\u001b[49m\u001b[43mkwargs\u001b[49m\u001b[43m,\u001b[49m\n\u001b[32m    404\u001b[39m \u001b[43m        \u001b[49m\u001b[43m)\u001b[49m.generations[\u001b[32m0\u001b[39m][\u001b[32m0\u001b[39m],\n\u001b[32m    405\u001b[39m     ).message\n",
      "\u001b[36mFile \u001b[39m\u001b[32m~/Documents/docs/BIA/AgenticAIAug2025/bia_coding/.venv/lib/python3.13/site-packages/langchain_core/language_models/chat_models.py:1023\u001b[39m, in \u001b[36mBaseChatModel.generate_prompt\u001b[39m\u001b[34m(self, prompts, stop, callbacks, **kwargs)\u001b[39m\n\u001b[32m   1014\u001b[39m \u001b[38;5;129m@override\u001b[39m\n\u001b[32m   1015\u001b[39m \u001b[38;5;28;01mdef\u001b[39;00m\u001b[38;5;250m \u001b[39m\u001b[34mgenerate_prompt\u001b[39m(\n\u001b[32m   1016\u001b[39m     \u001b[38;5;28mself\u001b[39m,\n\u001b[32m   (...)\u001b[39m\u001b[32m   1020\u001b[39m     **kwargs: Any,\n\u001b[32m   1021\u001b[39m ) -> LLMResult:\n\u001b[32m   1022\u001b[39m     prompt_messages = [p.to_messages() \u001b[38;5;28;01mfor\u001b[39;00m p \u001b[38;5;129;01min\u001b[39;00m prompts]\n\u001b[32m-> \u001b[39m\u001b[32m1023\u001b[39m     \u001b[38;5;28;01mreturn\u001b[39;00m \u001b[38;5;28;43mself\u001b[39;49m\u001b[43m.\u001b[49m\u001b[43mgenerate\u001b[49m\u001b[43m(\u001b[49m\u001b[43mprompt_messages\u001b[49m\u001b[43m,\u001b[49m\u001b[43m \u001b[49m\u001b[43mstop\u001b[49m\u001b[43m=\u001b[49m\u001b[43mstop\u001b[49m\u001b[43m,\u001b[49m\u001b[43m \u001b[49m\u001b[43mcallbacks\u001b[49m\u001b[43m=\u001b[49m\u001b[43mcallbacks\u001b[49m\u001b[43m,\u001b[49m\u001b[43m \u001b[49m\u001b[43m*\u001b[49m\u001b[43m*\u001b[49m\u001b[43mkwargs\u001b[49m\u001b[43m)\u001b[49m\n",
      "\u001b[36mFile \u001b[39m\u001b[32m~/Documents/docs/BIA/AgenticAIAug2025/bia_coding/.venv/lib/python3.13/site-packages/langchain_core/language_models/chat_models.py:840\u001b[39m, in \u001b[36mBaseChatModel.generate\u001b[39m\u001b[34m(self, messages, stop, callbacks, tags, metadata, run_name, run_id, **kwargs)\u001b[39m\n\u001b[32m    837\u001b[39m \u001b[38;5;28;01mfor\u001b[39;00m i, m \u001b[38;5;129;01min\u001b[39;00m \u001b[38;5;28menumerate\u001b[39m(input_messages):\n\u001b[32m    838\u001b[39m     \u001b[38;5;28;01mtry\u001b[39;00m:\n\u001b[32m    839\u001b[39m         results.append(\n\u001b[32m--> \u001b[39m\u001b[32m840\u001b[39m             \u001b[38;5;28;43mself\u001b[39;49m\u001b[43m.\u001b[49m\u001b[43m_generate_with_cache\u001b[49m\u001b[43m(\u001b[49m\n\u001b[32m    841\u001b[39m \u001b[43m                \u001b[49m\u001b[43mm\u001b[49m\u001b[43m,\u001b[49m\n\u001b[32m    842\u001b[39m \u001b[43m                \u001b[49m\u001b[43mstop\u001b[49m\u001b[43m=\u001b[49m\u001b[43mstop\u001b[49m\u001b[43m,\u001b[49m\n\u001b[32m    843\u001b[39m \u001b[43m                \u001b[49m\u001b[43mrun_manager\u001b[49m\u001b[43m=\u001b[49m\u001b[43mrun_managers\u001b[49m\u001b[43m[\u001b[49m\u001b[43mi\u001b[49m\u001b[43m]\u001b[49m\u001b[43m \u001b[49m\u001b[38;5;28;43;01mif\u001b[39;49;00m\u001b[43m \u001b[49m\u001b[43mrun_managers\u001b[49m\u001b[43m \u001b[49m\u001b[38;5;28;43;01melse\u001b[39;49;00m\u001b[43m \u001b[49m\u001b[38;5;28;43;01mNone\u001b[39;49;00m\u001b[43m,\u001b[49m\n\u001b[32m    844\u001b[39m \u001b[43m                \u001b[49m\u001b[43m*\u001b[49m\u001b[43m*\u001b[49m\u001b[43mkwargs\u001b[49m\u001b[43m,\u001b[49m\n\u001b[32m    845\u001b[39m \u001b[43m            \u001b[49m\u001b[43m)\u001b[49m\n\u001b[32m    846\u001b[39m         )\n\u001b[32m    847\u001b[39m     \u001b[38;5;28;01mexcept\u001b[39;00m \u001b[38;5;167;01mBaseException\u001b[39;00m \u001b[38;5;28;01mas\u001b[39;00m e:\n\u001b[32m    848\u001b[39m         \u001b[38;5;28;01mif\u001b[39;00m run_managers:\n",
      "\u001b[36mFile \u001b[39m\u001b[32m~/Documents/docs/BIA/AgenticAIAug2025/bia_coding/.venv/lib/python3.13/site-packages/langchain_core/language_models/chat_models.py:1089\u001b[39m, in \u001b[36mBaseChatModel._generate_with_cache\u001b[39m\u001b[34m(self, messages, stop, run_manager, **kwargs)\u001b[39m\n\u001b[32m   1087\u001b[39m     result = generate_from_stream(\u001b[38;5;28miter\u001b[39m(chunks))\n\u001b[32m   1088\u001b[39m \u001b[38;5;28;01melif\u001b[39;00m inspect.signature(\u001b[38;5;28mself\u001b[39m._generate).parameters.get(\u001b[33m\"\u001b[39m\u001b[33mrun_manager\u001b[39m\u001b[33m\"\u001b[39m):\n\u001b[32m-> \u001b[39m\u001b[32m1089\u001b[39m     result = \u001b[38;5;28;43mself\u001b[39;49m\u001b[43m.\u001b[49m\u001b[43m_generate\u001b[49m\u001b[43m(\u001b[49m\n\u001b[32m   1090\u001b[39m \u001b[43m        \u001b[49m\u001b[43mmessages\u001b[49m\u001b[43m,\u001b[49m\u001b[43m \u001b[49m\u001b[43mstop\u001b[49m\u001b[43m=\u001b[49m\u001b[43mstop\u001b[49m\u001b[43m,\u001b[49m\u001b[43m \u001b[49m\u001b[43mrun_manager\u001b[49m\u001b[43m=\u001b[49m\u001b[43mrun_manager\u001b[49m\u001b[43m,\u001b[49m\u001b[43m \u001b[49m\u001b[43m*\u001b[49m\u001b[43m*\u001b[49m\u001b[43mkwargs\u001b[49m\n\u001b[32m   1091\u001b[39m \u001b[43m    \u001b[49m\u001b[43m)\u001b[49m\n\u001b[32m   1092\u001b[39m \u001b[38;5;28;01melse\u001b[39;00m:\n\u001b[32m   1093\u001b[39m     result = \u001b[38;5;28mself\u001b[39m._generate(messages, stop=stop, **kwargs)\n",
      "\u001b[36mFile \u001b[39m\u001b[32m~/Documents/docs/BIA/AgenticAIAug2025/bia_coding/.venv/lib/python3.13/site-packages/langchain_groq/chat_models.py:533\u001b[39m, in \u001b[36mChatGroq._generate\u001b[39m\u001b[34m(self, messages, stop, run_manager, **kwargs)\u001b[39m\n\u001b[32m    528\u001b[39m message_dicts, params = \u001b[38;5;28mself\u001b[39m._create_message_dicts(messages, stop)\n\u001b[32m    529\u001b[39m params = {\n\u001b[32m    530\u001b[39m     **params,\n\u001b[32m    531\u001b[39m     **kwargs,\n\u001b[32m    532\u001b[39m }\n\u001b[32m--> \u001b[39m\u001b[32m533\u001b[39m response = \u001b[38;5;28;43mself\u001b[39;49m\u001b[43m.\u001b[49m\u001b[43mclient\u001b[49m\u001b[43m.\u001b[49m\u001b[43mcreate\u001b[49m\u001b[43m(\u001b[49m\u001b[43mmessages\u001b[49m\u001b[43m=\u001b[49m\u001b[43mmessage_dicts\u001b[49m\u001b[43m,\u001b[49m\u001b[43m \u001b[49m\u001b[43m*\u001b[49m\u001b[43m*\u001b[49m\u001b[43mparams\u001b[49m\u001b[43m)\u001b[49m\n\u001b[32m    534\u001b[39m \u001b[38;5;28;01mreturn\u001b[39;00m \u001b[38;5;28mself\u001b[39m._create_chat_result(response, params)\n",
      "\u001b[36mFile \u001b[39m\u001b[32m~/Documents/docs/BIA/AgenticAIAug2025/bia_coding/.venv/lib/python3.13/site-packages/groq/resources/chat/completions.py:448\u001b[39m, in \u001b[36mCompletions.create\u001b[39m\u001b[34m(self, messages, model, compound_custom, documents, exclude_domains, frequency_penalty, function_call, functions, include_domains, include_reasoning, logit_bias, logprobs, max_completion_tokens, max_tokens, metadata, n, parallel_tool_calls, presence_penalty, reasoning_effort, reasoning_format, response_format, search_settings, seed, service_tier, stop, store, stream, temperature, tool_choice, tools, top_logprobs, top_p, user, extra_headers, extra_query, extra_body, timeout)\u001b[39m\n\u001b[32m    238\u001b[39m \u001b[38;5;28;01mdef\u001b[39;00m\u001b[38;5;250m \u001b[39m\u001b[34mcreate\u001b[39m(\n\u001b[32m    239\u001b[39m     \u001b[38;5;28mself\u001b[39m,\n\u001b[32m    240\u001b[39m     *,\n\u001b[32m   (...)\u001b[39m\u001b[32m    295\u001b[39m     timeout: \u001b[38;5;28mfloat\u001b[39m | httpx.Timeout | \u001b[38;5;28;01mNone\u001b[39;00m | NotGiven = NOT_GIVEN,\n\u001b[32m    296\u001b[39m ) -> ChatCompletion | Stream[ChatCompletionChunk]:\n\u001b[32m    297\u001b[39m \u001b[38;5;250m    \u001b[39m\u001b[33;03m\"\"\"\u001b[39;00m\n\u001b[32m    298\u001b[39m \u001b[33;03m    Creates a model response for the given chat conversation.\u001b[39;00m\n\u001b[32m    299\u001b[39m \n\u001b[32m   (...)\u001b[39m\u001b[32m    446\u001b[39m \u001b[33;03m      timeout: Override the client-level default timeout for this request, in seconds\u001b[39;00m\n\u001b[32m    447\u001b[39m \u001b[33;03m    \"\"\"\u001b[39;00m\n\u001b[32m--> \u001b[39m\u001b[32m448\u001b[39m     \u001b[38;5;28;01mreturn\u001b[39;00m \u001b[38;5;28;43mself\u001b[39;49m\u001b[43m.\u001b[49m\u001b[43m_post\u001b[49m\u001b[43m(\u001b[49m\n\u001b[32m    449\u001b[39m \u001b[43m        \u001b[49m\u001b[33;43m\"\u001b[39;49m\u001b[33;43m/openai/v1/chat/completions\u001b[39;49m\u001b[33;43m\"\u001b[39;49m\u001b[43m,\u001b[49m\n\u001b[32m    450\u001b[39m \u001b[43m        \u001b[49m\u001b[43mbody\u001b[49m\u001b[43m=\u001b[49m\u001b[43mmaybe_transform\u001b[49m\u001b[43m(\u001b[49m\n\u001b[32m    451\u001b[39m \u001b[43m            \u001b[49m\u001b[43m{\u001b[49m\n\u001b[32m    452\u001b[39m \u001b[43m                \u001b[49m\u001b[33;43m\"\u001b[39;49m\u001b[33;43mmessages\u001b[39;49m\u001b[33;43m\"\u001b[39;49m\u001b[43m:\u001b[49m\u001b[43m \u001b[49m\u001b[43mmessages\u001b[49m\u001b[43m,\u001b[49m\n\u001b[32m    453\u001b[39m \u001b[43m                \u001b[49m\u001b[33;43m\"\u001b[39;49m\u001b[33;43mmodel\u001b[39;49m\u001b[33;43m\"\u001b[39;49m\u001b[43m:\u001b[49m\u001b[43m \u001b[49m\u001b[43mmodel\u001b[49m\u001b[43m,\u001b[49m\n\u001b[32m    454\u001b[39m \u001b[43m                \u001b[49m\u001b[33;43m\"\u001b[39;49m\u001b[33;43mcompound_custom\u001b[39;49m\u001b[33;43m\"\u001b[39;49m\u001b[43m:\u001b[49m\u001b[43m \u001b[49m\u001b[43mcompound_custom\u001b[49m\u001b[43m,\u001b[49m\n\u001b[32m    455\u001b[39m \u001b[43m                \u001b[49m\u001b[33;43m\"\u001b[39;49m\u001b[33;43mdocuments\u001b[39;49m\u001b[33;43m\"\u001b[39;49m\u001b[43m:\u001b[49m\u001b[43m \u001b[49m\u001b[43mdocuments\u001b[49m\u001b[43m,\u001b[49m\n\u001b[32m    456\u001b[39m \u001b[43m                \u001b[49m\u001b[33;43m\"\u001b[39;49m\u001b[33;43mexclude_domains\u001b[39;49m\u001b[33;43m\"\u001b[39;49m\u001b[43m:\u001b[49m\u001b[43m \u001b[49m\u001b[43mexclude_domains\u001b[49m\u001b[43m,\u001b[49m\n\u001b[32m    457\u001b[39m \u001b[43m                \u001b[49m\u001b[33;43m\"\u001b[39;49m\u001b[33;43mfrequency_penalty\u001b[39;49m\u001b[33;43m\"\u001b[39;49m\u001b[43m:\u001b[49m\u001b[43m \u001b[49m\u001b[43mfrequency_penalty\u001b[49m\u001b[43m,\u001b[49m\n\u001b[32m    458\u001b[39m \u001b[43m                \u001b[49m\u001b[33;43m\"\u001b[39;49m\u001b[33;43mfunction_call\u001b[39;49m\u001b[33;43m\"\u001b[39;49m\u001b[43m:\u001b[49m\u001b[43m \u001b[49m\u001b[43mfunction_call\u001b[49m\u001b[43m,\u001b[49m\n\u001b[32m    459\u001b[39m \u001b[43m                \u001b[49m\u001b[33;43m\"\u001b[39;49m\u001b[33;43mfunctions\u001b[39;49m\u001b[33;43m\"\u001b[39;49m\u001b[43m:\u001b[49m\u001b[43m \u001b[49m\u001b[43mfunctions\u001b[49m\u001b[43m,\u001b[49m\n\u001b[32m    460\u001b[39m \u001b[43m                \u001b[49m\u001b[33;43m\"\u001b[39;49m\u001b[33;43minclude_domains\u001b[39;49m\u001b[33;43m\"\u001b[39;49m\u001b[43m:\u001b[49m\u001b[43m \u001b[49m\u001b[43minclude_domains\u001b[49m\u001b[43m,\u001b[49m\n\u001b[32m    461\u001b[39m \u001b[43m                \u001b[49m\u001b[33;43m\"\u001b[39;49m\u001b[33;43minclude_reasoning\u001b[39;49m\u001b[33;43m\"\u001b[39;49m\u001b[43m:\u001b[49m\u001b[43m \u001b[49m\u001b[43minclude_reasoning\u001b[49m\u001b[43m,\u001b[49m\n\u001b[32m    462\u001b[39m \u001b[43m                \u001b[49m\u001b[33;43m\"\u001b[39;49m\u001b[33;43mlogit_bias\u001b[39;49m\u001b[33;43m\"\u001b[39;49m\u001b[43m:\u001b[49m\u001b[43m \u001b[49m\u001b[43mlogit_bias\u001b[49m\u001b[43m,\u001b[49m\n\u001b[32m    463\u001b[39m \u001b[43m                \u001b[49m\u001b[33;43m\"\u001b[39;49m\u001b[33;43mlogprobs\u001b[39;49m\u001b[33;43m\"\u001b[39;49m\u001b[43m:\u001b[49m\u001b[43m \u001b[49m\u001b[43mlogprobs\u001b[49m\u001b[43m,\u001b[49m\n\u001b[32m    464\u001b[39m \u001b[43m                \u001b[49m\u001b[33;43m\"\u001b[39;49m\u001b[33;43mmax_completion_tokens\u001b[39;49m\u001b[33;43m\"\u001b[39;49m\u001b[43m:\u001b[49m\u001b[43m \u001b[49m\u001b[43mmax_completion_tokens\u001b[49m\u001b[43m,\u001b[49m\n\u001b[32m    465\u001b[39m \u001b[43m                \u001b[49m\u001b[33;43m\"\u001b[39;49m\u001b[33;43mmax_tokens\u001b[39;49m\u001b[33;43m\"\u001b[39;49m\u001b[43m:\u001b[49m\u001b[43m \u001b[49m\u001b[43mmax_tokens\u001b[49m\u001b[43m,\u001b[49m\n\u001b[32m    466\u001b[39m \u001b[43m                \u001b[49m\u001b[33;43m\"\u001b[39;49m\u001b[33;43mmetadata\u001b[39;49m\u001b[33;43m\"\u001b[39;49m\u001b[43m:\u001b[49m\u001b[43m \u001b[49m\u001b[43mmetadata\u001b[49m\u001b[43m,\u001b[49m\n\u001b[32m    467\u001b[39m \u001b[43m                \u001b[49m\u001b[33;43m\"\u001b[39;49m\u001b[33;43mn\u001b[39;49m\u001b[33;43m\"\u001b[39;49m\u001b[43m:\u001b[49m\u001b[43m \u001b[49m\u001b[43mn\u001b[49m\u001b[43m,\u001b[49m\n\u001b[32m    468\u001b[39m \u001b[43m                \u001b[49m\u001b[33;43m\"\u001b[39;49m\u001b[33;43mparallel_tool_calls\u001b[39;49m\u001b[33;43m\"\u001b[39;49m\u001b[43m:\u001b[49m\u001b[43m \u001b[49m\u001b[43mparallel_tool_calls\u001b[49m\u001b[43m,\u001b[49m\n\u001b[32m    469\u001b[39m \u001b[43m                \u001b[49m\u001b[33;43m\"\u001b[39;49m\u001b[33;43mpresence_penalty\u001b[39;49m\u001b[33;43m\"\u001b[39;49m\u001b[43m:\u001b[49m\u001b[43m \u001b[49m\u001b[43mpresence_penalty\u001b[49m\u001b[43m,\u001b[49m\n\u001b[32m    470\u001b[39m \u001b[43m                \u001b[49m\u001b[33;43m\"\u001b[39;49m\u001b[33;43mreasoning_effort\u001b[39;49m\u001b[33;43m\"\u001b[39;49m\u001b[43m:\u001b[49m\u001b[43m \u001b[49m\u001b[43mreasoning_effort\u001b[49m\u001b[43m,\u001b[49m\n\u001b[32m    471\u001b[39m \u001b[43m                \u001b[49m\u001b[33;43m\"\u001b[39;49m\u001b[33;43mreasoning_format\u001b[39;49m\u001b[33;43m\"\u001b[39;49m\u001b[43m:\u001b[49m\u001b[43m \u001b[49m\u001b[43mreasoning_format\u001b[49m\u001b[43m,\u001b[49m\n\u001b[32m    472\u001b[39m \u001b[43m                \u001b[49m\u001b[33;43m\"\u001b[39;49m\u001b[33;43mresponse_format\u001b[39;49m\u001b[33;43m\"\u001b[39;49m\u001b[43m:\u001b[49m\u001b[43m \u001b[49m\u001b[43mresponse_format\u001b[49m\u001b[43m,\u001b[49m\n\u001b[32m    473\u001b[39m \u001b[43m                \u001b[49m\u001b[33;43m\"\u001b[39;49m\u001b[33;43msearch_settings\u001b[39;49m\u001b[33;43m\"\u001b[39;49m\u001b[43m:\u001b[49m\u001b[43m \u001b[49m\u001b[43msearch_settings\u001b[49m\u001b[43m,\u001b[49m\n\u001b[32m    474\u001b[39m \u001b[43m                \u001b[49m\u001b[33;43m\"\u001b[39;49m\u001b[33;43mseed\u001b[39;49m\u001b[33;43m\"\u001b[39;49m\u001b[43m:\u001b[49m\u001b[43m \u001b[49m\u001b[43mseed\u001b[49m\u001b[43m,\u001b[49m\n\u001b[32m    475\u001b[39m \u001b[43m                \u001b[49m\u001b[33;43m\"\u001b[39;49m\u001b[33;43mservice_tier\u001b[39;49m\u001b[33;43m\"\u001b[39;49m\u001b[43m:\u001b[49m\u001b[43m \u001b[49m\u001b[43mservice_tier\u001b[49m\u001b[43m,\u001b[49m\n\u001b[32m    476\u001b[39m \u001b[43m                \u001b[49m\u001b[33;43m\"\u001b[39;49m\u001b[33;43mstop\u001b[39;49m\u001b[33;43m\"\u001b[39;49m\u001b[43m:\u001b[49m\u001b[43m \u001b[49m\u001b[43mstop\u001b[49m\u001b[43m,\u001b[49m\n\u001b[32m    477\u001b[39m \u001b[43m                \u001b[49m\u001b[33;43m\"\u001b[39;49m\u001b[33;43mstore\u001b[39;49m\u001b[33;43m\"\u001b[39;49m\u001b[43m:\u001b[49m\u001b[43m \u001b[49m\u001b[43mstore\u001b[49m\u001b[43m,\u001b[49m\n\u001b[32m    478\u001b[39m \u001b[43m                \u001b[49m\u001b[33;43m\"\u001b[39;49m\u001b[33;43mstream\u001b[39;49m\u001b[33;43m\"\u001b[39;49m\u001b[43m:\u001b[49m\u001b[43m \u001b[49m\u001b[43mstream\u001b[49m\u001b[43m,\u001b[49m\n\u001b[32m    479\u001b[39m \u001b[43m                \u001b[49m\u001b[33;43m\"\u001b[39;49m\u001b[33;43mtemperature\u001b[39;49m\u001b[33;43m\"\u001b[39;49m\u001b[43m:\u001b[49m\u001b[43m \u001b[49m\u001b[43mtemperature\u001b[49m\u001b[43m,\u001b[49m\n\u001b[32m    480\u001b[39m \u001b[43m                \u001b[49m\u001b[33;43m\"\u001b[39;49m\u001b[33;43mtool_choice\u001b[39;49m\u001b[33;43m\"\u001b[39;49m\u001b[43m:\u001b[49m\u001b[43m \u001b[49m\u001b[43mtool_choice\u001b[49m\u001b[43m,\u001b[49m\n\u001b[32m    481\u001b[39m \u001b[43m                \u001b[49m\u001b[33;43m\"\u001b[39;49m\u001b[33;43mtools\u001b[39;49m\u001b[33;43m\"\u001b[39;49m\u001b[43m:\u001b[49m\u001b[43m \u001b[49m\u001b[43mtools\u001b[49m\u001b[43m,\u001b[49m\n\u001b[32m    482\u001b[39m \u001b[43m                \u001b[49m\u001b[33;43m\"\u001b[39;49m\u001b[33;43mtop_logprobs\u001b[39;49m\u001b[33;43m\"\u001b[39;49m\u001b[43m:\u001b[49m\u001b[43m \u001b[49m\u001b[43mtop_logprobs\u001b[49m\u001b[43m,\u001b[49m\n\u001b[32m    483\u001b[39m \u001b[43m                \u001b[49m\u001b[33;43m\"\u001b[39;49m\u001b[33;43mtop_p\u001b[39;49m\u001b[33;43m\"\u001b[39;49m\u001b[43m:\u001b[49m\u001b[43m \u001b[49m\u001b[43mtop_p\u001b[49m\u001b[43m,\u001b[49m\n\u001b[32m    484\u001b[39m \u001b[43m                \u001b[49m\u001b[33;43m\"\u001b[39;49m\u001b[33;43muser\u001b[39;49m\u001b[33;43m\"\u001b[39;49m\u001b[43m:\u001b[49m\u001b[43m \u001b[49m\u001b[43muser\u001b[49m\u001b[43m,\u001b[49m\n\u001b[32m    485\u001b[39m \u001b[43m            \u001b[49m\u001b[43m}\u001b[49m\u001b[43m,\u001b[49m\n\u001b[32m    486\u001b[39m \u001b[43m            \u001b[49m\u001b[43mcompletion_create_params\u001b[49m\u001b[43m.\u001b[49m\u001b[43mCompletionCreateParams\u001b[49m\u001b[43m,\u001b[49m\n\u001b[32m    487\u001b[39m \u001b[43m        \u001b[49m\u001b[43m)\u001b[49m\u001b[43m,\u001b[49m\n\u001b[32m    488\u001b[39m \u001b[43m        \u001b[49m\u001b[43moptions\u001b[49m\u001b[43m=\u001b[49m\u001b[43mmake_request_options\u001b[49m\u001b[43m(\u001b[49m\n\u001b[32m    489\u001b[39m \u001b[43m            \u001b[49m\u001b[43mextra_headers\u001b[49m\u001b[43m=\u001b[49m\u001b[43mextra_headers\u001b[49m\u001b[43m,\u001b[49m\u001b[43m \u001b[49m\u001b[43mextra_query\u001b[49m\u001b[43m=\u001b[49m\u001b[43mextra_query\u001b[49m\u001b[43m,\u001b[49m\u001b[43m \u001b[49m\u001b[43mextra_body\u001b[49m\u001b[43m=\u001b[49m\u001b[43mextra_body\u001b[49m\u001b[43m,\u001b[49m\u001b[43m \u001b[49m\u001b[43mtimeout\u001b[49m\u001b[43m=\u001b[49m\u001b[43mtimeout\u001b[49m\n\u001b[32m    490\u001b[39m \u001b[43m        \u001b[49m\u001b[43m)\u001b[49m\u001b[43m,\u001b[49m\n\u001b[32m    491\u001b[39m \u001b[43m        \u001b[49m\u001b[43mcast_to\u001b[49m\u001b[43m=\u001b[49m\u001b[43mChatCompletion\u001b[49m\u001b[43m,\u001b[49m\n\u001b[32m    492\u001b[39m \u001b[43m        \u001b[49m\u001b[43mstream\u001b[49m\u001b[43m=\u001b[49m\u001b[43mstream\u001b[49m\u001b[43m \u001b[49m\u001b[38;5;129;43;01mor\u001b[39;49;00m\u001b[43m \u001b[49m\u001b[38;5;28;43;01mFalse\u001b[39;49;00m\u001b[43m,\u001b[49m\n\u001b[32m    493\u001b[39m \u001b[43m        \u001b[49m\u001b[43mstream_cls\u001b[49m\u001b[43m=\u001b[49m\u001b[43mStream\u001b[49m\u001b[43m[\u001b[49m\u001b[43mChatCompletionChunk\u001b[49m\u001b[43m]\u001b[49m\u001b[43m,\u001b[49m\n\u001b[32m    494\u001b[39m \u001b[43m    \u001b[49m\u001b[43m)\u001b[49m\n",
      "\u001b[36mFile \u001b[39m\u001b[32m~/Documents/docs/BIA/AgenticAIAug2025/bia_coding/.venv/lib/python3.13/site-packages/groq/_base_client.py:1242\u001b[39m, in \u001b[36mSyncAPIClient.post\u001b[39m\u001b[34m(self, path, cast_to, body, options, files, stream, stream_cls)\u001b[39m\n\u001b[32m   1228\u001b[39m \u001b[38;5;28;01mdef\u001b[39;00m\u001b[38;5;250m \u001b[39m\u001b[34mpost\u001b[39m(\n\u001b[32m   1229\u001b[39m     \u001b[38;5;28mself\u001b[39m,\n\u001b[32m   1230\u001b[39m     path: \u001b[38;5;28mstr\u001b[39m,\n\u001b[32m   (...)\u001b[39m\u001b[32m   1237\u001b[39m     stream_cls: \u001b[38;5;28mtype\u001b[39m[_StreamT] | \u001b[38;5;28;01mNone\u001b[39;00m = \u001b[38;5;28;01mNone\u001b[39;00m,\n\u001b[32m   1238\u001b[39m ) -> ResponseT | _StreamT:\n\u001b[32m   1239\u001b[39m     opts = FinalRequestOptions.construct(\n\u001b[32m   1240\u001b[39m         method=\u001b[33m\"\u001b[39m\u001b[33mpost\u001b[39m\u001b[33m\"\u001b[39m, url=path, json_data=body, files=to_httpx_files(files), **options\n\u001b[32m   1241\u001b[39m     )\n\u001b[32m-> \u001b[39m\u001b[32m1242\u001b[39m     \u001b[38;5;28;01mreturn\u001b[39;00m cast(ResponseT, \u001b[38;5;28;43mself\u001b[39;49m\u001b[43m.\u001b[49m\u001b[43mrequest\u001b[49m\u001b[43m(\u001b[49m\u001b[43mcast_to\u001b[49m\u001b[43m,\u001b[49m\u001b[43m \u001b[49m\u001b[43mopts\u001b[49m\u001b[43m,\u001b[49m\u001b[43m \u001b[49m\u001b[43mstream\u001b[49m\u001b[43m=\u001b[49m\u001b[43mstream\u001b[49m\u001b[43m,\u001b[49m\u001b[43m \u001b[49m\u001b[43mstream_cls\u001b[49m\u001b[43m=\u001b[49m\u001b[43mstream_cls\u001b[49m\u001b[43m)\u001b[49m)\n",
      "\u001b[36mFile \u001b[39m\u001b[32m~/Documents/docs/BIA/AgenticAIAug2025/bia_coding/.venv/lib/python3.13/site-packages/groq/_base_client.py:1044\u001b[39m, in \u001b[36mSyncAPIClient.request\u001b[39m\u001b[34m(self, cast_to, options, stream, stream_cls)\u001b[39m\n\u001b[32m   1041\u001b[39m             err.response.read()\n\u001b[32m   1043\u001b[39m         log.debug(\u001b[33m\"\u001b[39m\u001b[33mRe-raising status error\u001b[39m\u001b[33m\"\u001b[39m)\n\u001b[32m-> \u001b[39m\u001b[32m1044\u001b[39m         \u001b[38;5;28;01mraise\u001b[39;00m \u001b[38;5;28mself\u001b[39m._make_status_error_from_response(err.response) \u001b[38;5;28;01mfrom\u001b[39;00m\u001b[38;5;250m \u001b[39m\u001b[38;5;28;01mNone\u001b[39;00m\n\u001b[32m   1046\u001b[39m     \u001b[38;5;28;01mbreak\u001b[39;00m\n\u001b[32m   1048\u001b[39m \u001b[38;5;28;01massert\u001b[39;00m response \u001b[38;5;129;01mis\u001b[39;00m \u001b[38;5;129;01mnot\u001b[39;00m \u001b[38;5;28;01mNone\u001b[39;00m, \u001b[33m\"\u001b[39m\u001b[33mcould not resolve response (should never happen)\u001b[39m\u001b[33m\"\u001b[39m\n",
      "\u001b[31mBadRequestError\u001b[39m: Error code: 400 - {'error': {'message': \"Failed to call a function. Please adjust your prompt. See 'failed_generation' for more details.\", 'type': 'invalid_request_error', 'code': 'tool_use_failed', 'failed_generation': '<tool-use>{\"tool_call\":{\"id\":\"q9j12l76c\",\"type\":\"function\",\"function\":{\"name\":\"tavily_search_results_json\"},\"parameters\":{\"query\":\"what is the meaning of Hinduism?\"}}</tool-use>'}}",
      "During task with name 'chatbot' and id 'eba8c2da-52f2-0460-befc-320a1cecb32a'"
     ]
    }
   ],
   "source": [
    "user_input = \"who is modi?\"\n",
    "\n",
    "# The config is the **second positional argument** to stream() or invoke()!\n",
    "events = graph.stream(\n",
    "    {\"messages\": [{\"role\": \"user\", \"content\": user_input}]},\n",
    "    config,\n",
    "    stream_mode=\"values\",\n",
    ")\n",
    "\n",
    "for event in events:\n",
    "    event[\"messages\"][-1].pretty_print()"
   ]
  },
  {
   "cell_type": "code",
   "execution_count": null,
   "metadata": {},
   "outputs": [
    {
     "name": "stdout",
     "output_type": "stream",
     "text": [
      "================================\u001b[1m Human Message \u001b[0m=================================\n",
      "\n",
      "what is his age?\n",
      "==================================\u001b[1m Ai Message \u001b[0m==================================\n",
      "Tool Calls:\n",
      "  tavily_search_results_json (hqpp4efb2)\n",
      " Call ID: hqpp4efb2\n",
      "  Args:\n",
      "    query: what is narendra modi's age\n",
      "=================================\u001b[1m Tool Message \u001b[0m=================================\n",
      "Name: tavily_search_results_json\n",
      "\n",
      "[{\"title\": \"Narendra Modi - Wikipedia\", \"url\": \"https://en.wikipedia.org/wiki/Narendra_Modi\", \"content\": \"| General Secretary (Organisation) of the Bharatiya Janata Party |\\n| In office 5 January 1998( 7 October 2001 |\\n| Preceded by | Kushabhau Thakre |\\n| Succeeded by | Sanjay Joshi |\\n|  |\\n| Personal details |\\n| Born | Narendra Damodardas Modi (1950-09-17) 17 September 1950 (age 75) Vadnagar, Bombay State, India |\\n| Political party | Bharatiya Janata Party (since 1985) |\\n| Spouse | Jashodaben Modi ​ ​ (m.1968; sep.1971)​ ( |\\n| Residence(s) | 7, Lok Kalyan Marg, New Delhi |\", \"score\": 0.8815438}, {\"title\": \"Narendra Modi | Biography, Career, & Facts - Britannica\", \"url\": \"https://www.britannica.com/biography/Narendra-Modi\", \"content\": \"The Editors of Encyclopaedia Britannica\\n\\n Last Updated: Sep 16, 2025 •Article History\\n\\n Table of Contents \\n\\n Table of Contents  Ask the Chatbot \\n\\n Quick Facts\\n\\nIn full: Narendra Damodardas Modi _(Show more)_\\n\\nBorn: September 17, 1950, Vadnagar, India (age 74)_(Show more)_\\n\\nTitle / Office: prime minister (2014-), India_(Show more)_\\n\\nPolitical Affiliation: Bharatiya Janata PartyRashtriya Swayamsevak Sangh_(Show more)_\", \"score\": 0.875031}]\n",
      "==================================\u001b[1m Ai Message \u001b[0m==================================\n",
      "\n",
      "Narendra Modi is 75 years old.\n"
     ]
    }
   ],
   "source": [
    "user_input = \"what is his age?\"\n",
    "\n",
    "# The config is the **second positional argument** to stream() or invoke()!\n",
    "events = graph.stream(\n",
    "    {\"messages\": [{\"role\": \"user\", \"content\": user_input}]},\n",
    "    config,\n",
    "    stream_mode=\"values\",\n",
    ")\n",
    "\n",
    "for event in events:\n",
    "    event[\"messages\"][-1].pretty_print()"
   ]
  },
  {
   "cell_type": "code",
   "execution_count": null,
   "metadata": {},
   "outputs": [
    {
     "name": "stdout",
     "output_type": "stream",
     "text": [
      "================================\u001b[1m Human Message \u001b[0m=================================\n",
      "\n",
      "I am staying in Bangalore, BTM 2nd stage. Every Saturday I used to Play cricket and read some stateof the art paper in AI\n",
      "==================================\u001b[1m Ai Message \u001b[0m==================================\n",
      "Tool Calls:\n",
      "  tavily_search_results_json (call_rw83)\n",
      " Call ID: call_rw83\n",
      "  Args:\n",
      "    query: What are some state-of-the-art papers in AI?\n",
      "=================================\u001b[1m Tool Message \u001b[0m=================================\n",
      "Name: tavily_search_results_json\n",
      "\n",
      "[{\"url\": \"https://www.sciencedirect.com/science/article/pii/S2452414X21000248\", \"content\": \"Since 1993, AI has achieved some milestone results. Due to the wide application of the BP algorithm, the neural network has developed rapidly. ... applicable scenarios, and challenges. This paper conducts a state-of-the-art review of the extant and upcoming research on AI. Artificial intelligence is an interdisciplinary subject that involves\"}, {\"url\": \"https://www.sciencedirect.com/science/article/pii/S2468502X24000160\", \"content\": \"Although some previous surveys have covered the use of AI in a general sense for visualization (Wu et al., 2021), to the best of our knowledge, no study has focused on a comprehensive review of GenAI methods used in visualization. This survey extensively reviews the literature and summarizes the AI-powered generation methods developed for\"}]\n",
      "==================================\u001b[1m Ai Message \u001b[0m==================================\n",
      "\n",
      "It sounds like you have interesting hobbies!  Do you have a favorite AI concept or application you've read about?\n"
     ]
    }
   ],
   "source": [
    "user_input = \"I am staying in Bangalore, BTM 2nd stage. Every Saturday I used to Play cricket and read some stateof the art paper in AI\"\n",
    "\n",
    "\n",
    "# The config is the **second positional argument** to stream() or invoke()!\n",
    "events = graph.stream(\n",
    "    {\"messages\": [{\"role\": \"user\", \"content\": user_input}]},\n",
    "    config,\n",
    "    stream_mode=\"values\",\n",
    ")\n",
    "for event in events:\n",
    "    event[\"messages\"][-1].pretty_print()"
   ]
  },
  {
   "cell_type": "code",
   "execution_count": null,
   "metadata": {},
   "outputs": [
    {
     "name": "stdout",
     "output_type": "stream",
     "text": [
      "================================\u001b[1m Human Message \u001b[0m=================================\n",
      "\n",
      "do you remember my name?\n",
      "==================================\u001b[1m Ai Message \u001b[0m==================================\n",
      "\n",
      "Yes, your name is Amit.\n"
     ]
    }
   ],
   "source": [
    "user_input = \"do you remember my name?\"\n",
    "\n",
    "\n",
    "# The config is the **second positional argument** to stream() or invoke()!\n",
    "events = graph.stream(\n",
    "    {\"messages\": [{\"role\": \"user\", \"content\": user_input}]},\n",
    "    config,\n",
    "    stream_mode=\"values\",\n",
    ")\n",
    "for event in events:\n",
    "    event[\"messages\"][-1].pretty_print()"
   ]
  },
  {
   "cell_type": "code",
   "execution_count": null,
   "metadata": {},
   "outputs": [
    {
     "data": {
      "text/plain": [
       "StateSnapshot(values={'messages': [HumanMessage(content='Hi there! My name is Amit', additional_kwargs={}, response_metadata={}, id='65c1ec77-4960-4b3d-a701-7020aab50c56'), AIMessage(content='', additional_kwargs={'tool_calls': [{'id': 'call_vcpm', 'function': {'arguments': '{\"query\":\"What is your name?\"}', 'name': 'tavily_search_results_json'}, 'type': 'function'}]}, response_metadata={'token_usage': {'completion_tokens': 89, 'prompt_tokens': 988, 'total_tokens': 1077, 'completion_time': 0.161818182, 'prompt_time': 0.040582389, 'queue_time': 0.05072071699999999, 'total_time': 0.202400571}, 'model_name': 'gemma2-9b-it', 'system_fingerprint': 'fp_10c08bf97d', 'finish_reason': 'tool_calls', 'logprobs': None}, id='run-bb474c85-9649-4af0-8a3c-65e9911a0ad5-0', tool_calls=[{'name': 'tavily_search_results_json', 'args': {'query': 'What is your name?'}, 'id': 'call_vcpm', 'type': 'tool_call'}], usage_metadata={'input_tokens': 988, 'output_tokens': 89, 'total_tokens': 1077}), ToolMessage(content='[{\"url\": \"https://howtosayguide.com/how-to-say-what-is-your-name-in-english/\", \"content\": \"How to Say “What is Your Name?” in English: A Comprehensive Guide Formal Ways to Ask “What is Your Name?” Informal Ways to Ask “What is Your Name?” Formal Ways to Ask “What is Your Name?” “May I ask your name, please?” – This phrase is a polite and formal way to ask someone for their name. “Would you kindly share your name?” – Another way to ask for someone’s name politely, this phrase denotes a gentle request and is often used in formal settings such as interviews or official meetings. Informal Ways to Ask “What is Your Name?” “What’s your name?” – This is the most straightforward and widely used way to ask for someone’s name in an informal setting.\"}, {\"url\": \"https://7esl.com/whats-your-name/\", \"content\": \"Related Links:\\\\n2 thoughts on “35 Creative Ways to Ask and Answer “What’s Your Name?””\\\\nWhat is your name\\\\nPlease call me Guldenka\\\\nLeave a Comment Cancel reply\\\\nComment\\\\nΔ\\\\nFree Courses\\\\nLevel Tests\\\\nCompany\\\\nFollow Us Another Way to Say » 35 Creative Ways to Ask and Answer “What’s Your Name?”\\\\n35 Creative Ways to Ask and Answer “What’s Your Name?”\\\\nNames are an important part of our identity. Table of Contents\\\\nDifferent Ways to Ask “What’s Your Name?”\\\\nPin\\\\nFormal Ways to Ask “What’s Your Name?”\\\\n Asking and answering the question “What’s your name?” can be a complex social interaction; therefore, understanding the nuances of asking and responding to this question can help you make a good first impression.\\\\n Formal Ways to Answer “What’s Your Name?”\\\\nFormal settings, such as a job interview or an office setting, may call for you to answer the question with a bit more formality.\"}]', name='tavily_search_results_json', id='50696a28-be66-4995-9d06-fb0ce425405a', tool_call_id='call_vcpm', artifact={'query': 'What is your name?', 'follow_up_questions': None, 'answer': None, 'images': [], 'results': [{'title': 'How to Say \"What is Your Name?\" in English: A Comprehensive Guide', 'url': 'https://howtosayguide.com/how-to-say-what-is-your-name-in-english/', 'content': 'How to Say “What is Your Name?” in English: A Comprehensive Guide Formal Ways to Ask “What is Your Name?” Informal Ways to Ask “What is Your Name?” Formal Ways to Ask “What is Your Name?” “May I ask your name, please?” – This phrase is a polite and formal way to ask someone for their name. “Would you kindly share your name?” – Another way to ask for someone’s name politely, this phrase denotes a gentle request and is often used in formal settings such as interviews or official meetings. Informal Ways to Ask “What is Your Name?” “What’s your name?” – This is the most straightforward and widely used way to ask for someone’s name in an informal setting.', 'score': 0.73891455, 'raw_content': None}, {'title': '35 Creative Ways to Ask and Answer \"What\\'s Your Name?\" - 7ESL', 'url': 'https://7esl.com/whats-your-name/', 'content': 'Related Links:\\n2 thoughts on “35 Creative Ways to Ask and Answer “What’s Your Name?””\\nWhat is your name\\nPlease call me Guldenka\\nLeave a Comment Cancel reply\\nComment\\nΔ\\nFree Courses\\nLevel Tests\\nCompany\\nFollow Us Another Way to Say » 35 Creative Ways to Ask and Answer “What’s Your Name?”\\n35 Creative Ways to Ask and Answer “What’s Your Name?”\\nNames are an important part of our identity. Table of Contents\\nDifferent Ways to Ask “What’s Your Name?”\\nPin\\nFormal Ways to Ask “What’s Your Name?”\\n Asking and answering the question “What’s your name?” can be a complex social interaction; therefore, understanding the nuances of asking and responding to this question can help you make a good first impression.\\n Formal Ways to Answer “What’s Your Name?”\\nFormal settings, such as a job interview or an office setting, may call for you to answer the question with a bit more formality.', 'score': 0.6326168, 'raw_content': None}], 'response_time': 1.43}), AIMessage(content='My name is Amit.', additional_kwargs={}, response_metadata={'token_usage': {'completion_tokens': 7, 'prompt_tokens': 1503, 'total_tokens': 1510, 'completion_time': 0.012727273, 'prompt_time': 0.048781683, 'queue_time': 0.022249144000000005, 'total_time': 0.061508956}, 'model_name': 'gemma2-9b-it', 'system_fingerprint': 'fp_10c08bf97d', 'finish_reason': 'stop', 'logprobs': None}, id='run-a693b2c5-9f14-4093-93de-040835470332-0', usage_metadata={'input_tokens': 1503, 'output_tokens': 7, 'total_tokens': 1510}), HumanMessage(content='I am staying in Bangalore, BTM 2nd stage. Every Saturday I used to Play cricket and read some stateof the art paper in AI', additional_kwargs={}, response_metadata={}, id='e39838ef-b8c7-4251-9454-420c77c0fb59'), AIMessage(content='', additional_kwargs={'tool_calls': [{'id': 'call_rw83', 'function': {'arguments': '{\"query\":\"What are some state-of-the-art papers in AI?\"}', 'name': 'tavily_search_results_json'}, 'type': 'function'}]}, response_metadata={'token_usage': {'completion_tokens': 62, 'prompt_tokens': 1548, 'total_tokens': 1610, 'completion_time': 0.112727273, 'prompt_time': 0.065846308, 'queue_time': 0.024691057999999988, 'total_time': 0.178573581}, 'model_name': 'gemma2-9b-it', 'system_fingerprint': 'fp_10c08bf97d', 'finish_reason': 'tool_calls', 'logprobs': None}, id='run-071c5ac4-5f7f-420d-8a6a-a6bd9d510891-0', tool_calls=[{'name': 'tavily_search_results_json', 'args': {'query': 'What are some state-of-the-art papers in AI?'}, 'id': 'call_rw83', 'type': 'tool_call'}], usage_metadata={'input_tokens': 1548, 'output_tokens': 62, 'total_tokens': 1610}), ToolMessage(content='[{\"url\": \"https://www.sciencedirect.com/science/article/pii/S2452414X21000248\", \"content\": \"Since 1993, AI has achieved some milestone results. Due to the wide application of the BP algorithm, the neural network has developed rapidly. ... applicable scenarios, and challenges. This paper conducts a state-of-the-art review of the extant and upcoming research on AI. Artificial intelligence is an interdisciplinary subject that involves\"}, {\"url\": \"https://www.sciencedirect.com/science/article/pii/S2468502X24000160\", \"content\": \"Although some previous surveys have covered the use of AI in a general sense for visualization (Wu et al., 2021), to the best of our knowledge, no study has focused on a comprehensive review of GenAI methods used in visualization. This survey extensively reviews the literature and summarizes the AI-powered generation methods developed for\"}]', name='tavily_search_results_json', id='1b20ed92-ce71-4bfc-9331-749bc1fcadc4', tool_call_id='call_rw83', artifact={'query': 'What are some state-of-the-art papers in AI?', 'follow_up_questions': None, 'answer': None, 'images': [], 'results': [{'title': 'Study on artificial intelligence: The state of the art and future prospects', 'url': 'https://www.sciencedirect.com/science/article/pii/S2452414X21000248', 'content': 'Since 1993, AI has achieved some milestone results. Due to the wide application of the BP algorithm, the neural network has developed rapidly. ... applicable scenarios, and challenges. This paper conducts a state-of-the-art review of the extant and upcoming research on AI. Artificial intelligence is an interdisciplinary subject that involves', 'score': 0.69274646, 'raw_content': None}, {'title': 'Generative AI for visualization: State of the art and future directions ...', 'url': 'https://www.sciencedirect.com/science/article/pii/S2468502X24000160', 'content': 'Although some previous surveys have covered the use of AI in a general sense for visualization (Wu et al., 2021), to the best of our knowledge, no study has focused on a comprehensive review of GenAI methods used in visualization. This survey extensively reviews the literature and summarizes the AI-powered generation methods developed for', 'score': 0.2839531, 'raw_content': None}], 'response_time': 1.97}), AIMessage(content=\"It sounds like you have interesting hobbies!  Do you have a favorite AI concept or application you've read about? \\n\", additional_kwargs={}, response_metadata={'token_usage': {'completion_tokens': 28, 'prompt_tokens': 1856, 'total_tokens': 1884, 'completion_time': 0.050909091, 'prompt_time': 0.077837069, 'queue_time': 0.027052186000000006, 'total_time': 0.12874616}, 'model_name': 'gemma2-9b-it', 'system_fingerprint': 'fp_10c08bf97d', 'finish_reason': 'stop', 'logprobs': None}, id='run-5075ab69-8dc3-49be-b8b5-3161848f6f18-0', usage_metadata={'input_tokens': 1856, 'output_tokens': 28, 'total_tokens': 1884}), HumanMessage(content='what usually I do on Saturday?', additional_kwargs={}, response_metadata={}, id='18d40096-9d2a-4fd2-837a-4c6b8769ea52'), AIMessage(content='You said that every Saturday you play cricket and read state-of-the-art papers in AI. \\n\\n\\n\\n', additional_kwargs={}, response_metadata={'token_usage': {'completion_tokens': 25, 'prompt_tokens': 1899, 'total_tokens': 1924, 'completion_time': 0.045454545, 'prompt_time': 0.060879344, 'queue_time': 0.026001312999999998, 'total_time': 0.106333889}, 'model_name': 'gemma2-9b-it', 'system_fingerprint': 'fp_10c08bf97d', 'finish_reason': 'stop', 'logprobs': None}, id='run-19d34948-1ec3-4093-903c-71a44b177883-0', usage_metadata={'input_tokens': 1899, 'output_tokens': 25, 'total_tokens': 1924}), HumanMessage(content='what usually I do on Saturday?', additional_kwargs={}, response_metadata={}, id='26405066-36ad-4173-91d8-fb859845d8f8'), AIMessage(content='You said you play cricket and read state-of-the-art AI papers every Saturday. \\n', additional_kwargs={}, response_metadata={'token_usage': {'completion_tokens': 23, 'prompt_tokens': 1939, 'total_tokens': 1962, 'completion_time': 0.041818182, 'prompt_time': 0.080703009, 'queue_time': 0.026459745999999992, 'total_time': 0.122521191}, 'model_name': 'gemma2-9b-it', 'system_fingerprint': 'fp_10c08bf97d', 'finish_reason': 'stop', 'logprobs': None}, id='run-c251fb68-ca46-4db2-b437-d2e3a9ddcf1f-0', usage_metadata={'input_tokens': 1939, 'output_tokens': 23, 'total_tokens': 1962}), HumanMessage(content='what usually I do on Saturday?', additional_kwargs={}, response_metadata={}, id='b7b6b430-5ba9-4008-b98a-0d27bbcba173'), AIMessage(content='On Saturdays, you play cricket and read state-of-the-art AI papers. \\n', additional_kwargs={}, response_metadata={'token_usage': {'completion_tokens': 22, 'prompt_tokens': 1977, 'total_tokens': 1999, 'completion_time': 0.04, 'prompt_time': 0.073855277, 'queue_time': 0.024493109, 'total_time': 0.113855277}, 'model_name': 'gemma2-9b-it', 'system_fingerprint': 'fp_10c08bf97d', 'finish_reason': 'stop', 'logprobs': None}, id='run-b6caa66f-e768-4b62-af79-0142fedc09c7-0', usage_metadata={'input_tokens': 1977, 'output_tokens': 22, 'total_tokens': 1999}), HumanMessage(content='what is my name?', additional_kwargs={}, response_metadata={}, id='86c05175-5dfa-4a60-8ccc-e6509532dfe4'), AIMessage(content='Your name is Amit.  \\n', additional_kwargs={}, response_metadata={'token_usage': {'completion_tokens': 9, 'prompt_tokens': 2012, 'total_tokens': 2021, 'completion_time': 0.016363636, 'prompt_time': 0.103366279, 'queue_time': 0.027086725000000006, 'total_time': 0.119729915}, 'model_name': 'gemma2-9b-it', 'system_fingerprint': 'fp_10c08bf97d', 'finish_reason': 'stop', 'logprobs': None}, id='run-2d2422cd-441b-4816-a627-8fe1807d8f73-0', usage_metadata={'input_tokens': 2012, 'output_tokens': 9, 'total_tokens': 2021}), HumanMessage(content='what usually I do on Saturday?', additional_kwargs={}, response_metadata={}, id='30bc0d2d-819f-43f0-a47e-06986aca0258'), AIMessage(content='You told me you play cricket and read state-of-the-art AI papers every Saturday. \\n', additional_kwargs={}, response_metadata={'token_usage': {'completion_tokens': 24, 'prompt_tokens': 2036, 'total_tokens': 2060, 'completion_time': 0.043636364, 'prompt_time': 0.065413649, 'queue_time': 0.026717335999999994, 'total_time': 0.109050013}, 'model_name': 'gemma2-9b-it', 'system_fingerprint': 'fp_10c08bf97d', 'finish_reason': 'stop', 'logprobs': None}, id='run-64b7ff28-db38-4c61-aa38-bae590433239-0', usage_metadata={'input_tokens': 2036, 'output_tokens': 24, 'total_tokens': 2060}), HumanMessage(content='what usually I do on Saturday?', additional_kwargs={}, response_metadata={}, id='dfed4834-5577-4f81-abdc-c5dbf56cce94'), AIMessage(content='You said you play cricket and read state-of-the-art AI papers every Saturday.  \\n', additional_kwargs={}, response_metadata={'token_usage': {'completion_tokens': 23, 'prompt_tokens': 2075, 'total_tokens': 2098, 'completion_time': 0.041818182, 'prompt_time': 0.066826455, 'queue_time': 0.025951139999999998, 'total_time': 0.108644637}, 'model_name': 'gemma2-9b-it', 'system_fingerprint': 'fp_10c08bf97d', 'finish_reason': 'stop', 'logprobs': None}, id='run-c34febde-3119-4a17-b5f7-f23c6fe78263-0', usage_metadata={'input_tokens': 2075, 'output_tokens': 23, 'total_tokens': 2098}), HumanMessage(content='what usually I do on Saturday?', additional_kwargs={}, response_metadata={}, id='bcfe6ea8-9ea2-44c0-a5b3-e9de0fb17807'), AIMessage(content='You play cricket and read state-of-the-art AI papers every Saturday.  \\n\\n\\n\\n', additional_kwargs={}, response_metadata={'token_usage': {'completion_tokens': 21, 'prompt_tokens': 2113, 'total_tokens': 2134, 'completion_time': 0.038181818, 'prompt_time': 0.088944884, 'queue_time': 0.025610672, 'total_time': 0.127126702}, 'model_name': 'gemma2-9b-it', 'system_fingerprint': 'fp_10c08bf97d', 'finish_reason': 'stop', 'logprobs': None}, id='run-e322d5ba-f876-4335-932e-409b66f6cda5-0', usage_metadata={'input_tokens': 2113, 'output_tokens': 21, 'total_tokens': 2134}), HumanMessage(content='do you remember my name?', additional_kwargs={}, response_metadata={}, id='c04fb014-98d6-43c0-97e6-b552c2fc6c0c'), AIMessage(content='Yes, your name is Amit.  \\n\\n\\n\\n', additional_kwargs={}, response_metadata={'token_usage': {'completion_tokens': 11, 'prompt_tokens': 2148, 'total_tokens': 2159, 'completion_time': 0.02, 'prompt_time': 0.083049311, 'queue_time': 0.026438505, 'total_time': 0.103049311}, 'model_name': 'gemma2-9b-it', 'system_fingerprint': 'fp_10c08bf97d', 'finish_reason': 'stop', 'logprobs': None}, id='run-b2e0fd4c-6ea7-44f6-8fff-6c45be5d85eb-0', usage_metadata={'input_tokens': 2148, 'output_tokens': 11, 'total_tokens': 2159})]}, next=(), config={'configurable': {'thread_id': '1', 'checkpoint_ns': '', 'checkpoint_id': '1efde2bd-4d34-6a58-8020-74d9589112aa'}}, metadata={'source': 'loop', 'writes': {'chatbot': {'messages': [AIMessage(content='Yes, your name is Amit.  \\n\\n\\n\\n', additional_kwargs={}, response_metadata={'token_usage': {'completion_tokens': 11, 'prompt_tokens': 2148, 'total_tokens': 2159, 'completion_time': 0.02, 'prompt_time': 0.083049311, 'queue_time': 0.026438505, 'total_time': 0.103049311}, 'model_name': 'gemma2-9b-it', 'system_fingerprint': 'fp_10c08bf97d', 'finish_reason': 'stop', 'logprobs': None}, id='run-b2e0fd4c-6ea7-44f6-8fff-6c45be5d85eb-0', usage_metadata={'input_tokens': 2148, 'output_tokens': 11, 'total_tokens': 2159})]}}, 'thread_id': '1', 'step': 32, 'parents': {}}, created_at='2025-01-29T10:28:50.735139+00:00', parent_config={'configurable': {'thread_id': '1', 'checkpoint_ns': '', 'checkpoint_id': '1efde2bd-4830-6eb2-801f-1356b40f7309'}}, tasks=())"
      ]
     },
     "execution_count": 59,
     "metadata": {},
     "output_type": "execute_result"
    }
   ],
   "source": [
    "snapshot = graph.get_state(config)\n",
    "snapshot"
   ]
  },
  {
   "cell_type": "markdown",
   "metadata": {},
   "source": [
    "Chatbot with Human in the loop"
   ]
  },
  {
   "cell_type": "code",
   "execution_count": 92,
   "metadata": {},
   "outputs": [],
   "source": [
    "from langgraph.types import Command, interrupt\n",
    "from langchain_core.tools import tool"
   ]
  },
  {
   "cell_type": "code",
   "execution_count": 94,
   "metadata": {},
   "outputs": [
    {
     "data": {
      "image/png": "[encoded data removed]",
      "text/plain": [
       "<IPython.core.display.Image object>"
      ]
     },
     "metadata": {},
     "output_type": "display_data"
    }
   ],
   "source": [
    "class State(TypedDict):\n",
    "    messages:Annotated[List, add_messages]\n",
    "\n",
    "graph_builder = StateGraph(State)\n",
    "\n",
    "@tool\n",
    "def human_assistance(query: str) -> str:\n",
    "    \"\"\"Request assistance from a human.\"\"\"\n",
    "    human_response = interrupt({\"query\": query})\n",
    "    return human_response[\"data\"]\n",
    "\n",
    "\n",
    "search = TavilySearchResults(max_results=2)\n",
    "llm = ChatGroq(model = \"gemma2-9b-it\")\n",
    "tools = [search,human_assistance]\n",
    "llm_with_bind_tools = llm.bind_tools(tools)\n",
    "\n",
    "def chat_model(state):\n",
    "    message= llm_with_bind_tools.invoke(state['messages'])\n",
    "    assert len(message.tool_calls) <= 1\n",
    "    return {\"messages\": [message]}\n",
    "\n",
    "graph_builder.add_node(\"chatbot\", chat_model)\n",
    "tools = ToolNode(tools)\n",
    "graph_builder.add_node(\"tools\",tools)\n",
    "graph_builder.add_edge(START,\"chatbot\")\n",
    "graph_builder.add_conditional_edges(\"chatbot\",tools_condition)\n",
    "graph_builder.add_edge(\"tools\",\"chatbot\")\n",
    "# workflow_graph.add_edge(\"chatbot\",END)\n",
    "\n",
    "# graph = graph_builder.compile(interrupt_before=[\"tools\"],checkpointer = memory)\n",
    "graph = graph_builder.compile(checkpointer = memory)\n",
    "\n",
    "from IPython.display import Image, display\n",
    "\n",
    "try:\n",
    "    display(Image(graph.get_graph().draw_mermaid_png()))\n",
    "except Exception:\n",
    "    # This requires some extra dependencies and is optional\n",
    "    pass\n",
    "\n",
    "\n"
   ]
  },
  {
   "cell_type": "code",
   "execution_count": 67,
   "metadata": {},
   "outputs": [
    {
     "name": "stdout",
     "output_type": "stream",
     "text": [
      "================================\u001b[1m Human Message \u001b[0m=================================\n",
      "\n",
      "I need some expert guidance for building an AI agent. Could you request assistance for me?\n",
      "==================================\u001b[1m Ai Message \u001b[0m==================================\n",
      "Tool Calls:\n",
      "  human_assistance (call_rwxe)\n",
      " Call ID: call_rwxe\n",
      "  Args:\n",
      "    query: I need some expert guidance for building an AI agent. Could you please connect me with someone who specializes in this area?\n"
     ]
    }
   ],
   "source": [
    "user_input = \"I need some expert guidance for building an AI agent. Could you request assistance for me?\"\n",
    "config = {\"configurable\": {\"thread_id\": \"1\"}}\n",
    "\n",
    "events = graph.stream(\n",
    "    {\"messages\": [{\"role\": \"user\", \"content\": user_input}]},\n",
    "    config,\n",
    "    stream_mode=\"values\",\n",
    ")\n",
    "for event in events:\n",
    "    if \"messages\" in event:\n",
    "        event[\"messages\"][-1].pretty_print()"
   ]
  },
  {
   "cell_type": "code",
   "execution_count": 69,
   "metadata": {},
   "outputs": [],
   "source": [
    "snapshot = graph.get_state(config=config)"
   ]
  },
  {
   "cell_type": "code",
   "execution_count": 70,
   "metadata": {},
   "outputs": [
    {
     "data": {
      "text/plain": [
       "('tools',)"
      ]
     },
     "execution_count": 70,
     "metadata": {},
     "output_type": "execute_result"
    }
   ],
   "source": [
    "snapshot.next"
   ]
  },
  {
   "cell_type": "code",
   "execution_count": 71,
   "metadata": {},
   "outputs": [
    {
     "name": "stdout",
     "output_type": "stream",
     "text": [
      "==================================\u001b[1m Ai Message \u001b[0m==================================\n",
      "Tool Calls:\n",
      "  human_assistance (call_rwxe)\n",
      " Call ID: call_rwxe\n",
      "  Args:\n",
      "    query: I need some expert guidance for building an AI agent. Could you please connect me with someone who specializes in this area?\n",
      "=================================\u001b[1m Tool Message \u001b[0m=================================\n",
      "Name: human_assistance\n",
      "\n",
      "We, the experts are here to help! We'd recommend you check out LangGraph to build your agent. It's much more reliable and extensible than simple autonomous agents.\n",
      "==================================\u001b[1m Ai Message \u001b[0m==================================\n",
      "\n",
      "Thank you for that information! It sounds like LangGraph could be a great resource for building your AI agent.  Would you like me to find some more information about LangGraph for you?\n"
     ]
    }
   ],
   "source": [
    "human_response = (\n",
    "    \"We, the experts are here to help! We'd recommend you check out LangGraph to build your agent.\"\n",
    "    \" It's much more reliable and extensible than simple autonomous agents.\"\n",
    ")\n",
    "\n",
    "human_command = Command(resume={\"data\": human_response})\n",
    "\n",
    "events = graph.stream(human_command, config, stream_mode=\"values\")\n",
    "for event in events:\n",
    "    if \"messages\" in event:\n",
    "        event[\"messages\"][-1].pretty_print()"
   ]
  },
  {
   "cell_type": "code",
   "execution_count": null,
   "metadata": {},
   "outputs": [],
   "source": []
  },
  {
   "cell_type": "markdown",
   "metadata": {},
   "source": [
    "Customization"
   ]
  },
  {
   "cell_type": "code",
   "execution_count": 97,
   "metadata": {},
   "outputs": [],
   "source": [
    "from typing import Annotated\n",
    "\n",
    "from typing_extensions import TypedDict\n",
    "\n",
    "from langgraph.graph.message import add_messages\n",
    "\n",
    "\n",
    "class State(TypedDict):\n",
    "    messages: Annotated[list, add_messages]\n",
    "    name: str\n",
    "    birthday: str"
   ]
  },
  {
   "cell_type": "code",
   "execution_count": 58,
   "metadata": {},
   "outputs": [],
   "source": [
    "from langchain_core.messages import ToolMessage\n",
    "from langchain_core.tools import InjectedToolCallId, tool\n",
    "\n",
    "from langgraph.types import Command, interrupt\n",
    "\n",
    "\n",
    "@tool\n",
    "# Note that because we are generating a ToolMessage for a state update, we\n",
    "# generally require the ID of the corresponding tool call. We can use\n",
    "# LangChain's InjectedToolCallId to signal that this argument should not\n",
    "# be revealed to the model in the tool's schema.\n",
    "def human_assistance(\n",
    "    name: str, birthday: str, tool_call_id: Annotated[str, InjectedToolCallId]\n",
    ") -> str:\n",
    "    \"\"\"Request assistance from a human.\"\"\"\n",
    "    human_response = interrupt(\n",
    "        {\n",
    "            \"question\": \"Is this correct?\",\n",
    "            \"name\": name,\n",
    "            \"birthday\": birthday,\n",
    "        },\n",
    "    )\n",
    "    # If the information is correct, update the state as-is.\n",
    "    if human_response.get(\"correct\", \"\").lower().startswith(\"y\"):\n",
    "        verified_name = name\n",
    "        verified_birthday = birthday\n",
    "        response = \"Correct\"\n",
    "    # Otherwise, receive information from the human reviewer.\n",
    "    else:\n",
    "        verified_name = human_response.get(\"name\", name)\n",
    "        verified_birthday = human_response.get(\"birthday\", birthday)\n",
    "        response = f\"Made a correction: {human_response}\"\n",
    "\n",
    "    # This time we explicitly update the state with a ToolMessage inside\n",
    "    # the tool.\n",
    "    state_update = {\n",
    "        \"name\": verified_name,\n",
    "        \"birthday\": verified_birthday,\n",
    "        \"messages\": [ToolMessage(response, tool_call_id=tool_call_id)],\n",
    "    }\n",
    "    # We return a Command object in the tool to update our state.\n",
    "    return Command(update=state_update)"
   ]
  },
  {
   "cell_type": "code",
   "execution_count": 59,
   "metadata": {},
   "outputs": [],
   "source": [
    "\n",
    "from langchain_community.tools.tavily_search import TavilySearchResults\n",
    "\n",
    "from langgraph.checkpoint.memory import MemorySaver\n",
    "from langgraph.graph import StateGraph, START, END\n",
    "from langgraph.prebuilt import ToolNode, tools_condition\n",
    "\n",
    "\n",
    "tool = TavilySearchResults(max_results=2)\n",
    "tools = [tool, human_assistance]\n",
    "llm = ChatGroq(model = \"gemma2-9b-it\")\n",
    "llm_with_tools = llm.bind_tools(tools)\n",
    "\n",
    "\n",
    "def chatbot(state: State):\n",
    "    message = llm_with_tools.invoke(state[\"messages\"])\n",
    "    assert len(message.tool_calls) <= 1\n",
    "    return {\"messages\": [message]}\n",
    "\n",
    "\n",
    "graph_builder = StateGraph(State)\n",
    "graph_builder.add_node(\"chatbot\", chatbot)\n",
    "\n",
    "tool_node = ToolNode(tools=tools)\n",
    "graph_builder.add_node(\"tools\", tool_node)\n",
    "\n",
    "graph_builder.add_conditional_edges(\n",
    "    \"chatbot\",\n",
    "    tools_condition,\n",
    ")\n",
    "graph_builder.add_edge(\"tools\", \"chatbot\")\n",
    "graph_builder.add_edge(START, \"chatbot\")\n",
    "\n",
    "memory = MemorySaver()\n",
    "graph = graph_builder.compile(checkpointer=memory)"
   ]
  },
  {
   "cell_type": "code",
   "execution_count": 60,
   "metadata": {},
   "outputs": [
    {
     "data": {
      "image/png": "[encoded data removed]",
      "text/plain": [
       "<IPython.core.display.Image object>"
      ]
     },
     "metadata": {},
     "output_type": "display_data"
    }
   ],
   "source": [
    "from IPython.display import display,Image\n",
    "display(Image(graph.get_graph().draw_mermaid_png()))"
   ]
  },
  {
   "cell_type": "code",
   "execution_count": 61,
   "metadata": {},
   "outputs": [
    {
     "name": "stdout",
     "output_type": "stream",
     "text": [
      "================================\u001b[1m Human Message \u001b[0m=================================\n",
      "\n",
      "Can you look up when LangGraph was released? When you have the answer, use the human_assistance tool for review.\n",
      "==================================\u001b[1m Ai Message \u001b[0m==================================\n",
      "Tool Calls:\n",
      "  tavily_search_results_json (q2jpd9s10)\n",
      " Call ID: q2jpd9s10\n",
      "  Args:\n",
      "    query: When was LangGraph released?\n",
      "=================================\u001b[1m Tool Message \u001b[0m=================================\n",
      "Name: tavily_search_results_json\n",
      "\n",
      "[{\"title\": \"LangChain Introduces LangGraph Studio: The First Agent IDE for ...\", \"url\": \"https://www.marktechpost.com/2024/08/03/langchain-introduces-langgraph-studio-the-first-agent-ide-for-visualizing-interacting-with-and-debugging-complex-agentic-applications/\", \"content\": \"LangGraph, launched in January 2023, is a highly controllable, low-level orchestration framework for building agentic applications. Since its inception, it has undergone significant improvements, leading to a stable 0.1 release in June. LangGraph features a persistence layer enabling human-in-the-loop interactions and excels at building complex applications requiring domain-specific cognitive architecture.\", \"score\": 0.8458536}, {\"title\": \"LangGraph Studio: The first agent IDE - LangChain Blog\", \"url\": \"https://blog.langchain.com/langgraph-studio-the-first-agent-ide/\", \"content\": \"In January 2023, we launched LangGraph, a highly controllable, low-level orchestration framework for building agentic applications. Since then, we've seen teams build more complex agentic applications for production; in turn, we've heavily invested in LangGraph, leading to a stable 0.1 release this past June.\", \"score\": 0.7763013}]\n",
      "==================================\u001b[1m Ai Message \u001b[0m==================================\n",
      "Tool Calls:\n",
      "  human_assistance (qxvtv3bdk)\n",
      " Call ID: qxvtv3bdk\n",
      "  Args:\n",
      "    birthday: N/A\n",
      "    name: Bard Assistant\n"
     ]
    }
   ],
   "source": [
    "user_input = (\n",
    "    \"Can you look up when LangGraph was released? \"\n",
    "     \"When you have the answer, use the human_assistance tool for review.\"\n",
    "   \n",
    ")\n",
    "config = {\"configurable\": {\"thread_id\": \"3\"}}\n",
    "\n",
    "events = graph.stream(\n",
    "    {\"messages\": [{\"role\": \"user\", \"content\": user_input}]},\n",
    "    config,\n",
    "    stream_mode=\"values\",\n",
    ")\n",
    "for event in events:\n",
    "    if \"messages\" in event:\n",
    "        event[\"messages\"][-1].pretty_print()"
   ]
  },
  {
   "cell_type": "code",
   "execution_count": 62,
   "metadata": {},
   "outputs": [
    {
     "name": "stdout",
     "output_type": "stream",
     "text": [
      "==================================\u001b[1m Ai Message \u001b[0m==================================\n",
      "Tool Calls:\n",
      "  human_assistance (qxvtv3bdk)\n",
      " Call ID: qxvtv3bdk\n",
      "  Args:\n",
      "    birthday: N/A\n",
      "    name: Bard Assistant\n",
      "=================================\u001b[1m Tool Message \u001b[0m=================================\n",
      "Name: human_assistance\n",
      "\n",
      "Made a correction: {'name': 'LangGraph', 'birthday': 'Jan 17, 2024'}\n",
      "==================================\u001b[1m Ai Message \u001b[0m==================================\n",
      "\n",
      "LangGraph was released on Jan 17, 2024.\n"
     ]
    }
   ],
   "source": [
    "human_command = Command(\n",
    "    resume={\n",
    "        \"name\": \"LangGraph\",\n",
    "        \"birthday\": \"Jan 17, 2024\",\n",
    "    },\n",
    ")\n",
    "\n",
    "events = graph.stream(human_command, config, stream_mode=\"values\")\n",
    "for event in events:\n",
    "    if \"messages\" in event:\n",
    "        event[\"messages\"][-1].pretty_print()"
   ]
  },
  {
   "cell_type": "code",
   "execution_count": null,
   "metadata": {},
   "outputs": [],
   "source": [
    "#when to use command and when to use conditional edge?"
   ]
  }
 ],
 "metadata": {
  "kernelspec": {
   "display_name": ".venv",
   "language": "python",
   "name": "python3"
  },
  "language_info": {
   "codemirror_mode": {
    "name": "ipython",
    "version": 3
   },
   "file_extension": ".py",
   "mimetype": "text/x-python",
   "name": "python",
   "nbconvert_exporter": "python",
   "pygments_lexer": "ipython3",
   "version": "3.13.3"
  }
 },
 "nbformat": 4,
 "nbformat_minor": 2
}
